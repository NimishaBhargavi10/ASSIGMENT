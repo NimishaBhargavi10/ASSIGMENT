{
 "cells": [
  {
   "cell_type": "markdown",
   "metadata": {
    "colab_type": "text",
    "id": "view-in-github"
   },
   "source": [
    "<a href=\"https://colab.research.google.com/github/unt-iialab/INFO5731_Spring2020/blob/master/Assignments/INFO5731_Assignment_One.ipynb\" target=\"_parent\"><img src=\"https://colab.research.google.com/assets/colab-badge.svg\" alt=\"Open In Colab\"/></a>"
   ]
  },
  {
   "cell_type": "markdown",
   "metadata": {
    "colab_type": "text",
    "id": "Ryk8D1Q4Wsrp"
   },
   "source": [
    "# **INFO5731 Assignment One**"
   ]
  },
  {
   "cell_type": "markdown",
   "metadata": {
    "colab_type": "text",
    "id": "90_NR8c5XGWc"
   },
   "source": [
    "# Question 1\n",
    "\n",
    "(20 points). Write a Python program to generate 12 random numbers between 1 and 100. Sort the list of numbers in ascending order and print it out. Sort the list of numbers in descending order and print it out. Calculate the average for the group and print it out."
   ]
  },
  {
   "cell_type": "code",
   "execution_count": 2,
   "metadata": {
    "colab": {},
    "colab_type": "code",
    "id": "5QX6bJjGWXY9"
   },
   "outputs": [
    {
     "name": "stdout",
     "output_type": "stream",
     "text": [
      "generate 12 random numbers between 1 and 100: [94, 62, 52, 94, 100, 47, 6, 28, 97, 29, 50, 8]\n",
      "list of numbers in ascending order: [6, 8, 28, 29, 47, 50, 52, 62, 94, 94, 97, 100]\n",
      "list of numbers in descending order: [100, 97, 94, 94, 62, 52, 50, 47, 29, 28, 8, 6]\n",
      "average of the given list: 55.583333333333336\n"
     ]
    }
   ],
   "source": [
    "# Your code here\n",
    "import random\n",
    "def random_numbers(start,end,n):\n",
    "    final_result=[]\n",
    "    for k in range(n):\n",
    "        final_result.append(random.randint(start,end))\n",
    "    return final_result\n",
    "\n",
    "n=12\n",
    "start=1\n",
    "end=100\n",
    "\n",
    "list=random_numbers(start,end,n)\n",
    "print(\"generate 12 random numbers between 1 and 100:\", list)\n",
    "\n",
    "list.sort()\n",
    "print(\"list of numbers in ascending order:\",list)\n",
    "\n",
    "list.sort(reverse=True)\n",
    "print(\"list of numbers in descending order:\",list)\n",
    "\n",
    "average=sum(list)/len(list)\n",
    "print(\"average of the given list:\",average)\n",
    "\n",
    "\n",
    "\n"
   ]
  },
  {
   "cell_type": "markdown",
   "metadata": {
    "colab_type": "text",
    "id": "1F_PZdH9Sh49"
   },
   "source": [
    "# Question 2\n",
    "(25 points). Write a program that will do the following string formatting tasks:\n",
    "\n",
    "(1) Ask the user to enter two sentences.\n",
    "\n",
    "(2) Make each sentence into a list. Each element in the list should correspond to a word in the sentence. For example, if the sentence is \"Alas! Am I alive? This is my first python program\", the program should print out ['Alas, '!', 'Am', 'I', 'alive, '?', 'This', 'is', 'my', 'first', 'python', 'program'].\n",
    "\n",
    "(3) Compare the two sentences. Print out a list of words that occur in both sentences.\n",
    "\n",
    "(4) Remove any punctuation from the sentence and print it back out. It should remove at least the following characters, but it can remove more: period(“.”), comma (“,”), semicolon (“;”), and colon (“:”)\n",
    "\n",
    "(5) Count the number of vowels in the sentences. Print out each vowel and the number of times it appears in the sentences, such as: a:2, e:1, i:0, etc"
   ]
  },
  {
   "cell_type": "code",
   "execution_count": 1,
   "metadata": {
    "colab": {},
    "colab_type": "code",
    "id": "Y0oOSlsOS0cq"
   },
   "outputs": [
    {
     "name": "stderr",
     "output_type": "stream",
     "text": [
      "[nltk_data] Downloading package punkt to\n",
      "[nltk_data]     C:\\Users\\HP\\AppData\\Roaming\\nltk_data...\n",
      "[nltk_data]   Unzipping tokenizers\\punkt.zip.\n"
     ]
    },
    {
     "data": {
      "text/plain": [
       "True"
      ]
     },
     "execution_count": 1,
     "metadata": {},
     "output_type": "execute_result"
    }
   ],
   "source": [
    "# Your code here\n",
    "import nltk\n",
    "nltk.download('punkt')\n",
    "\n"
   ]
  },
  {
   "cell_type": "code",
   "execution_count": 7,
   "metadata": {},
   "outputs": [
    {
     "name": "stdout",
     "output_type": "stream",
     "text": [
      "Enter first sentence:I love watching animated movies\n",
      "Enter second sentence:Yesterday, I went to movie theatre to watch horror movie.\n",
      "['I', 'love', 'watching', 'animated', 'movies'] ['Yesterday', ',', 'I', 'went', 'to', 'movie', 'theatre', 'to', 'watch', 'horror', 'movie', '.']\n",
      "{'I'}\n",
      "['I', 'love', 'watching', 'animated', 'movies']\n",
      "['Yesterday', ',', 'I', 'went', 'to', 'movie', 'theatre', 'to', 'watch', 'horror', 'movie', '.']\n",
      "The vowels in the first sentence are: {'a': 3, 'e': 3, 'i': 4, 'o': 2, 'u': 0}\n",
      "The vowels in the second sentence are: {'a': 3, 'e': 7, 'i': 3, 'o': 6, 'u': 0}\n"
     ]
    }
   ],
   "source": [
    "sentence_1=str(input(\"Enter first sentence:\"))\n",
    "sentence_2=str(input(\"Enter second sentence:\"))\n",
    "import nltk\n",
    "string_1=nltk.word_tokenize(sentence_1)\n",
    "string_2=nltk.word_tokenize(sentence_2)\n",
    "print(string_1,string_2)\n",
    "print(set(string_1) & set(string_2))\n",
    "from nltk.tokenize import RegexpTokenizer\n",
    "tokenizer = RegexpTokenizer(r'\\w+')\n",
    "sen_1=tokenizer.tokenize(sentence_1)\n",
    "sen_2=tokenizer.tokenize(sentence_2)\n",
    "print(string_1)\n",
    "print(string_2)\n",
    "v1 = sentence_1.lower()\n",
    "v2 = sentence_2.lower()\n",
    "vowels_in_1 = {}\n",
    "vowels_in_2 = {}\n",
    "for k in \"aeiou\":\n",
    " number1 = v1.count(k)\n",
    " vowels_in_1[k] = number1\n",
    " number2 = v2.count(k)\n",
    " vowels_in_2[k] = number2\n",
    "print('The vowels in the first sentence are:', vowels_in_1)\n",
    "print('The vowels in the second sentence are:', vowels_in_2)\n"
   ]
  },
  {
   "cell_type": "markdown",
   "metadata": {
    "colab_type": "text",
    "id": "CmFoI4jDS9nx"
   },
   "source": [
    "# Question 3 \n",
    "\n",
    "(15 points). The formula that describes the volume V of a sphere with radius r is the following:\n",
    "\n",
    "$ V=\\frac{4}{3}\\ast\\ \\pi\\ast\\ r^3 $\n",
    "\n",
    "Write a program to calculate the value of V when r is in the range of 1–10. Output the result in the following format:\n",
    "\n",
    "\tr\tV\n",
    "\t1\t…\n",
    "\t2\t…\n",
    "\t3\t…\n"
   ]
  },
  {
   "cell_type": "code",
   "execution_count": 4,
   "metadata": {
    "colab": {},
    "colab_type": "code",
    "id": "pEyqeioAT95b"
   },
   "outputs": [
    {
     "name": "stdout",
     "output_type": "stream",
     "text": [
      "radius of the sphere r is: 1 volume of the sphere is: 4.1887902047863905\n",
      "radius of the sphere r is: 2 volume of the sphere is: 33.510321638291124\n",
      "radius of the sphere r is: 3 volume of the sphere is: 113.09733552923254\n",
      "radius of the sphere r is: 4 volume of the sphere is: 268.082573106329\n",
      "radius of the sphere r is: 5 volume of the sphere is: 523.5987755982989\n",
      "radius of the sphere r is: 6 volume of the sphere is: 904.7786842338603\n",
      "radius of the sphere r is: 7 volume of the sphere is: 1436.7550402417319\n",
      "radius of the sphere r is: 8 volume of the sphere is: 2144.660584850632\n",
      "radius of the sphere r is: 9 volume of the sphere is: 3053.6280592892786\n"
     ]
    }
   ],
   "source": [
    "# Your code here\n",
    "import math\n",
    "for k in range(1,10):\n",
    "    volume_of_sphere=(4/3)*math.pi*(k**3)\n",
    "    print(\"radius of the sphere r is:\", k ,\"volume of the sphere is:\",volume_of_sphere)\n",
    "\n"
   ]
  },
  {
   "cell_type": "markdown",
   "metadata": {
    "colab_type": "text",
    "id": "z3tBE7E-Xn5X"
   },
   "source": [
    "# Question 4\n",
    "\n",
    "(40 points). In the field of Data Science, data is often formatted as a comma-delimited (CSV) file, where each line in a file corresponds to a field's value. Refer to Chapter 9 (p. 106) for more information on comma-delimited files. To answer this question, you will need to download the file [Assignment1_denton_housing.csv](https://raw.githubusercontent.com/unt-iialab/info5731-spring2022/main/assignments/Assignment1_denton_housing.csv) included with this assignment. The file [Assignment1_denton_housing.csv](https://raw.githubusercontent.com/unt-iialab/info5731-spring2022/main/assignments/Assignment1_denton_housing.csv) contains statistics about housing in the city of Denton from 2008 to 2014. Write a program to implement the following questions.\n",
    "\n",
    "(1) (10 pts) Calculate the difference in the number of Occupied Housing Units from year to year and print it. The difference must be calculated for the consecutive years such as 2008-2009, 2009-2010 etc. Finally, print the values in the ascending order.\n",
    "\n",
    "(2) (10 pts) For all the years, calculate the percentage of housing units which are vacant an occupied. Print the results in the following format:\n",
    "\n",
    "Year Vacant Housing Units Occupied Housing Units\n",
    "\n",
    "    2008  30%   70%                          \n",
    "\t2009 ----- -----\n",
    "\t2010 ----- -----\n",
    "    2011 ----- -----\n",
    "\t2012 ----- -----\n",
    "    2013 ----- -----\n",
    "\t2014 ----- -----\n",
    "  \n",
    "  \n",
    "\n",
    "(3) (10 pts) Calculate and print the valued and years in which the highest number of housing units were vacant and occupied. Print the results in the following format:  \n",
    "\n",
    "                              Year\tValue\n",
    "\tVacant Housing Units\t  -----   -----\n",
    "\tOccupied Housing Units\t-----   -----\n",
    "\n",
    "(4) (10 pts) Calculate the harmonic mean of the total housing units and print it out. You can find the information about harmonic mean here: https://ncalculators.com/statistics/harmonic-mean-calculator.htm"
   ]
  },
  {
   "cell_type": "code",
   "execution_count": 10,
   "metadata": {
    "colab": {},
    "colab_type": "code",
    "id": "lqGYuHBhcsRH"
   },
   "outputs": [
    {
     "data": {
      "text/plain": [
       "[795, -5091, 303, -1404, -1565, -2622]"
      ]
     },
     "execution_count": 10,
     "metadata": {},
     "output_type": "execute_result"
    }
   ],
   "source": [
    "# Your code here\n",
    "import statistics\n",
    "import pandas as pd\n",
    "data = pd.read_csv(r'https://raw.githubusercontent.com/unt-iialab/info5731-spring2022/main/assignments/Assignment1_denton_housing.csv')\n",
    "houses_occupied = data[data['title_field'] == 'Occupied Housing Units'].sort_values(by=['year'])\n",
    "difference_value = [list(houses_occupied['value'].values)[loop] - list(houses_occupied['value'].values)[loop+1]\\\n",
    "for loop in range(len(houses_occupied)-1)]\n",
    "difference_value\n",
    "\n"
   ]
  },
  {
   "cell_type": "code",
   "execution_count": 11,
   "metadata": {},
   "outputs": [
    {
     "data": {
      "text/html": [
       "<div>\n",
       "<style scoped>\n",
       "    .dataframe tbody tr th:only-of-type {\n",
       "        vertical-align: middle;\n",
       "    }\n",
       "\n",
       "    .dataframe tbody tr th {\n",
       "        vertical-align: top;\n",
       "    }\n",
       "\n",
       "    .dataframe thead th {\n",
       "        text-align: right;\n",
       "    }\n",
       "</style>\n",
       "<table border=\"1\" class=\"dataframe\">\n",
       "  <thead>\n",
       "    <tr style=\"text-align: right;\">\n",
       "      <th></th>\n",
       "      <th>year</th>\n",
       "      <th>Vacant House</th>\n",
       "      <th>Occupied House</th>\n",
       "      <th>Percent of Vacant House</th>\n",
       "      <th>Percent of Occupied House</th>\n",
       "    </tr>\n",
       "  </thead>\n",
       "  <tbody>\n",
       "    <tr>\n",
       "      <th>0</th>\n",
       "      <td>2008</td>\n",
       "      <td>4483</td>\n",
       "      <td>36711</td>\n",
       "      <td>10.882653</td>\n",
       "      <td>89.117347</td>\n",
       "    </tr>\n",
       "    <tr>\n",
       "      <th>1</th>\n",
       "      <td>2009</td>\n",
       "      <td>3583</td>\n",
       "      <td>35916</td>\n",
       "      <td>9.071116</td>\n",
       "      <td>90.928884</td>\n",
       "    </tr>\n",
       "    <tr>\n",
       "      <th>2</th>\n",
       "      <td>2010</td>\n",
       "      <td>3635</td>\n",
       "      <td>41007</td>\n",
       "      <td>8.142556</td>\n",
       "      <td>91.857444</td>\n",
       "    </tr>\n",
       "    <tr>\n",
       "      <th>3</th>\n",
       "      <td>2011</td>\n",
       "      <td>4213</td>\n",
       "      <td>40704</td>\n",
       "      <td>9.379522</td>\n",
       "      <td>90.620478</td>\n",
       "    </tr>\n",
       "    <tr>\n",
       "      <th>4</th>\n",
       "      <td>2012</td>\n",
       "      <td>3013</td>\n",
       "      <td>42108</td>\n",
       "      <td>6.677600</td>\n",
       "      <td>93.322400</td>\n",
       "    </tr>\n",
       "    <tr>\n",
       "      <th>5</th>\n",
       "      <td>2013</td>\n",
       "      <td>4215</td>\n",
       "      <td>43673</td>\n",
       "      <td>8.801788</td>\n",
       "      <td>91.198212</td>\n",
       "    </tr>\n",
       "    <tr>\n",
       "      <th>6</th>\n",
       "      <td>2014</td>\n",
       "      <td>2814</td>\n",
       "      <td>46295</td>\n",
       "      <td>5.730111</td>\n",
       "      <td>94.269889</td>\n",
       "    </tr>\n",
       "  </tbody>\n",
       "</table>\n",
       "</div>"
      ],
      "text/plain": [
       "   year  Vacant House  Occupied House  Percent of Vacant House  \\\n",
       "0  2008          4483           36711                10.882653   \n",
       "1  2009          3583           35916                 9.071116   \n",
       "2  2010          3635           41007                 8.142556   \n",
       "3  2011          4213           40704                 9.379522   \n",
       "4  2012          3013           42108                 6.677600   \n",
       "5  2013          4215           43673                 8.801788   \n",
       "6  2014          2814           46295                 5.730111   \n",
       "\n",
       "   Percent of Occupied House  \n",
       "0                  89.117347  \n",
       "1                  90.928884  \n",
       "2                  91.857444  \n",
       "3                  90.620478  \n",
       "4                  93.322400  \n",
       "5                  91.198212  \n",
       "6                  94.269889  "
      ]
     },
     "execution_count": 11,
     "metadata": {},
     "output_type": "execute_result"
    }
   ],
   "source": [
    "unique_years = sorted(list(data['year'].unique()))\n",
    "houses_occupied = data[data['title_field'] == 'Occupied Housing Units'].sort_values(by=[\n",
    "'year'])\n",
    "vacant_houses = data[data['title_field'] == 'Vacant Housing Units'].sort_values(by=['year'])\n",
    "new_house_df = pd.DataFrame()\n",
    "new_house_df['year'] = unique_years\n",
    "new_house_df['Vacant House'] = vacant_houses['value'].values\n",
    "new_house_df['Occupied House'] = houses_occupied['value'].values\n",
    "new_house_df['Percent of Vacant House'] = [(new_house_df['Vacant House'][loop] * 100) /\n",
    "\\\n",
    "(new_house_df['Vacant House'][loop] + new_house_df['Occupied House']\n",
    "[loop])\\\n",
    "for loop in range(len(new_house_df))]\n",
    "new_house_df['Percent of Occupied House'] = [(new_house_df['Occupied House'][loop] * 100) /\\\n",
    "(new_house_df['Vacant House'][loop] + new_house_df['Occupied House']\n",
    "[loop])\\\n",
    "for loop in range(len(new_house_df))]\n",
    "new_house_df"
   ]
  },
  {
   "cell_type": "code",
   "execution_count": 12,
   "metadata": {},
   "outputs": [
    {
     "data": {
      "text/html": [
       "<div>\n",
       "<style scoped>\n",
       "    .dataframe tbody tr th:only-of-type {\n",
       "        vertical-align: middle;\n",
       "    }\n",
       "\n",
       "    .dataframe tbody tr th {\n",
       "        vertical-align: top;\n",
       "    }\n",
       "\n",
       "    .dataframe thead th {\n",
       "        text-align: right;\n",
       "    }\n",
       "</style>\n",
       "<table border=\"1\" class=\"dataframe\">\n",
       "  <thead>\n",
       "    <tr style=\"text-align: right;\">\n",
       "      <th></th>\n",
       "      <th>year</th>\n",
       "      <th>title_field</th>\n",
       "      <th>value</th>\n",
       "    </tr>\n",
       "  </thead>\n",
       "  <tbody>\n",
       "    <tr>\n",
       "      <th>2</th>\n",
       "      <td>2014</td>\n",
       "      <td>Occupied Housing Units</td>\n",
       "      <td>46295</td>\n",
       "    </tr>\n",
       "  </tbody>\n",
       "</table>\n",
       "</div>"
      ],
      "text/plain": [
       "   year             title_field  value\n",
       "2  2014  Occupied Housing Units  46295"
      ]
     },
     "execution_count": 12,
     "metadata": {},
     "output_type": "execute_result"
    }
   ],
   "source": [
    "maximum_vacant_houses = max(data[data['title_field'] == 'Vacant Housing Units'].value)\n",
    "vacant_houses = vacant_houses[vacant_houses['value'] == maximum_vacant_houses]\n",
    "vacant_houses\n",
    "maximum_occupied_houses = max(data[data['title_field'] == 'Occupied Housing Units'].value)\n",
    "houses_occupied = houses_occupied[houses_occupied['value'] == maximum_occupied_houses]\n",
    "houses_occupied"
   ]
  },
  {
   "cell_type": "code",
   "execution_count": 17,
   "metadata": {},
   "outputs": [
    {
     "name": "stdout",
     "output_type": "stream",
     "text": [
      "44398.28543969185\n"
     ]
    }
   ],
   "source": [
    "print(statistics.harmonic_mean(list(data[data['title_field'] == 'Total Housing Units'].\n",
    "value)))"
   ]
  }
 ],
 "metadata": {
  "colab": {
   "authorship_tag": "ABX9TyOAjsNCkNulTpzgRQbHdy3f",
   "collapsed_sections": [],
   "include_colab_link": true,
   "name": "INFO5731_Assignment_One.ipynb",
   "provenance": []
  },
  "kernelspec": {
   "display_name": "Python 3 (ipykernel)",
   "language": "python",
   "name": "python3"
  },
  "language_info": {
   "codemirror_mode": {
    "name": "ipython",
    "version": 3
   },
   "file_extension": ".py",
   "mimetype": "text/x-python",
   "name": "python",
   "nbconvert_exporter": "python",
   "pygments_lexer": "ipython3",
   "version": "3.9.12"
  }
 },
 "nbformat": 4,
 "nbformat_minor": 1
}
