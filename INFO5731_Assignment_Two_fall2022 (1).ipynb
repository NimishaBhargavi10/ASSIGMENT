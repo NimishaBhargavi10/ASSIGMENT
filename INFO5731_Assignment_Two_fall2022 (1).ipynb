{
 "cells": [
  {
   "cell_type": "markdown",
   "metadata": {
    "colab_type": "text",
    "id": "view-in-github"
   },
   "source": [
    "<a href=\"https://colab.research.google.com/github/unt-iialab/INFO5731_Spring2020/blob/master/Assignments/INFO5731_Assignment_Two.ipynb\" target=\"_parent\"><img src=\"https://colab.research.google.com/assets/colab-badge.svg\" alt=\"Open In Colab\"/></a>"
   ]
  },
  {
   "cell_type": "markdown",
   "metadata": {
    "colab_type": "text",
    "id": "USSdXHuqnwv9"
   },
   "source": [
    "# **INFO5731 Assignment Two**\n",
    "\n",
    "In this assignment, you will try to gather text data from open data source via web scraping or API. After that you need to clean the text data and syntactic analysis of the data."
   ]
  },
  {
   "cell_type": "markdown",
   "metadata": {
    "colab_type": "text",
    "id": "YWxodXh5n4xF"
   },
   "source": [
    "# **Question 1**"
   ]
  },
  {
   "cell_type": "markdown",
   "metadata": {
    "colab_type": "text",
    "id": "TenBkDJ5n95k"
   },
   "source": [
    "(40 points). Write a python program to collect text data from **either of the following sources** and save the data into a **csv file**:\n",
    "\n",
    "(1) Collect all the customer reviews of the product [Apple iPhone 11](https://www.amazon.com/Apple-iPhone-11-64GB-Unlocked/dp/B07ZPKF8RG/ref=sr_1_13?dchild=1&keywords=iphone+12&qid=1631721363&sr=8-13) on amazon.\n",
    "\n",
    "(2) Collect the top 10000 User Reviews of the film [Shang-Chi and the Legend of the Ten Rings](https://www.imdb.com/title/tt9376612/reviews?ref_=tt_sa_3) from IMDB.\n",
    "\n",
    "(3) Collect all the reviews of the top 100 most popular software from [G2](https://www.g2.com/) or [Capterra](https://www.capterra.com/)\n",
    "\n",
    "(4) Collect the abstracts of the top 10000 research papers by using the query [natural language processing](https://citeseerx.ist.psu.edu/search?q=natural+language+processing&submit.x=0&submit.y=0&sort=rlv&t=doc) from CiteSeerX.\n",
    "\n",
    "(5) Collect all the information of the 904 narrators in the [Densho Digital Repository](https://ddr.densho.org/narrators/).\n",
    "\n",
    "(6) Collect the top 10000 tweets by using hashtag [\"#blacklivesmatter\"](https://twitter.com/hashtag/blacklivesmatter) from Twitter. \n"
   ]
  },
  {
   "cell_type": "code",
   "execution_count": 6,
   "metadata": {
    "colab": {},
    "colab_type": "code",
    "id": "PuFPKhC0m1fd"
   },
   "outputs": [
    {
     "name": "stdout",
     "output_type": "stream",
     "text": [
      "processed 1000th page\n"
     ]
    },
    {
     "data": {
      "text/html": [
       "<div>\n",
       "<style scoped>\n",
       "    .dataframe tbody tr th:only-of-type {\n",
       "        vertical-align: middle;\n",
       "    }\n",
       "\n",
       "    .dataframe tbody tr th {\n",
       "        vertical-align: top;\n",
       "    }\n",
       "\n",
       "    .dataframe thead th {\n",
       "        text-align: right;\n",
       "    }\n",
       "</style>\n",
       "<table border=\"1\" class=\"dataframe\">\n",
       "  <thead>\n",
       "    <tr style=\"text-align: right;\">\n",
       "      <th></th>\n",
       "      <th>Reviewer</th>\n",
       "      <th>Rating</th>\n",
       "      <th>Summary</th>\n",
       "      <th>Description</th>\n",
       "    </tr>\n",
       "  </thead>\n",
       "  <tbody>\n",
       "    <tr>\n",
       "      <th>0</th>\n",
       "      <td>BGH</td>\n",
       "      <td>4.0</td>\n",
       "      <td>\\nSo far so good\\n</td>\n",
       "      <td>\\nI needed to replace my teens Iphone and abso...</td>\n",
       "    </tr>\n",
       "    <tr>\n",
       "      <th>1</th>\n",
       "      <td>Larry Hansen</td>\n",
       "      <td>4.0</td>\n",
       "      <td>\\nWorks great.\\n</td>\n",
       "      <td>\\nWas skeptical to get one a renewed iPhone . ...</td>\n",
       "    </tr>\n",
       "    <tr>\n",
       "      <th>2</th>\n",
       "      <td>Elijah C.</td>\n",
       "      <td>5.0</td>\n",
       "      <td>\\nSon lost his ☹\\n</td>\n",
       "      <td>\\nThis was a quick and easy replacement for my...</td>\n",
       "    </tr>\n",
       "    <tr>\n",
       "      <th>3</th>\n",
       "      <td>Michele70</td>\n",
       "      <td>5.0</td>\n",
       "      <td>\\nWould definitely recommend buying one of the...</td>\n",
       "      <td>\\nSo I bought this thing and I have zero probl...</td>\n",
       "    </tr>\n",
       "    <tr>\n",
       "      <th>4</th>\n",
       "      <td>J. R.</td>\n",
       "      <td>4.0</td>\n",
       "      <td>\\ndissapointed, but relieved ;)\\n</td>\n",
       "      <td>\\nphone had a little glitch when i frist recie...</td>\n",
       "    </tr>\n",
       "    <tr>\n",
       "      <th>5</th>\n",
       "      <td>Bri</td>\n",
       "      <td>5.0</td>\n",
       "      <td>\\nWent from 6S to this\\n</td>\n",
       "      <td>\\nI bought one of the used models and I have n...</td>\n",
       "    </tr>\n",
       "    <tr>\n",
       "      <th>6</th>\n",
       "      <td>Shawn Channell</td>\n",
       "      <td>4.0</td>\n",
       "      <td>\\nOverall good phone but has had issues.\\n</td>\n",
       "      <td>\\nI got the white iphone 11, i haven't even ha...</td>\n",
       "    </tr>\n",
       "    <tr>\n",
       "      <th>7</th>\n",
       "      <td>Amazon Customer</td>\n",
       "      <td>4.0</td>\n",
       "      <td>\\nSo far so good!\\n</td>\n",
       "      <td>\\nI wasn’t sure what to expect from a refurbis...</td>\n",
       "    </tr>\n",
       "    <tr>\n",
       "      <th>8</th>\n",
       "      <td>Amazon Customer</td>\n",
       "      <td>5.0</td>\n",
       "      <td>\\nGreat product\\n</td>\n",
       "      <td>\\nI bought the purple iPhone 11 from Stone Dig...</td>\n",
       "    </tr>\n",
       "    <tr>\n",
       "      <th>9</th>\n",
       "      <td>Amazon Customer</td>\n",
       "      <td>5.0</td>\n",
       "      <td>\\nA good phone for the money\\n</td>\n",
       "      <td>\\nAfter four years of using an Android, I went...</td>\n",
       "    </tr>\n",
       "  </tbody>\n",
       "</table>\n",
       "</div>"
      ],
      "text/plain": [
       "          Reviewer  Rating                                            Summary  \\\n",
       "0              BGH     4.0                                 \\nSo far so good\\n   \n",
       "1     Larry Hansen     4.0                                   \\nWorks great.\\n   \n",
       "2        Elijah C.     5.0                                 \\nSon lost his ☹\\n   \n",
       "3        Michele70     5.0  \\nWould definitely recommend buying one of the...   \n",
       "4           J. R.      4.0                  \\ndissapointed, but relieved ;)\\n   \n",
       "5              Bri     5.0                           \\nWent from 6S to this\\n   \n",
       "6   Shawn Channell     4.0         \\nOverall good phone but has had issues.\\n   \n",
       "7  Amazon Customer     4.0                                \\nSo far so good!\\n   \n",
       "8  Amazon Customer     5.0                                  \\nGreat product\\n   \n",
       "9  Amazon Customer     5.0                     \\nA good phone for the money\\n   \n",
       "\n",
       "                                         Description  \n",
       "0  \\nI needed to replace my teens Iphone and abso...  \n",
       "1  \\nWas skeptical to get one a renewed iPhone . ...  \n",
       "2  \\nThis was a quick and easy replacement for my...  \n",
       "3  \\nSo I bought this thing and I have zero probl...  \n",
       "4  \\nphone had a little glitch when i frist recie...  \n",
       "5  \\nI bought one of the used models and I have n...  \n",
       "6  \\nI got the white iphone 11, i haven't even ha...  \n",
       "7  \\nI wasn’t sure what to expect from a refurbis...  \n",
       "8  \\nI bought the purple iPhone 11 from Stone Dig...  \n",
       "9  \\nAfter four years of using an Android, I went...  "
      ]
     },
     "execution_count": 6,
     "metadata": {},
     "output_type": "execute_result"
    }
   ],
   "source": [
    "# Write your code here\n",
    "from bs4 import BeautifulSoup\n",
    "import requests\n",
    "import pandas as pd\n",
    "from IPython.display import clear_output\n",
    "\n",
    "link_url = \"https://www.amazon.com/product-reviews/B07ZPKBL9V/ref=pd_sbs_cr_sccl_3_5/000-0000000-0000000?pd_rd_w=TAvB5&pf_rd_p=44b0dc04-f99a-4419-a406-9567d0fa03fe&pf_rd_r=117B88TQD9G4Z0E36XZ8&pd_rd_r=ab74b6fa-3d9d-4f4c-94b1-900495d0eb8f&pd_rd_wg=Neihg&pd_rd_i=B07ZPKBL9V\"\n",
    "Reviewer_Name = list()\n",
    "Rating = list()\n",
    "Review_Summary = list()\n",
    "Review_Description = list()\n",
    "for i in range(1, 1001):\n",
    "  response = requests.get(link_url+str(i))\n",
    "  soup = BeautifulSoup(response.text, 'html.parser')\n",
    "  Name = soup.findAll(\"span\", {\"class\" : \"a-profile-name\"})\n",
    "  for i in range(5, len(Name)):\n",
    "    Reviewer_Name.append(Name[i].get_text())\n",
    "  Product_Rating = soup.findAll(\"i\", {\"class\" : \"review-rating\"})\n",
    "  for i in range(2, len(Product_Rating)):\n",
    "    Rating.append(float(Product_Rating[i].get_text().split()[0]))\n",
    "  Review_Title = soup.findAll(\"a\", {\"class\" : \"review-title-content\"}) \n",
    "  for i in range(0, len(Review_Title)):\n",
    "    Review_Summary.append(Review_Title[i].get_text())\n",
    "  Description = soup.findAll(\"span\", {\"class\" : \"review-text-content\"})\n",
    "  for i in range(0, len(Description)):\n",
    "    Review_Description.append(Description[i].get_text())\n",
    "  clear_output()\n",
    "  print(f\"processed {i}th page\")\n",
    "Reviewer_Name += [\"Amazon Customer\" for _ in range(len(Review_Description)-len(Reviewer_Name))]\n",
    "\n",
    "df = pd.DataFrame({\n",
    "  \"Reviewer\": Reviewer_Name,\n",
    "  \"Rating\": Rating,\n",
    "  \"Summary\": Review_Summary,\n",
    "  \"Description\": Review_Description\n",
    "})\n",
    "\n",
    "df.to_csv(r'reviews.csv', index= 'True')\n",
    "\n",
    "df\n",
    "\n"
   ]
  },
  {
   "cell_type": "markdown",
   "metadata": {
    "colab_type": "text",
    "id": "AfpMRCrRwN6Z"
   },
   "source": [
    "# **Question 2**"
   ]
  },
  {
   "cell_type": "markdown",
   "metadata": {
    "colab_type": "text",
    "id": "1dCQEbDawWCw"
   },
   "source": [
    "(30 points). Write a python program to **clean the text data** you collected above and save the data in a new column in the csv file. The data cleaning steps include:\n",
    "\n",
    "(1) Remove noise, such as special characters and punctuations.\n",
    "\n",
    "(2) Remove numbers.\n",
    "\n",
    "(3) Remove stopwords by using the [stopwords list](https://gist.github.com/sebleier/554280).\n",
    "\n",
    "(4) Lowercase all texts\n",
    "\n",
    "(5) Stemming. \n",
    "\n",
    "(6) Lemmatization."
   ]
  },
  {
   "cell_type": "code",
   "execution_count": 7,
   "metadata": {
    "colab": {},
    "colab_type": "code",
    "id": "vATjQNTY8buA"
   },
   "outputs": [
    {
     "name": "stderr",
     "output_type": "stream",
     "text": [
      "[nltk_data] Downloading package omw-1.4 to\n",
      "[nltk_data]     C:\\Users\\nimis\\AppData\\Roaming\\nltk_data...\n",
      "[nltk_data]   Package omw-1.4 is already up-to-date!\n"
     ]
    },
    {
     "data": {
      "text/plain": [
       "True"
      ]
     },
     "execution_count": 7,
     "metadata": {},
     "output_type": "execute_result"
    }
   ],
   "source": [
    "# Write your code here\n",
    "\n",
    "import nltk\n",
    "nltk.download('omw-1.4')\n",
    "\n",
    "\n"
   ]
  },
  {
   "cell_type": "code",
   "execution_count": 17,
   "metadata": {},
   "outputs": [
    {
     "name": "stdout",
     "output_type": "stream",
     "text": [
      "Before Cleaning.\n",
      " 0    needed replace teen iphone absolutely refuse p...\n",
      "1    skeptical get one renewed iphone decided try o...\n",
      "2    quick easy replacement son get phone quickly s...\n",
      "3    bought thing zero problem work literally boote...\n",
      "4    phone little glitch frist recieved figured may...\n",
      "Name: Description, dtype: object\n",
      "\n",
      "1) Remove noise, such as special characters and punctuations \n",
      " 0    needed replace teen iphone absolutely refuse p...\n",
      "1    skeptical get one renewed iphone decided try o...\n",
      "2    quick easy replacement son get phone quickly s...\n",
      "3    bought thing zero problem work literally boote...\n",
      "4    phone little glitch frist recieved figured may...\n",
      "Name: Description, dtype: object\n",
      "\n",
      "2) Remove numbers \n",
      " 0    needed replace teen iphone absolutely refuse p...\n",
      "1    skeptical get one renewed iphone decided try o...\n",
      "2    quick easy replacement son get phone quickly s...\n",
      "3    bought thing zero problem work literally boote...\n",
      "4    phone little glitch frist recieved figured may...\n",
      "Name: Description, dtype: object\n",
      "\n",
      "3) Remove stopwords by using the stopwords list \n",
      " 0    needed replace teen iphone absolutely refuse p...\n",
      "1    skeptical get one renewed iphone decided try o...\n",
      "2    quick easy replacement son get phone quickly s...\n",
      "3    bought thing zero problem work literally boote...\n",
      "4    phone little glitch frist recieved figured may...\n",
      "Name: Description, dtype: object\n",
      "\n",
      "4) Lowercase all texts.\n",
      " 0    needed replace teen iphone absolutely refuse p...\n",
      "1    skeptical get one renewed iphone decided try o...\n",
      "2    quick easy replacement son get phone quickly s...\n",
      "3    bought thing zero problem work literally boote...\n",
      "4    phone little glitch frist recieved figured may...\n",
      "Name: Description, dtype: object\n",
      "\n",
      "(5) Stemming.\n",
      " 0    needed replace teen iphone absolutely refuse p...\n",
      "1    skeptical get one renewed iphone decided try o...\n",
      "2    quick easy replacement son get phone quickly s...\n",
      "3    bought thing zero problem work literally boote...\n",
      "4    phone little glitch frist recieved figured may...\n",
      "Name: Description, dtype: object\n",
      "\n",
      "(6) Lemmatization.\n",
      " 0    needed replace teen iphone absolutely refuse p...\n",
      "1    skeptical get one renewed iphone decided try o...\n",
      "2    quick easy replacement son get phone quickly s...\n",
      "3    bought thing zero problem work literally boote...\n",
      "4    phone little glitch frist recieved figured may...\n",
      "Name: Description, dtype: object\n",
      "\n"
     ]
    },
    {
     "name": "stderr",
     "output_type": "stream",
     "text": [
      "C:\\Users\\nimis\\AppData\\Local\\Temp\\ipykernel_6792\\1066681435.py:12: FutureWarning: The default value of regex will change from True to False in a future version.\n",
      "  df.Description = df.Description.str.replace('\\d+','')\n",
      "[nltk_data] Downloading package wordnet to\n",
      "[nltk_data]     C:\\Users\\nimis\\AppData\\Roaming\\nltk_data...\n",
      "[nltk_data]   Package wordnet is already up-to-date!\n"
     ]
    }
   ],
   "source": [
    "import string\n",
    "#before cleaning\n",
    "\n",
    "print(\"Before Cleaning.\\n\", df.Description.head(), end=\"\\n\\n\")\n",
    "\n",
    "#1\n",
    "for char in string.punctuation:\n",
    "    df.Description=df.Description.replace(char,'')\n",
    "print(\"1) Remove noise, such as special characters and punctuations \\n\", df.Description.head(), end=\"\\n\\n\")\n",
    "\n",
    "#2\n",
    "df.Description = df.Description.str.replace('\\d+','')\n",
    "print(\"2) Remove numbers \\n\", df.Description.head(), end=\"\\n\\n\")\n",
    "\n",
    "#3\n",
    "import requests\n",
    "response = requests.get(\"https://gist.githubusercontent.com/sebleier/554280/raw/7e0e4a1ce04c2bb7bd41089c9821dbcf6d0c786c/NLTK's%2520list%2520of%2520english%2520stopwords\")\n",
    "stopwords_list = [n for n in response.text.replace('\\n', ' ').split()]\n",
    "df.Description = df.Description.apply(lambda sent: \" \".join((n for n in sent.split() if n.lower() not in stopwords_list)))\n",
    "print(\"3) Remove stopwords by using the stopwords list \\n\", df.Description.head(), end=\"\\n\\n\")\n",
    "\n",
    "#4\n",
    "df.Description = df.Description.apply(lambda sent: sent.lower())\n",
    "print(\"4) Lowercase all texts.\\n\", df.Description.head(), end=\"\\n\\n\")\n",
    "\n",
    "#5\n",
    "from nltk.stem import PorterStemmer\n",
    "stemmer = PorterStemmer()\n",
    "df.Description.apply(lambda sent: \" \".join([stemmer.stem(word) for word in sent.split()]))\n",
    "print(\"(5) Stemming.\\n\", df.Description.head(), end=\"\\n\\n\")\n",
    "\n",
    "#6\n",
    "from textblob import Word\n",
    "import nltk\n",
    "nltk.download('wordnet')\n",
    "df.Description = df.Description.apply(lambda x: \" \".join([Word(word).lemmatize() for word in x.split()]))\n",
    "print(\"(6) Lemmatization.\\n\", df.Description.head(), end=\"\\n\\n\")"
   ]
  },
  {
   "cell_type": "markdown",
   "metadata": {
    "colab_type": "text",
    "id": "E5mmYIfN8eYV"
   },
   "source": [
    "# **Question 3**"
   ]
  },
  {
   "cell_type": "markdown",
   "metadata": {
    "colab_type": "text",
    "id": "hsi2y4z88ngX"
   },
   "source": [
    "(30 points). Write a python program to conduct **syntax and structure analysis** of the clean text you just saved above. The syntax and structure analysis includes: \n",
    "\n",
    "(1) Parts of Speech (POS) Tagging: Tag Parts of Speech of each word in the text, and calculate the total number of N(oun), V(erb), Adj(ective), Adv(erb), respectively.\n",
    "\n",
    "(2) Constituency Parsing and Dependency Parsing: print out the constituency parsing trees and dependency parsing trees of all the sentences. Using one sentence as an example to explain your understanding about the constituency parsing tree and dependency parsing tree.\n",
    "\n",
    "(3) Named Entity Recognition: Extract all the entities such as person names, organizations, locations, product names, and date from the clean texts, calculate the count of each entity."
   ]
  },
  {
   "cell_type": "code",
   "execution_count": 18,
   "metadata": {
    "colab": {},
    "colab_type": "code",
    "id": "QQKnPjPDHJHr"
   },
   "outputs": [
    {
     "name": "stderr",
     "output_type": "stream",
     "text": [
      "[nltk_data] Downloading package punkt to\n",
      "[nltk_data]     C:\\Users\\nimis\\AppData\\Roaming\\nltk_data...\n",
      "[nltk_data]   Unzipping tokenizers\\punkt.zip.\n",
      "[nltk_data] Downloading package averaged_perceptron_tagger to\n",
      "[nltk_data]     C:\\Users\\nimis\\AppData\\Roaming\\nltk_data...\n",
      "[nltk_data]   Unzipping taggers\\averaged_perceptron_tagger.zip.\n"
     ]
    },
    {
     "name": "stdout",
     "output_type": "stream",
     "text": [
      "[[('needed', 'VBN'), ('replace', 'VB'), ('teen', 'JJ'), ('iphone', 'NN'), ('absolutely', 'RB'), ('refuse', 'JJ'), ('pay', 'NN'), ('gross', 'JJ'), ('price', 'NN'), ('new', 'JJ'), ('phone', 'NN'), ('especially', 'RB'), ('teen', 'JJ'), ('tend', 'VBP'), ('break', 'JJ'), ('damage', 'NN'), ('phone', 'NN'), ('easier', 'JJR'), ('almost', 'RB'), ('bought', 'VBD'), ('refurbished', 'JJ'), ('phone', 'NN'), ('ebay', 'NN'), ('saw', 'VBD'), ('google', 'JJ'), ('amazon', 'NN'), ('sold', 'VBD'), ('amazon', 'RB'), ('better', 'RBR'), ('return', 'NN'), ('policy', 'NN'), ('im', 'NN'), ('familiar', 'JJ'), ('amazon', 'NN'), ('never', 'RB'), ('use', 'VBP'), ('ebay', 'JJ'), ('felt', 'VBD'), ('better', 'RBR'), ('buying', 'VBG'), ('far', 'RB'), ('phone', 'NN'), ('fine', 'JJ'), ('expected', 'VBN'), ('put', 'NN'), ('case', 'NN'), ('immediately', 'RB'), ('cosmetic', 'JJ'), ('flaw', 'NN'), ('werent', 'NN'), ('noticeable', 'JJ'), ('also', 'RB'), ('able', 'JJ'), ('finance', 'NN'), ('pay', 'NN'), ('overtime', 'RB'), ('great', 'JJ'), ('ill', 'JJ'), ('pay', 'NN'), ('sooner', 'RBR'), ('financing', 'NN'), ('term', 'NN'), ('still', 'RB'), ('better', 'RBR'), ('putting', 'VBG'), ('credit', 'NN'), ('card', 'NN'), ('paying', 'VBG'), ('full', 'JJ'), ('price', 'NN'), ('front', 'NN'), ('hope', 'NN'), ('hold', 'VBP'), ('month', 'NN'), ('cant', 'JJ'), ('say', 'VBP'), ('much', 'JJ'), ('elseskeptical', 'JJ'), ('get', 'VB'), ('one', 'CD'), ('renewed', 'VBN'), ('iphone', 'NN'), ('decided', 'VBD'), ('try', 'NN'), ('ordered', 'VBD'), ('iphone', 'JJ'), ('gb', 'JJ'), ('black', 'JJ'), ('receipt', 'NN'), ('day', 'NN'), ('got', 'VBD'), ('upon', 'JJ'), ('inspection', 'NN'), ('phone', 'NN'), ('cant', 'NN'), ('expect', 'VBP'), ('perfect', 'JJ'), ('condition', 'NN'), ('thats', 'NNS'), ('im', 'VBP'), ('giving', 'VBG'), ('star', 'NN'), ('little', 'JJ'), ('hair', 'NN'), ('scratch', 'VB'), ('lower', 'JJR'), ('side', 'NN'), ('phone', 'NN'), ('cant', 'NN'), ('really', 'RB'), ('see', 'VB'), ('since', 'IN'), ('applied', 'VBN'), ('screen', 'NN'), ('protector', 'NN'), ('cant', 'NN'), ('see', 'VBP'), ('around', 'IN'), ('camera', 'NN'), ('lens', 'VBZ'), ('light', 'JJ'), ('scratch', 'NN'), ('also', 'RB'), ('cant', 'JJ'), ('see', 'VBP'), ('hardly', 'RB'), ('noticeable', 'JJ'), ('battery', 'NN'), ('life', 'NN'), ('mine', 'NN'), ('say', 'VBP'), ('bad', 'JJ'), ('think', 'VBP'), ('let', 'VB'), ('see', 'VB'), ('go', 'VB'), ('im', 'JJ'), ('heavy', 'JJ'), ('daily', 'JJ'), ('user', 'NN'), ('could', 'MD'), ('problem', 'NN'), ('people', 'NNS'), ('connect', 'VBP'), ('mobile', 'JJ'), ('account', 'NN'), ('working', 'VBG'), ('everything', 'NN'), ('else', 'RB'), ('work', 'NN'), ('great', 'JJ'), ('camera', 'NN'), ('speaker', 'NN'), ('sound', 'VBD'), ('face', 'JJ'), ('recognition', 'NN'), ('great', 'JJ'), ('buy', 'NN'), ('save', 'VB'), ('money', 'NN'), ('new', 'JJ'), ('iphone', 'NN'), ('would', 'MD'), ('recommend', 'VB'), ('yes', 'JJR'), ('everyones', 'NNS'), ('experience', 'RBR'), ('different', 'JJ'), ('give', 'JJ'), ('day', 'NN'), ('return', 'VB'), ('exchangequick', 'JJ'), ('easy', 'JJ'), ('replacement', 'NN'), ('son', 'NN'), ('get', 'VB'), ('phone', 'NN'), ('quickly', 'RB'), ('since', 'IN'), ('pay', 'NN'), ('replacement', 'NN'), ('price', 'NN'), ('great', 'JJ'), ('also', 'RB'), ('phone', 'NN'), ('great', 'JJ'), ('condition', 'NN'), ('got', 'VBD'), ('packaged', 'VBN'), ('charger', 'NN'), ('brand', 'NN'), ('new', 'JJ'), ('cube', 'NN'), ('also', 'RB'), ('said', 'VBD'), ('screen', 'JJ'), ('protector', 'NN'), ('better', 'NN'), ('could', 'MD'), ('buy', 'VB'), ('store', 'NN'), ('buy', 'NN'), ('cover', 'NN'), ('amazon', 'NN'), ('also', 'RB'), ('skeptical', 'JJ'), ('buying', 'NN'), ('phone', 'NN'), ('provided', 'VBD'), ('carrier', 'NN'), ('everything', 'NN'), ('actually', 'RB'), ('turned', 'VBD'), ('greatbought', 'JJ'), ('thing', 'NN'), ('zero', 'NN'), ('problem', 'NN'), ('work', 'NN'), ('literally', 'RB'), ('booted', 'VBD'), ('everything', 'NN'), ('working', 'VBG'), ('everything', 'NN'), ('seems', 'VBZ'), ('line', 'NN'), ('thing', 'NN'), ('would', 'MD'), ('recommend', 'VB'), ('look', 'VB'), ('one', 'CD'), ('excellent', 'JJ'), ('condition', 'NN'), ('thats', 'VBZ'), ('one', 'CD'), ('got', 'VBD'), ('amazing', 'JJ'), ('zero', 'NN'), ('problem', 'NN'), ('would', 'MD'), ('highly', 'RB'), ('recommend', 'VB'), ('anybody', 'NN'), ('trying', 'VBG'), ('get', 'VB'), ('new', 'JJ'), ('iphone', 'NN'), ('one', 'CD'), ('refurbished', 'VBN'), ('theyre', 'NN'), ('greatphone', 'NN'), ('little', 'JJ'), ('glitch', 'JJ'), ('frist', 'NN'), ('recieved', 'VBD'), ('figured', 'JJ'), ('maybe', 'RB'), ('seeing', 'VBG'), ('thing', 'NN'), ('continued', 'VBD'), ('bout', 'RB'), ('two', 'CD'), ('month', 'NN'), ('glitch', 'NN'), ('lasted', 'VBD'), ('minute', 'JJ'), ('top', 'JJ'), ('corner', 'NN'), ('figured', 'VBD'), ('better', 'JJR'), ('send', 'NN'), ('backbuy', 'NN'), ('spree', 'JJ'), ('quickly', 'RB'), ('gave', 'VBD'), ('approval', 'NN'), ('printed', 'JJ'), ('shipment', 'NN'), ('label', 'NN'), ('returned', 'VBD'), ('productonce', 'NN'), ('phone', 'NN'), ('arrived', 'VBD'), ('gave', 'VBD'), ('prompt', 'JJ'), ('refund', 'NN'), ('puchaseim', 'NN'), ('sorry', 'NN'), ('didnt', 'NN'), ('work', 'NN'), ('definatly', 'RB'), ('would', 'MD'), ('use', 'VB'), ('buy', 'VB'), ('spree', 'JJ'), ('back', 'RB'), ('thier', 'JJR'), ('stuffthankslarrybought', 'NN'), ('one', 'CD'), ('used', 'VBN'), ('model', 'NN'), ('complaint', 'NN'), ('perfect', 'JJ'), ('form', 'NN'), ('aside', 'RB'), ('nearly', 'RB'), ('indistinguishable', 'JJ'), ('hairline', 'JJ'), ('crack', 'NN'), ('inch', 'NN'), ('long', 'RB'), ('center', 'NN'), ('expected', 'VBN'), ('used', 'JJ'), ('model', 'NN'), ('noticeable', 'JJ'), ('screen', 'JJ'), ('black', 'JJ'), ('battery', 'NN'), ('life', 'NN'), ('excellent', 'JJ'), ('go', 'VB'), ('entire', 'JJ'), ('day', 'NN'), ('one', 'CD'), ('charge', 'NN'), ('happens', 'VBZ'), ('minute', 'JJ'), ('hour', 'NN'), ('half', 'NN'), ('depending', 'VBG'), ('battery', 'NN'), ('level', 'NN'), ('camera', 'NN'), ('quality', 'NN'), ('beautiful', 'NN'), ('compared', 'VBN'), ('previous', 'JJ'), ('iphone', 'NN'), ('complaintgot', 'VBD'), ('white', 'JJ'), ('iphone', 'NN'), ('havent', 'NN'), ('even', 'RB'), ('month', 'NN'), ('started', 'VBD'), ('ghost', 'NN'), ('touch', 'NN'), ('updated', 'VBD'), ('changed', 'VBD'), ('screen', 'JJ'), ('protector', 'NN'), ('case', 'NN'), ('however', 'RB'), ('scratch', 'VB'), ('body', 'NN'), ('screen', 'JJ'), ('basically', 'RB'), ('brand', 'NN'), ('new', 'JJ'), ('also', 'RB'), ('noticed', 'VBN'), ('top', 'JJ'), ('right', 'NN'), ('corner', 'NN'), ('screen', 'NN'), ('started', 'VBD'), ('lift', 'NN'), ('kind', 'NN'), ('disappointed', 'VBD'), ('good', 'JJ'), ('phonewasnt', 'NN'), ('sure', 'JJ'), ('expect', 'VBP'), ('refurbished', 'VBN'), ('device', 'JJ'), ('comment', 'NN'), ('pretty', 'RB'), ('positive', 'JJ'), ('wasnt', 'NN'), ('happy', 'JJ'), ('mine', 'NN'), ('visible', 'JJ'), ('blemish', 'JJ'), ('screen', 'NN'), ('return', 'NN'), ('decided', 'VBD'), ('keeping', 'VBG'), ('price', 'NN'), ('applied', 'VBD'), ('screen', 'JJ'), ('protector', 'NN'), ('case', 'NN'), ('look', 'VB'), ('almost', 'RB'), ('good', 'JJ'), ('new', 'JJ'), ('battery', 'NN'), ('life', 'NN'), ('still', 'RB'), ('last', 'JJ'), ('full', 'JJ'), ('day', 'NN'), ('problem', 'NN'), ('idea', 'NN'), ('replacing', 'VBG'), ('battery', 'NN'), ('soon', 'RB'), ('bought', 'VBD'), ('iphone', 'NN'), ('awful', 'JJ'), ('dont', 'NN'), ('feel', 'NN'), ('need', 'VBP'), ('yet', 'RB'), ('battery', 'VBN'), ('really', 'RB'), ('great', 'JJ'), ('overall', 'JJ'), ('im', 'NN'), ('glad', 'NN'), ('got', 'VBD'), ('really', 'RB'), ('needed', 'VBN'), ('upgrade', 'NN'), ('iphonebought', 'NN'), ('purple', 'NN'), ('iphone', 'NN'), ('stone', 'NN'), ('digital', 'JJ'), ('despite', 'IN'), ('negative', 'JJ'), ('review', 'NN'), ('since', 'IN'), ('eligible', 'JJ'), ('return', 'NN'), ('however', 'RB'), ('phone', 'NN'), ('exceeded', 'VBD'), ('expectation', 'NN'), ('little', 'RB'), ('cosmetic', 'JJ'), ('damage', 'NN'), ('came', 'VBD'), ('clear', 'JJ'), ('case', 'NN'), ('screen', 'NN'), ('protector', 'NN'), ('wasnt', 'NN'), ('expecting', 'VBG'), ('activation', 'NN'), ('phone', 'NN'), ('simple', 'JJ'), ('easy', 'JJ'), ('factory', 'NN'), ('unlocked', 'JJ'), ('described', 'VBN'), ('problem', 'NN'), ('apple', 'NN'), ('id', 'NN'), ('camera', 'NN'), ('etc', 'NN'), ('waited', 'VBD'), ('week', 'NN'), ('truly', 'RB'), ('see', 'VB'), ('phone', 'NN'), ('operated', 'VBN'), ('par', 'IN'), ('glitching', 'VBG'), ('shutting', 'VBG'), ('facial', 'JJ'), ('recognition', 'NN'), ('work', 'NN'), ('perfectly', 'RB'), ('fine', 'JJ'), ('battery', 'NN'), ('life', 'NN'), ('amazing', 'VBG'), ('well', 'RB'), ('lasting', 'VBG'), ('full', 'JJ'), ('day', 'NN'), ('heavy', 'JJ'), ('use', 'NN'), ('experience', 'NN'), ('packaged', 'VBD'), ('product', 'NN'), ('also', 'RB'), ('made', 'VBD'), ('phone', 'NN'), ('feel', 'NN'), ('brand', 'NN'), ('new', 'JJ'), ('instead', 'RB'), ('second', 'JJ'), ('handfour', 'CD'), ('year', 'NN'), ('using', 'VBG'), ('android', 'JJ'), ('went', 'VBD'), ('back', 'RB'), ('iphone', 'NN'), ('since', 'IN'), ('everyone', 'NN'), ('else', 'RB'), ('family', 'NN'), ('iphone', 'NN'), ('didnt', 'NN'), ('want', 'VBP'), ('odd', 'JJ'), ('man', 'NN'), ('far', 'RB'), ('im', 'JJ'), ('liking', 'VBG'), ('technology', 'NN'), ('thought', 'VBN'), ('would', 'MD'), ('miss', 'VB'), ('fingerprint', 'NN'), ('scanner', 'NN'), ('samsung', 'VBD'), ('facial', 'JJ'), ('recognition', 'NN'), ('work', 'NN'), ('really', 'RB'), ('well', 'RB'), ('phone', 'NN'), ('everything', 'NN'), ('need', 'NN'), ('durable', 'JJ'), ('last', 'JJ'), ('iphone', 'NN'), ('buying', 'NN'), ('used', 'VBN'), ('amazon', 'RB'), ('certified', 'JJ'), ('price', 'NN'), ('good', 'NN'), ('reconditioned', 'VBD'), ('phone', 'NN'), ('look', 'NN'), ('good', 'JJ'), ('new', 'JJ'), ('one', 'CD'), ('far', 'RB'), ('good', 'JJ')], [('needed', 'VBN'), ('replace', 'VB'), ('teen', 'JJ'), ('iphone', 'NN'), ('absolutely', 'RB'), ('refuse', 'JJ'), ('pay', 'NN'), ('gross', 'JJ'), ('price', 'NN'), ('new', 'JJ'), ('phone', 'NN'), ('especially', 'RB'), ('teen', 'JJ'), ('tend', 'VBP'), ('break', 'JJ'), ('damage', 'NN'), ('phone', 'NN'), ('easier', 'JJR'), ('almost', 'RB'), ('bought', 'VBD'), ('refurbished', 'JJ'), ('phone', 'NN'), ('ebay', 'NN'), ('saw', 'VBD'), ('google', 'JJ'), ('amazon', 'NN'), ('sold', 'VBD'), ('amazon', 'RB'), ('better', 'RBR'), ('return', 'NN'), ('policy', 'NN'), ('im', 'NN'), ('familiar', 'JJ'), ('amazon', 'NN'), ('never', 'RB'), ('use', 'VBP'), ('ebay', 'JJ'), ('felt', 'VBD'), ('better', 'RBR'), ('buying', 'VBG'), ('far', 'RB'), ('phone', 'NN'), ('fine', 'JJ'), ('expected', 'VBN'), ('put', 'NN'), ('case', 'NN'), ('immediately', 'RB'), ('cosmetic', 'JJ'), ('flaw', 'NN'), ('werent', 'NN'), ('noticeable', 'JJ'), ('also', 'RB'), ('able', 'JJ'), ('finance', 'NN'), ('pay', 'NN'), ('overtime', 'RB'), ('great', 'JJ'), ('ill', 'JJ'), ('pay', 'NN'), ('sooner', 'RBR'), ('financing', 'NN'), ('term', 'NN'), ('still', 'RB'), ('better', 'RBR'), ('putting', 'VBG'), ('credit', 'NN'), ('card', 'NN'), ('paying', 'VBG'), ('full', 'JJ'), ('price', 'NN'), ('front', 'NN'), ('hope', 'NN'), ('hold', 'VBP'), ('month', 'NN'), ('cant', 'JJ'), ('say', 'VBP'), ('much', 'JJ'), ('elseskeptical', 'JJ'), ('get', 'VB'), ('one', 'CD'), ('renewed', 'VBN'), ('iphone', 'NN'), ('decided', 'VBD'), ('try', 'NN'), ('ordered', 'VBD'), ('iphone', 'JJ'), ('gb', 'JJ'), ('black', 'JJ'), ('receipt', 'NN'), ('day', 'NN'), ('got', 'VBD'), ('upon', 'JJ'), ('inspection', 'NN'), ('phone', 'NN'), ('cant', 'NN'), ('expect', 'VBP'), ('perfect', 'JJ'), ('condition', 'NN'), ('thats', 'NNS'), ('im', 'VBP'), ('giving', 'VBG'), ('star', 'NN'), ('little', 'JJ'), ('hair', 'NN'), ('scratch', 'VB'), ('lower', 'JJR'), ('side', 'NN'), ('phone', 'NN'), ('cant', 'NN'), ('really', 'RB'), ('see', 'VB'), ('since', 'IN'), ('applied', 'VBN'), ('screen', 'NN'), ('protector', 'NN'), ('cant', 'NN'), ('see', 'VBP'), ('around', 'IN'), ('camera', 'NN'), ('lens', 'VBZ'), ('light', 'JJ'), ('scratch', 'NN'), ('also', 'RB'), ('cant', 'JJ'), ('see', 'VBP'), ('hardly', 'RB'), ('noticeable', 'JJ'), ('battery', 'NN'), ('life', 'NN'), ('mine', 'NN'), ('say', 'VBP'), ('bad', 'JJ'), ('think', 'VBP'), ('let', 'VB'), ('see', 'VB'), ('go', 'VB'), ('im', 'JJ'), ('heavy', 'JJ'), ('daily', 'JJ'), ('user', 'NN'), ('could', 'MD'), ('problem', 'NN'), ('people', 'NNS'), ('connect', 'VBP'), ('mobile', 'JJ'), ('account', 'NN'), ('working', 'VBG'), ('everything', 'NN'), ('else', 'RB'), ('work', 'NN'), ('great', 'JJ'), ('camera', 'NN'), ('speaker', 'NN'), ('sound', 'VBD'), ('face', 'JJ'), ('recognition', 'NN'), ('great', 'JJ'), ('buy', 'NN'), ('save', 'VB'), ('money', 'NN'), ('new', 'JJ'), ('iphone', 'NN'), ('would', 'MD'), ('recommend', 'VB'), ('yes', 'JJR'), ('everyones', 'NNS'), ('experience', 'RBR'), ('different', 'JJ'), ('give', 'JJ'), ('day', 'NN'), ('return', 'VB'), ('exchangequick', 'JJ'), ('easy', 'JJ'), ('replacement', 'NN'), ('son', 'NN'), ('get', 'VB'), ('phone', 'NN'), ('quickly', 'RB'), ('since', 'IN'), ('pay', 'NN'), ('replacement', 'NN'), ('price', 'NN'), ('great', 'JJ'), ('also', 'RB'), ('phone', 'NN'), ('great', 'JJ'), ('condition', 'NN'), ('got', 'VBD'), ('packaged', 'VBN'), ('charger', 'NN'), ('brand', 'NN'), ('new', 'JJ'), ('cube', 'NN'), ('also', 'RB'), ('said', 'VBD'), ('screen', 'JJ'), ('protector', 'NN'), ('better', 'NN'), ('could', 'MD'), ('buy', 'VB'), ('store', 'NN'), ('buy', 'NN'), ('cover', 'NN'), ('amazon', 'NN'), ('also', 'RB'), ('skeptical', 'JJ'), ('buying', 'NN'), ('phone', 'NN'), ('provided', 'VBD'), ('carrier', 'NN'), ('everything', 'NN'), ('actually', 'RB'), ('turned', 'VBD'), ('greatbought', 'JJ'), ('thing', 'NN'), ('zero', 'NN'), ('problem', 'NN'), ('work', 'NN'), ('literally', 'RB'), ('booted', 'VBD'), ('everything', 'NN'), ('working', 'VBG'), ('everything', 'NN'), ('seems', 'VBZ'), ('line', 'NN'), ('thing', 'NN'), ('would', 'MD'), ('recommend', 'VB'), ('look', 'VB'), ('one', 'CD'), ('excellent', 'JJ'), ('condition', 'NN'), ('thats', 'VBZ'), ('one', 'CD'), ('got', 'VBD'), ('amazing', 'JJ'), ('zero', 'NN'), ('problem', 'NN'), ('would', 'MD'), ('highly', 'RB'), ('recommend', 'VB'), ('anybody', 'NN'), ('trying', 'VBG'), ('get', 'VB'), ('new', 'JJ'), ('iphone', 'NN'), ('one', 'CD'), ('refurbished', 'VBN'), ('theyre', 'NN'), ('greatphone', 'NN'), ('little', 'JJ'), ('glitch', 'JJ'), ('frist', 'NN'), ('recieved', 'VBD'), ('figured', 'JJ'), ('maybe', 'RB'), ('seeing', 'VBG'), ('thing', 'NN'), ('continued', 'VBD'), ('bout', 'RB'), ('two', 'CD'), ('month', 'NN'), ('glitch', 'NN'), ('lasted', 'VBD'), ('minute', 'JJ'), ('top', 'JJ'), ('corner', 'NN'), ('figured', 'VBD'), ('better', 'JJR'), ('send', 'NN'), ('backbuy', 'NN'), ('spree', 'JJ'), ('quickly', 'RB'), ('gave', 'VBD'), ('approval', 'NN'), ('printed', 'JJ'), ('shipment', 'NN'), ('label', 'NN'), ('returned', 'VBD'), ('productonce', 'NN'), ('phone', 'NN'), ('arrived', 'VBD'), ('gave', 'VBD'), ('prompt', 'JJ'), ('refund', 'NN'), ('puchaseim', 'NN'), ('sorry', 'NN'), ('didnt', 'NN'), ('work', 'NN'), ('definatly', 'RB'), ('would', 'MD'), ('use', 'VB'), ('buy', 'VB'), ('spree', 'JJ'), ('back', 'RB'), ('thier', 'JJR'), ('stuffthankslarrybought', 'NN'), ('one', 'CD'), ('used', 'VBN'), ('model', 'NN'), ('complaint', 'NN'), ('perfect', 'JJ'), ('form', 'NN'), ('aside', 'RB'), ('nearly', 'RB'), ('indistinguishable', 'JJ'), ('hairline', 'JJ'), ('crack', 'NN'), ('inch', 'NN'), ('long', 'RB'), ('center', 'NN'), ('expected', 'VBN'), ('used', 'JJ'), ('model', 'NN'), ('noticeable', 'JJ'), ('screen', 'JJ'), ('black', 'JJ'), ('battery', 'NN'), ('life', 'NN'), ('excellent', 'JJ'), ('go', 'VB'), ('entire', 'JJ'), ('day', 'NN'), ('one', 'CD'), ('charge', 'NN'), ('happens', 'VBZ'), ('minute', 'JJ'), ('hour', 'NN'), ('half', 'NN'), ('depending', 'VBG'), ('battery', 'NN'), ('level', 'NN'), ('camera', 'NN'), ('quality', 'NN'), ('beautiful', 'NN'), ('compared', 'VBN'), ('previous', 'JJ'), ('iphone', 'NN'), ('complaintgot', 'VBD'), ('white', 'JJ'), ('iphone', 'NN'), ('havent', 'NN'), ('even', 'RB'), ('month', 'NN'), ('started', 'VBD'), ('ghost', 'NN'), ('touch', 'NN'), ('updated', 'VBD'), ('changed', 'VBD'), ('screen', 'JJ'), ('protector', 'NN'), ('case', 'NN'), ('however', 'RB'), ('scratch', 'VB'), ('body', 'NN'), ('screen', 'JJ'), ('basically', 'RB'), ('brand', 'NN'), ('new', 'JJ'), ('also', 'RB'), ('noticed', 'VBN'), ('top', 'JJ'), ('right', 'NN'), ('corner', 'NN'), ('screen', 'NN'), ('started', 'VBD'), ('lift', 'NN'), ('kind', 'NN'), ('disappointed', 'VBD'), ('good', 'JJ'), ('phonewasnt', 'NN'), ('sure', 'JJ'), ('expect', 'VBP'), ('refurbished', 'VBN'), ('device', 'JJ'), ('comment', 'NN'), ('pretty', 'RB'), ('positive', 'JJ'), ('wasnt', 'NN'), ('happy', 'JJ'), ('mine', 'NN'), ('visible', 'JJ'), ('blemish', 'JJ'), ('screen', 'NN'), ('return', 'NN'), ('decided', 'VBD'), ('keeping', 'VBG'), ('price', 'NN'), ('applied', 'VBD'), ('screen', 'JJ'), ('protector', 'NN'), ('case', 'NN'), ('look', 'VB'), ('almost', 'RB'), ('good', 'JJ'), ('new', 'JJ'), ('battery', 'NN'), ('life', 'NN'), ('still', 'RB'), ('last', 'JJ'), ('full', 'JJ'), ('day', 'NN'), ('problem', 'NN'), ('idea', 'NN'), ('replacing', 'VBG'), ('battery', 'NN'), ('soon', 'RB'), ('bought', 'VBD'), ('iphone', 'NN'), ('awful', 'JJ'), ('dont', 'NN'), ('feel', 'NN'), ('need', 'VBP'), ('yet', 'RB'), ('battery', 'VBN'), ('really', 'RB'), ('great', 'JJ'), ('overall', 'JJ'), ('im', 'NN'), ('glad', 'NN'), ('got', 'VBD'), ('really', 'RB'), ('needed', 'VBN'), ('upgrade', 'NN'), ('iphonebought', 'NN'), ('purple', 'NN'), ('iphone', 'NN'), ('stone', 'NN'), ('digital', 'JJ'), ('despite', 'IN'), ('negative', 'JJ'), ('review', 'NN'), ('since', 'IN'), ('eligible', 'JJ'), ('return', 'NN'), ('however', 'RB'), ('phone', 'NN'), ('exceeded', 'VBD'), ('expectation', 'NN'), ('little', 'RB'), ('cosmetic', 'JJ'), ('damage', 'NN'), ('came', 'VBD'), ('clear', 'JJ'), ('case', 'NN'), ('screen', 'NN'), ('protector', 'NN'), ('wasnt', 'NN'), ('expecting', 'VBG'), ('activation', 'NN'), ('phone', 'NN'), ('simple', 'JJ'), ('easy', 'JJ'), ('factory', 'NN'), ('unlocked', 'JJ'), ('described', 'VBN'), ('problem', 'NN'), ('apple', 'NN'), ('id', 'NN'), ('camera', 'NN'), ('etc', 'NN'), ('waited', 'VBD'), ('week', 'NN'), ('truly', 'RB'), ('see', 'VB'), ('phone', 'NN'), ('operated', 'VBN'), ('par', 'IN'), ('glitching', 'VBG'), ('shutting', 'VBG'), ('facial', 'JJ'), ('recognition', 'NN'), ('work', 'NN'), ('perfectly', 'RB'), ('fine', 'JJ'), ('battery', 'NN'), ('life', 'NN'), ('amazing', 'VBG'), ('well', 'RB'), ('lasting', 'VBG'), ('full', 'JJ'), ('day', 'NN'), ('heavy', 'JJ'), ('use', 'NN'), ('experience', 'NN'), ('packaged', 'VBD'), ('product', 'NN'), ('also', 'RB'), ('made', 'VBD'), ('phone', 'NN'), ('feel', 'NN'), ('brand', 'NN'), ('new', 'JJ'), ('instead', 'RB'), ('second', 'JJ'), ('handfour', 'CD'), ('year', 'NN'), ('using', 'VBG'), ('android', 'JJ'), ('went', 'VBD'), ('back', 'RB'), ('iphone', 'NN'), ('since', 'IN'), ('everyone', 'NN'), ('else', 'RB'), ('family', 'NN'), ('iphone', 'NN'), ('didnt', 'NN'), ('want', 'VBP'), ('odd', 'JJ'), ('man', 'NN'), ('far', 'RB'), ('im', 'JJ'), ('liking', 'VBG'), ('technology', 'NN'), ('thought', 'VBN'), ('would', 'MD'), ('miss', 'VB'), ('fingerprint', 'NN'), ('scanner', 'NN'), ('samsung', 'VBD'), ('facial', 'JJ'), ('recognition', 'NN'), ('work', 'NN'), ('really', 'RB'), ('well', 'RB'), ('phone', 'NN'), ('everything', 'NN'), ('need', 'NN'), ('durable', 'JJ'), ('last', 'JJ'), ('iphone', 'NN'), ('buying', 'NN'), ('used', 'VBN'), ('amazon', 'RB'), ('certified', 'JJ'), ('price', 'NN'), ('good', 'NN'), ('reconditioned', 'VBD'), ('phone', 'NN'), ('look', 'NN'), ('good', 'JJ'), ('new', 'JJ'), ('one', 'CD'), ('far', 'RB'), ('good', 'JJ')], [('needed', 'VBN'), ('replace', 'VB'), ('teen', 'JJ'), ('iphone', 'NN'), ('absolutely', 'RB'), ('refuse', 'JJ'), ('pay', 'NN'), ('gross', 'JJ'), ('price', 'NN'), ('new', 'JJ'), ('phone', 'NN'), ('especially', 'RB'), ('teen', 'JJ'), ('tend', 'VBP'), ('break', 'JJ'), ('damage', 'NN'), ('phone', 'NN'), ('easier', 'JJR'), ('almost', 'RB'), ('bought', 'VBD'), ('refurbished', 'JJ'), ('phone', 'NN'), ('ebay', 'NN'), ('saw', 'VBD'), ('google', 'JJ'), ('amazon', 'NN'), ('sold', 'VBD'), ('amazon', 'RB'), ('better', 'RBR'), ('return', 'NN'), ('policy', 'NN'), ('im', 'NN'), ('familiar', 'JJ'), ('amazon', 'NN'), ('never', 'RB'), ('use', 'VBP'), ('ebay', 'JJ'), ('felt', 'VBD'), ('better', 'RBR'), ('buying', 'VBG'), ('far', 'RB'), ('phone', 'NN'), ('fine', 'JJ'), ('expected', 'VBN'), ('put', 'NN'), ('case', 'NN'), ('immediately', 'RB'), ('cosmetic', 'JJ'), ('flaw', 'NN'), ('werent', 'NN'), ('noticeable', 'JJ'), ('also', 'RB'), ('able', 'JJ'), ('finance', 'NN'), ('pay', 'NN'), ('overtime', 'RB'), ('great', 'JJ'), ('ill', 'JJ'), ('pay', 'NN'), ('sooner', 'RBR'), ('financing', 'NN'), ('term', 'NN'), ('still', 'RB'), ('better', 'RBR'), ('putting', 'VBG'), ('credit', 'NN'), ('card', 'NN'), ('paying', 'VBG'), ('full', 'JJ'), ('price', 'NN'), ('front', 'NN'), ('hope', 'NN'), ('hold', 'VBP'), ('month', 'NN'), ('cant', 'JJ'), ('say', 'VBP'), ('much', 'JJ'), ('elseskeptical', 'JJ'), ('get', 'VB'), ('one', 'CD'), ('renewed', 'VBN'), ('iphone', 'NN'), ('decided', 'VBD'), ('try', 'NN'), ('ordered', 'VBD'), ('iphone', 'JJ'), ('gb', 'JJ'), ('black', 'JJ'), ('receipt', 'NN'), ('day', 'NN'), ('got', 'VBD'), ('upon', 'JJ'), ('inspection', 'NN'), ('phone', 'NN'), ('cant', 'NN'), ('expect', 'VBP'), ('perfect', 'JJ'), ('condition', 'NN'), ('thats', 'NNS'), ('im', 'VBP'), ('giving', 'VBG'), ('star', 'NN'), ('little', 'JJ'), ('hair', 'NN'), ('scratch', 'VB'), ('lower', 'JJR'), ('side', 'NN'), ('phone', 'NN'), ('cant', 'NN'), ('really', 'RB'), ('see', 'VB'), ('since', 'IN'), ('applied', 'VBN'), ('screen', 'NN'), ('protector', 'NN'), ('cant', 'NN'), ('see', 'VBP'), ('around', 'IN'), ('camera', 'NN'), ('lens', 'VBZ'), ('light', 'JJ'), ('scratch', 'NN'), ('also', 'RB'), ('cant', 'JJ'), ('see', 'VBP'), ('hardly', 'RB'), ('noticeable', 'JJ'), ('battery', 'NN'), ('life', 'NN'), ('mine', 'NN'), ('say', 'VBP'), ('bad', 'JJ'), ('think', 'VBP'), ('let', 'VB'), ('see', 'VB'), ('go', 'VB'), ('im', 'JJ'), ('heavy', 'JJ'), ('daily', 'JJ'), ('user', 'NN'), ('could', 'MD'), ('problem', 'NN'), ('people', 'NNS'), ('connect', 'VBP'), ('mobile', 'JJ'), ('account', 'NN'), ('working', 'VBG'), ('everything', 'NN'), ('else', 'RB'), ('work', 'NN'), ('great', 'JJ'), ('camera', 'NN'), ('speaker', 'NN'), ('sound', 'VBD'), ('face', 'JJ'), ('recognition', 'NN'), ('great', 'JJ'), ('buy', 'NN'), ('save', 'VB'), ('money', 'NN'), ('new', 'JJ'), ('iphone', 'NN'), ('would', 'MD'), ('recommend', 'VB'), ('yes', 'JJR'), ('everyones', 'NNS'), ('experience', 'RBR'), ('different', 'JJ'), ('give', 'JJ'), ('day', 'NN'), ('return', 'VB'), ('exchangequick', 'JJ'), ('easy', 'JJ'), ('replacement', 'NN'), ('son', 'NN'), ('get', 'VB'), ('phone', 'NN'), ('quickly', 'RB'), ('since', 'IN'), ('pay', 'NN'), ('replacement', 'NN'), ('price', 'NN'), ('great', 'JJ'), ('also', 'RB'), ('phone', 'NN'), ('great', 'JJ'), ('condition', 'NN'), ('got', 'VBD'), ('packaged', 'VBN'), ('charger', 'NN'), ('brand', 'NN'), ('new', 'JJ'), ('cube', 'NN'), ('also', 'RB'), ('said', 'VBD'), ('screen', 'JJ'), ('protector', 'NN'), ('better', 'NN'), ('could', 'MD'), ('buy', 'VB'), ('store', 'NN'), ('buy', 'NN'), ('cover', 'NN'), ('amazon', 'NN'), ('also', 'RB'), ('skeptical', 'JJ'), ('buying', 'NN'), ('phone', 'NN'), ('provided', 'VBD'), ('carrier', 'NN'), ('everything', 'NN'), ('actually', 'RB'), ('turned', 'VBD'), ('greatbought', 'JJ'), ('thing', 'NN'), ('zero', 'NN'), ('problem', 'NN'), ('work', 'NN'), ('literally', 'RB'), ('booted', 'VBD'), ('everything', 'NN'), ('working', 'VBG'), ('everything', 'NN'), ('seems', 'VBZ'), ('line', 'NN'), ('thing', 'NN'), ('would', 'MD'), ('recommend', 'VB'), ('look', 'VB'), ('one', 'CD'), ('excellent', 'JJ'), ('condition', 'NN'), ('thats', 'VBZ'), ('one', 'CD'), ('got', 'VBD'), ('amazing', 'JJ'), ('zero', 'NN'), ('problem', 'NN'), ('would', 'MD'), ('highly', 'RB'), ('recommend', 'VB'), ('anybody', 'NN'), ('trying', 'VBG'), ('get', 'VB'), ('new', 'JJ'), ('iphone', 'NN'), ('one', 'CD'), ('refurbished', 'VBN'), ('theyre', 'NN'), ('greatphone', 'NN'), ('little', 'JJ'), ('glitch', 'JJ'), ('frist', 'NN'), ('recieved', 'VBD'), ('figured', 'JJ'), ('maybe', 'RB'), ('seeing', 'VBG'), ('thing', 'NN'), ('continued', 'VBD'), ('bout', 'RB'), ('two', 'CD'), ('month', 'NN'), ('glitch', 'NN'), ('lasted', 'VBD'), ('minute', 'JJ'), ('top', 'JJ'), ('corner', 'NN'), ('figured', 'VBD'), ('better', 'JJR'), ('send', 'NN'), ('backbuy', 'NN'), ('spree', 'JJ'), ('quickly', 'RB'), ('gave', 'VBD'), ('approval', 'NN'), ('printed', 'JJ'), ('shipment', 'NN'), ('label', 'NN'), ('returned', 'VBD'), ('productonce', 'NN'), ('phone', 'NN'), ('arrived', 'VBD'), ('gave', 'VBD'), ('prompt', 'JJ'), ('refund', 'NN'), ('puchaseim', 'NN'), ('sorry', 'NN'), ('didnt', 'NN'), ('work', 'NN'), ('definatly', 'RB'), ('would', 'MD'), ('use', 'VB'), ('buy', 'VB'), ('spree', 'JJ'), ('back', 'RB'), ('thier', 'JJR'), ('stuffthankslarrybought', 'NN'), ('one', 'CD'), ('used', 'VBN'), ('model', 'NN'), ('complaint', 'NN'), ('perfect', 'JJ'), ('form', 'NN'), ('aside', 'RB'), ('nearly', 'RB'), ('indistinguishable', 'JJ'), ('hairline', 'JJ'), ('crack', 'NN'), ('inch', 'NN'), ('long', 'RB'), ('center', 'NN'), ('expected', 'VBN'), ('used', 'JJ'), ('model', 'NN'), ('noticeable', 'JJ'), ('screen', 'JJ'), ('black', 'JJ'), ('battery', 'NN'), ('life', 'NN'), ('excellent', 'JJ'), ('go', 'VB'), ('entire', 'JJ'), ('day', 'NN'), ('one', 'CD'), ('charge', 'NN'), ('happens', 'VBZ'), ('minute', 'JJ'), ('hour', 'NN'), ('half', 'NN'), ('depending', 'VBG'), ('battery', 'NN'), ('level', 'NN'), ('camera', 'NN'), ('quality', 'NN'), ('beautiful', 'NN'), ('compared', 'VBN'), ('previous', 'JJ'), ('iphone', 'NN'), ('complaintgot', 'VBD'), ('white', 'JJ'), ('iphone', 'NN'), ('havent', 'NN'), ('even', 'RB'), ('month', 'NN'), ('started', 'VBD'), ('ghost', 'NN'), ('touch', 'NN'), ('updated', 'VBD'), ('changed', 'VBD'), ('screen', 'JJ'), ('protector', 'NN'), ('case', 'NN'), ('however', 'RB'), ('scratch', 'VB'), ('body', 'NN'), ('screen', 'JJ'), ('basically', 'RB'), ('brand', 'NN'), ('new', 'JJ'), ('also', 'RB'), ('noticed', 'VBN'), ('top', 'JJ'), ('right', 'NN'), ('corner', 'NN'), ('screen', 'NN'), ('started', 'VBD'), ('lift', 'NN'), ('kind', 'NN'), ('disappointed', 'VBD'), ('good', 'JJ'), ('phonewasnt', 'NN'), ('sure', 'JJ'), ('expect', 'VBP'), ('refurbished', 'VBN'), ('device', 'JJ'), ('comment', 'NN'), ('pretty', 'RB'), ('positive', 'JJ'), ('wasnt', 'NN'), ('happy', 'JJ'), ('mine', 'NN'), ('visible', 'JJ'), ('blemish', 'JJ'), ('screen', 'NN'), ('return', 'NN'), ('decided', 'VBD'), ('keeping', 'VBG'), ('price', 'NN'), ('applied', 'VBD'), ('screen', 'JJ'), ('protector', 'NN'), ('case', 'NN'), ('look', 'VB'), ('almost', 'RB'), ('good', 'JJ'), ('new', 'JJ'), ('battery', 'NN'), ('life', 'NN'), ('still', 'RB'), ('last', 'JJ'), ('full', 'JJ'), ('day', 'NN'), ('problem', 'NN'), ('idea', 'NN'), ('replacing', 'VBG'), ('battery', 'NN'), ('soon', 'RB'), ('bought', 'VBD'), ('iphone', 'NN'), ('awful', 'JJ'), ('dont', 'NN'), ('feel', 'NN'), ('need', 'VBP'), ('yet', 'RB'), ('battery', 'VBN'), ('really', 'RB'), ('great', 'JJ'), ('overall', 'JJ'), ('im', 'NN'), ('glad', 'NN'), ('got', 'VBD'), ('really', 'RB'), ('needed', 'VBN'), ('upgrade', 'NN'), ('iphonebought', 'NN'), ('purple', 'NN'), ('iphone', 'NN'), ('stone', 'NN'), ('digital', 'JJ'), ('despite', 'IN'), ('negative', 'JJ'), ('review', 'NN'), ('since', 'IN'), ('eligible', 'JJ'), ('return', 'NN'), ('however', 'RB'), ('phone', 'NN'), ('exceeded', 'VBD'), ('expectation', 'NN'), ('little', 'RB'), ('cosmetic', 'JJ'), ('damage', 'NN'), ('came', 'VBD'), ('clear', 'JJ'), ('case', 'NN'), ('screen', 'NN'), ('protector', 'NN'), ('wasnt', 'NN'), ('expecting', 'VBG'), ('activation', 'NN'), ('phone', 'NN'), ('simple', 'JJ'), ('easy', 'JJ'), ('factory', 'NN'), ('unlocked', 'JJ'), ('described', 'VBN'), ('problem', 'NN'), ('apple', 'NN'), ('id', 'NN'), ('camera', 'NN'), ('etc', 'NN'), ('waited', 'VBD'), ('week', 'NN'), ('truly', 'RB'), ('see', 'VB'), ('phone', 'NN'), ('operated', 'VBN'), ('par', 'IN'), ('glitching', 'VBG'), ('shutting', 'VBG'), ('facial', 'JJ'), ('recognition', 'NN'), ('work', 'NN'), ('perfectly', 'RB'), ('fine', 'JJ'), ('battery', 'NN'), ('life', 'NN'), ('amazing', 'VBG'), ('well', 'RB'), ('lasting', 'VBG'), ('full', 'JJ'), ('day', 'NN'), ('heavy', 'JJ'), ('use', 'NN'), ('experience', 'NN'), ('packaged', 'VBD'), ('product', 'NN'), ('also', 'RB'), ('made', 'VBD'), ('phone', 'NN'), ('feel', 'NN'), ('brand', 'NN'), ('new', 'JJ'), ('instead', 'RB'), ('second', 'JJ'), ('handfour', 'CD'), ('year', 'NN'), ('using', 'VBG'), ('android', 'JJ'), ('went', 'VBD'), ('back', 'RB'), ('iphone', 'NN'), ('since', 'IN'), ('everyone', 'NN'), ('else', 'RB'), ('family', 'NN'), ('iphone', 'NN'), ('didnt', 'NN'), ('want', 'VBP'), ('odd', 'JJ'), ('man', 'NN'), ('far', 'RB'), ('im', 'JJ'), ('liking', 'VBG'), ('technology', 'NN'), ('thought', 'VBN'), ('would', 'MD'), ('miss', 'VB'), ('fingerprint', 'NN'), ('scanner', 'NN'), ('samsung', 'VBD'), ('facial', 'JJ'), ('recognition', 'NN'), ('work', 'NN'), ('really', 'RB'), ('well', 'RB'), ('phone', 'NN'), ('everything', 'NN'), ('need', 'NN'), ('durable', 'JJ'), ('last', 'JJ'), ('iphone', 'NN'), ('buying', 'NN'), ('used', 'VBN'), ('amazon', 'RB'), ('certified', 'JJ'), ('price', 'NN'), ('good', 'NN'), ('reconditioned', 'VBD'), ('phone', 'NN'), ('look', 'NN'), ('good', 'JJ'), ('new', 'JJ'), ('one', 'CD'), ('far', 'RB'), ('good', 'JJ')], [('needed', 'VBN'), ('replace', 'VB'), ('teen', 'JJ'), ('iphone', 'NN'), ('absolutely', 'RB'), ('refuse', 'JJ'), ('pay', 'NN'), ('gross', 'JJ'), ('price', 'NN'), ('new', 'JJ'), ('phone', 'NN'), ('especially', 'RB'), ('teen', 'JJ'), ('tend', 'VBP'), ('break', 'JJ'), ('damage', 'NN'), ('phone', 'NN'), ('easier', 'JJR'), ('almost', 'RB'), ('bought', 'VBD'), ('refurbished', 'JJ'), ('phone', 'NN'), ('ebay', 'NN'), ('saw', 'VBD'), ('google', 'JJ'), ('amazon', 'NN'), ('sold', 'VBD'), ('amazon', 'RB'), ('better', 'RBR'), ('return', 'NN'), ('policy', 'NN'), ('im', 'NN'), ('familiar', 'JJ'), ('amazon', 'NN'), ('never', 'RB'), ('use', 'VBP'), ('ebay', 'JJ'), ('felt', 'VBD'), ('better', 'RBR'), ('buying', 'VBG'), ('far', 'RB'), ('phone', 'NN'), ('fine', 'JJ'), ('expected', 'VBN'), ('put', 'NN'), ('case', 'NN'), ('immediately', 'RB'), ('cosmetic', 'JJ'), ('flaw', 'NN'), ('werent', 'NN'), ('noticeable', 'JJ'), ('also', 'RB'), ('able', 'JJ'), ('finance', 'NN'), ('pay', 'NN'), ('overtime', 'RB'), ('great', 'JJ'), ('ill', 'JJ'), ('pay', 'NN'), ('sooner', 'RBR'), ('financing', 'NN'), ('term', 'NN'), ('still', 'RB'), ('better', 'RBR'), ('putting', 'VBG'), ('credit', 'NN'), ('card', 'NN'), ('paying', 'VBG'), ('full', 'JJ'), ('price', 'NN'), ('front', 'NN'), ('hope', 'NN'), ('hold', 'VBP'), ('month', 'NN'), ('cant', 'JJ'), ('say', 'VBP'), ('much', 'JJ'), ('elseskeptical', 'JJ'), ('get', 'VB'), ('one', 'CD'), ('renewed', 'VBN'), ('iphone', 'NN'), ('decided', 'VBD'), ('try', 'NN'), ('ordered', 'VBD'), ('iphone', 'JJ'), ('gb', 'JJ'), ('black', 'JJ'), ('receipt', 'NN'), ('day', 'NN'), ('got', 'VBD'), ('upon', 'JJ'), ('inspection', 'NN'), ('phone', 'NN'), ('cant', 'NN'), ('expect', 'VBP'), ('perfect', 'JJ'), ('condition', 'NN'), ('thats', 'NNS'), ('im', 'VBP'), ('giving', 'VBG'), ('star', 'NN'), ('little', 'JJ'), ('hair', 'NN'), ('scratch', 'VB'), ('lower', 'JJR'), ('side', 'NN'), ('phone', 'NN'), ('cant', 'NN'), ('really', 'RB'), ('see', 'VB'), ('since', 'IN'), ('applied', 'VBN'), ('screen', 'NN'), ('protector', 'NN'), ('cant', 'NN'), ('see', 'VBP'), ('around', 'IN'), ('camera', 'NN'), ('lens', 'VBZ'), ('light', 'JJ'), ('scratch', 'NN'), ('also', 'RB'), ('cant', 'JJ'), ('see', 'VBP'), ('hardly', 'RB'), ('noticeable', 'JJ'), ('battery', 'NN'), ('life', 'NN'), ('mine', 'NN'), ('say', 'VBP'), ('bad', 'JJ'), ('think', 'VBP'), ('let', 'VB'), ('see', 'VB'), ('go', 'VB'), ('im', 'JJ'), ('heavy', 'JJ'), ('daily', 'JJ'), ('user', 'NN'), ('could', 'MD'), ('problem', 'NN'), ('people', 'NNS'), ('connect', 'VBP'), ('mobile', 'JJ'), ('account', 'NN'), ('working', 'VBG'), ('everything', 'NN'), ('else', 'RB'), ('work', 'NN'), ('great', 'JJ'), ('camera', 'NN'), ('speaker', 'NN'), ('sound', 'VBD'), ('face', 'JJ'), ('recognition', 'NN'), ('great', 'JJ'), ('buy', 'NN'), ('save', 'VB'), ('money', 'NN'), ('new', 'JJ'), ('iphone', 'NN'), ('would', 'MD'), ('recommend', 'VB'), ('yes', 'JJR'), ('everyones', 'NNS'), ('experience', 'RBR'), ('different', 'JJ'), ('give', 'JJ'), ('day', 'NN'), ('return', 'VB'), ('exchangequick', 'JJ'), ('easy', 'JJ'), ('replacement', 'NN'), ('son', 'NN'), ('get', 'VB'), ('phone', 'NN'), ('quickly', 'RB'), ('since', 'IN'), ('pay', 'NN'), ('replacement', 'NN'), ('price', 'NN'), ('great', 'JJ'), ('also', 'RB'), ('phone', 'NN'), ('great', 'JJ'), ('condition', 'NN'), ('got', 'VBD'), ('packaged', 'VBN'), ('charger', 'NN'), ('brand', 'NN'), ('new', 'JJ'), ('cube', 'NN'), ('also', 'RB'), ('said', 'VBD'), ('screen', 'JJ'), ('protector', 'NN'), ('better', 'NN'), ('could', 'MD'), ('buy', 'VB'), ('store', 'NN'), ('buy', 'NN'), ('cover', 'NN'), ('amazon', 'NN'), ('also', 'RB'), ('skeptical', 'JJ'), ('buying', 'NN'), ('phone', 'NN'), ('provided', 'VBD'), ('carrier', 'NN'), ('everything', 'NN'), ('actually', 'RB'), ('turned', 'VBD'), ('greatbought', 'JJ'), ('thing', 'NN'), ('zero', 'NN'), ('problem', 'NN'), ('work', 'NN'), ('literally', 'RB'), ('booted', 'VBD'), ('everything', 'NN'), ('working', 'VBG'), ('everything', 'NN'), ('seems', 'VBZ'), ('line', 'NN'), ('thing', 'NN'), ('would', 'MD'), ('recommend', 'VB'), ('look', 'VB'), ('one', 'CD'), ('excellent', 'JJ'), ('condition', 'NN'), ('thats', 'VBZ'), ('one', 'CD'), ('got', 'VBD'), ('amazing', 'JJ'), ('zero', 'NN'), ('problem', 'NN'), ('would', 'MD'), ('highly', 'RB'), ('recommend', 'VB'), ('anybody', 'NN'), ('trying', 'VBG'), ('get', 'VB'), ('new', 'JJ'), ('iphone', 'NN'), ('one', 'CD'), ('refurbished', 'VBN'), ('theyre', 'NN'), ('greatphone', 'NN'), ('little', 'JJ'), ('glitch', 'JJ'), ('frist', 'NN'), ('recieved', 'VBD'), ('figured', 'JJ'), ('maybe', 'RB'), ('seeing', 'VBG'), ('thing', 'NN'), ('continued', 'VBD'), ('bout', 'RB'), ('two', 'CD'), ('month', 'NN'), ('glitch', 'NN'), ('lasted', 'VBD'), ('minute', 'JJ'), ('top', 'JJ'), ('corner', 'NN'), ('figured', 'VBD'), ('better', 'JJR'), ('send', 'NN'), ('backbuy', 'NN'), ('spree', 'JJ'), ('quickly', 'RB'), ('gave', 'VBD'), ('approval', 'NN'), ('printed', 'JJ'), ('shipment', 'NN'), ('label', 'NN'), ('returned', 'VBD'), ('productonce', 'NN'), ('phone', 'NN'), ('arrived', 'VBD'), ('gave', 'VBD'), ('prompt', 'JJ'), ('refund', 'NN'), ('puchaseim', 'NN'), ('sorry', 'NN'), ('didnt', 'NN'), ('work', 'NN'), ('definatly', 'RB'), ('would', 'MD'), ('use', 'VB'), ('buy', 'VB'), ('spree', 'JJ'), ('back', 'RB'), ('thier', 'JJR'), ('stuffthankslarrybought', 'NN'), ('one', 'CD'), ('used', 'VBN'), ('model', 'NN'), ('complaint', 'NN'), ('perfect', 'JJ'), ('form', 'NN'), ('aside', 'RB'), ('nearly', 'RB'), ('indistinguishable', 'JJ'), ('hairline', 'JJ'), ('crack', 'NN'), ('inch', 'NN'), ('long', 'RB'), ('center', 'NN'), ('expected', 'VBN'), ('used', 'JJ'), ('model', 'NN'), ('noticeable', 'JJ'), ('screen', 'JJ'), ('black', 'JJ'), ('battery', 'NN'), ('life', 'NN'), ('excellent', 'JJ'), ('go', 'VB'), ('entire', 'JJ'), ('day', 'NN'), ('one', 'CD'), ('charge', 'NN'), ('happens', 'VBZ'), ('minute', 'JJ'), ('hour', 'NN'), ('half', 'NN'), ('depending', 'VBG'), ('battery', 'NN'), ('level', 'NN'), ('camera', 'NN'), ('quality', 'NN'), ('beautiful', 'NN'), ('compared', 'VBN'), ('previous', 'JJ'), ('iphone', 'NN'), ('complaintgot', 'VBD'), ('white', 'JJ'), ('iphone', 'NN'), ('havent', 'NN'), ('even', 'RB'), ('month', 'NN'), ('started', 'VBD'), ('ghost', 'NN'), ('touch', 'NN'), ('updated', 'VBD'), ('changed', 'VBD'), ('screen', 'JJ'), ('protector', 'NN'), ('case', 'NN'), ('however', 'RB'), ('scratch', 'VB'), ('body', 'NN'), ('screen', 'JJ'), ('basically', 'RB'), ('brand', 'NN'), ('new', 'JJ'), ('also', 'RB'), ('noticed', 'VBN'), ('top', 'JJ'), ('right', 'NN'), ('corner', 'NN'), ('screen', 'NN'), ('started', 'VBD'), ('lift', 'NN'), ('kind', 'NN'), ('disappointed', 'VBD'), ('good', 'JJ'), ('phonewasnt', 'NN'), ('sure', 'JJ'), ('expect', 'VBP'), ('refurbished', 'VBN'), ('device', 'JJ'), ('comment', 'NN'), ('pretty', 'RB'), ('positive', 'JJ'), ('wasnt', 'NN'), ('happy', 'JJ'), ('mine', 'NN'), ('visible', 'JJ'), ('blemish', 'JJ'), ('screen', 'NN'), ('return', 'NN'), ('decided', 'VBD'), ('keeping', 'VBG'), ('price', 'NN'), ('applied', 'VBD'), ('screen', 'JJ'), ('protector', 'NN'), ('case', 'NN'), ('look', 'VB'), ('almost', 'RB'), ('good', 'JJ'), ('new', 'JJ'), ('battery', 'NN'), ('life', 'NN'), ('still', 'RB'), ('last', 'JJ'), ('full', 'JJ'), ('day', 'NN'), ('problem', 'NN'), ('idea', 'NN'), ('replacing', 'VBG'), ('battery', 'NN'), ('soon', 'RB'), ('bought', 'VBD'), ('iphone', 'NN'), ('awful', 'JJ'), ('dont', 'NN'), ('feel', 'NN'), ('need', 'VBP'), ('yet', 'RB'), ('battery', 'VBN'), ('really', 'RB'), ('great', 'JJ'), ('overall', 'JJ'), ('im', 'NN'), ('glad', 'NN'), ('got', 'VBD'), ('really', 'RB'), ('needed', 'VBN'), ('upgrade', 'NN'), ('iphonebought', 'NN'), ('purple', 'NN'), ('iphone', 'NN'), ('stone', 'NN'), ('digital', 'JJ'), ('despite', 'IN'), ('negative', 'JJ'), ('review', 'NN'), ('since', 'IN'), ('eligible', 'JJ'), ('return', 'NN'), ('however', 'RB'), ('phone', 'NN'), ('exceeded', 'VBD'), ('expectation', 'NN'), ('little', 'RB'), ('cosmetic', 'JJ'), ('damage', 'NN'), ('came', 'VBD'), ('clear', 'JJ'), ('case', 'NN'), ('screen', 'NN'), ('protector', 'NN'), ('wasnt', 'NN'), ('expecting', 'VBG'), ('activation', 'NN'), ('phone', 'NN'), ('simple', 'JJ'), ('easy', 'JJ'), ('factory', 'NN'), ('unlocked', 'JJ'), ('described', 'VBN'), ('problem', 'NN'), ('apple', 'NN'), ('id', 'NN'), ('camera', 'NN'), ('etc', 'NN'), ('waited', 'VBD'), ('week', 'NN'), ('truly', 'RB'), ('see', 'VB'), ('phone', 'NN'), ('operated', 'VBN'), ('par', 'IN'), ('glitching', 'VBG'), ('shutting', 'VBG'), ('facial', 'JJ'), ('recognition', 'NN'), ('work', 'NN'), ('perfectly', 'RB'), ('fine', 'JJ'), ('battery', 'NN'), ('life', 'NN'), ('amazing', 'VBG'), ('well', 'RB'), ('lasting', 'VBG'), ('full', 'JJ'), ('day', 'NN'), ('heavy', 'JJ'), ('use', 'NN'), ('experience', 'NN'), ('packaged', 'VBD'), ('product', 'NN'), ('also', 'RB'), ('made', 'VBD'), ('phone', 'NN'), ('feel', 'NN'), ('brand', 'NN'), ('new', 'JJ'), ('instead', 'RB'), ('second', 'JJ'), ('handfour', 'CD'), ('year', 'NN'), ('using', 'VBG'), ('android', 'JJ'), ('went', 'VBD'), ('back', 'RB'), ('iphone', 'NN'), ('since', 'IN'), ('everyone', 'NN'), ('else', 'RB'), ('family', 'NN'), ('iphone', 'NN'), ('didnt', 'NN'), ('want', 'VBP'), ('odd', 'JJ'), ('man', 'NN'), ('far', 'RB'), ('im', 'JJ'), ('liking', 'VBG'), ('technology', 'NN'), ('thought', 'VBN'), ('would', 'MD'), ('miss', 'VB'), ('fingerprint', 'NN'), ('scanner', 'NN'), ('samsung', 'VBD'), ('facial', 'JJ'), ('recognition', 'NN'), ('work', 'NN'), ('really', 'RB'), ('well', 'RB'), ('phone', 'NN'), ('everything', 'NN'), ('need', 'NN'), ('durable', 'JJ'), ('last', 'JJ'), ('iphone', 'NN'), ('buying', 'NN'), ('used', 'VBN'), ('amazon', 'RB'), ('certified', 'JJ'), ('price', 'NN'), ('good', 'NN'), ('reconditioned', 'VBD'), ('phone', 'NN'), ('look', 'NN'), ('good', 'JJ'), ('new', 'JJ'), ('one', 'CD'), ('far', 'RB'), ('good', 'JJ')], [('needed', 'VBN'), ('replace', 'VB'), ('teen', 'JJ'), ('iphone', 'NN'), ('absolutely', 'RB'), ('refuse', 'JJ'), ('pay', 'NN'), ('gross', 'JJ'), ('price', 'NN'), ('new', 'JJ'), ('phone', 'NN'), ('especially', 'RB'), ('teen', 'JJ'), ('tend', 'VBP'), ('break', 'JJ'), ('damage', 'NN'), ('phone', 'NN'), ('easier', 'JJR'), ('almost', 'RB'), ('bought', 'VBD'), ('refurbished', 'JJ'), ('phone', 'NN'), ('ebay', 'NN'), ('saw', 'VBD'), ('google', 'JJ'), ('amazon', 'NN'), ('sold', 'VBD'), ('amazon', 'RB'), ('better', 'RBR'), ('return', 'NN'), ('policy', 'NN'), ('im', 'NN'), ('familiar', 'JJ'), ('amazon', 'NN'), ('never', 'RB'), ('use', 'VBP'), ('ebay', 'JJ'), ('felt', 'VBD'), ('better', 'RBR'), ('buying', 'VBG'), ('far', 'RB'), ('phone', 'NN'), ('fine', 'JJ'), ('expected', 'VBN'), ('put', 'NN'), ('case', 'NN'), ('immediately', 'RB'), ('cosmetic', 'JJ'), ('flaw', 'NN'), ('werent', 'NN'), ('noticeable', 'JJ'), ('also', 'RB'), ('able', 'JJ'), ('finance', 'NN'), ('pay', 'NN'), ('overtime', 'RB'), ('great', 'JJ'), ('ill', 'JJ'), ('pay', 'NN'), ('sooner', 'RBR'), ('financing', 'NN'), ('term', 'NN'), ('still', 'RB'), ('better', 'RBR'), ('putting', 'VBG'), ('credit', 'NN'), ('card', 'NN'), ('paying', 'VBG'), ('full', 'JJ'), ('price', 'NN'), ('front', 'NN'), ('hope', 'NN'), ('hold', 'VBP'), ('month', 'NN'), ('cant', 'JJ'), ('say', 'VBP'), ('much', 'JJ'), ('elseskeptical', 'JJ'), ('get', 'VB'), ('one', 'CD'), ('renewed', 'VBN'), ('iphone', 'NN'), ('decided', 'VBD'), ('try', 'NN'), ('ordered', 'VBD'), ('iphone', 'JJ'), ('gb', 'JJ'), ('black', 'JJ'), ('receipt', 'NN'), ('day', 'NN'), ('got', 'VBD'), ('upon', 'JJ'), ('inspection', 'NN'), ('phone', 'NN'), ('cant', 'NN'), ('expect', 'VBP'), ('perfect', 'JJ'), ('condition', 'NN'), ('thats', 'NNS'), ('im', 'VBP'), ('giving', 'VBG'), ('star', 'NN'), ('little', 'JJ'), ('hair', 'NN'), ('scratch', 'VB'), ('lower', 'JJR'), ('side', 'NN'), ('phone', 'NN'), ('cant', 'NN'), ('really', 'RB'), ('see', 'VB'), ('since', 'IN'), ('applied', 'VBN'), ('screen', 'NN'), ('protector', 'NN'), ('cant', 'NN'), ('see', 'VBP'), ('around', 'IN'), ('camera', 'NN'), ('lens', 'VBZ'), ('light', 'JJ'), ('scratch', 'NN'), ('also', 'RB'), ('cant', 'JJ'), ('see', 'VBP'), ('hardly', 'RB'), ('noticeable', 'JJ'), ('battery', 'NN'), ('life', 'NN'), ('mine', 'NN'), ('say', 'VBP'), ('bad', 'JJ'), ('think', 'VBP'), ('let', 'VB'), ('see', 'VB'), ('go', 'VB'), ('im', 'JJ'), ('heavy', 'JJ'), ('daily', 'JJ'), ('user', 'NN'), ('could', 'MD'), ('problem', 'NN'), ('people', 'NNS'), ('connect', 'VBP'), ('mobile', 'JJ'), ('account', 'NN'), ('working', 'VBG'), ('everything', 'NN'), ('else', 'RB'), ('work', 'NN'), ('great', 'JJ'), ('camera', 'NN'), ('speaker', 'NN'), ('sound', 'VBD'), ('face', 'JJ'), ('recognition', 'NN'), ('great', 'JJ'), ('buy', 'NN'), ('save', 'VB'), ('money', 'NN'), ('new', 'JJ'), ('iphone', 'NN'), ('would', 'MD'), ('recommend', 'VB'), ('yes', 'JJR'), ('everyones', 'NNS'), ('experience', 'RBR'), ('different', 'JJ'), ('give', 'JJ'), ('day', 'NN'), ('return', 'VB'), ('exchangequick', 'JJ'), ('easy', 'JJ'), ('replacement', 'NN'), ('son', 'NN'), ('get', 'VB'), ('phone', 'NN'), ('quickly', 'RB'), ('since', 'IN'), ('pay', 'NN'), ('replacement', 'NN'), ('price', 'NN'), ('great', 'JJ'), ('also', 'RB'), ('phone', 'NN'), ('great', 'JJ'), ('condition', 'NN'), ('got', 'VBD'), ('packaged', 'VBN'), ('charger', 'NN'), ('brand', 'NN'), ('new', 'JJ'), ('cube', 'NN'), ('also', 'RB'), ('said', 'VBD'), ('screen', 'JJ'), ('protector', 'NN'), ('better', 'NN'), ('could', 'MD'), ('buy', 'VB'), ('store', 'NN'), ('buy', 'NN'), ('cover', 'NN'), ('amazon', 'NN'), ('also', 'RB'), ('skeptical', 'JJ'), ('buying', 'NN'), ('phone', 'NN'), ('provided', 'VBD'), ('carrier', 'NN'), ('everything', 'NN'), ('actually', 'RB'), ('turned', 'VBD'), ('greatbought', 'JJ'), ('thing', 'NN'), ('zero', 'NN'), ('problem', 'NN'), ('work', 'NN'), ('literally', 'RB'), ('booted', 'VBD'), ('everything', 'NN'), ('working', 'VBG'), ('everything', 'NN'), ('seems', 'VBZ'), ('line', 'NN'), ('thing', 'NN'), ('would', 'MD'), ('recommend', 'VB'), ('look', 'VB'), ('one', 'CD'), ('excellent', 'JJ'), ('condition', 'NN'), ('thats', 'VBZ'), ('one', 'CD'), ('got', 'VBD'), ('amazing', 'JJ'), ('zero', 'NN'), ('problem', 'NN'), ('would', 'MD'), ('highly', 'RB'), ('recommend', 'VB'), ('anybody', 'NN'), ('trying', 'VBG'), ('get', 'VB'), ('new', 'JJ'), ('iphone', 'NN'), ('one', 'CD'), ('refurbished', 'VBN'), ('theyre', 'NN'), ('greatphone', 'NN'), ('little', 'JJ'), ('glitch', 'JJ'), ('frist', 'NN'), ('recieved', 'VBD'), ('figured', 'JJ'), ('maybe', 'RB'), ('seeing', 'VBG'), ('thing', 'NN'), ('continued', 'VBD'), ('bout', 'RB'), ('two', 'CD'), ('month', 'NN'), ('glitch', 'NN'), ('lasted', 'VBD'), ('minute', 'JJ'), ('top', 'JJ'), ('corner', 'NN'), ('figured', 'VBD'), ('better', 'JJR'), ('send', 'NN'), ('backbuy', 'NN'), ('spree', 'JJ'), ('quickly', 'RB'), ('gave', 'VBD'), ('approval', 'NN'), ('printed', 'JJ'), ('shipment', 'NN'), ('label', 'NN'), ('returned', 'VBD'), ('productonce', 'NN'), ('phone', 'NN'), ('arrived', 'VBD'), ('gave', 'VBD'), ('prompt', 'JJ'), ('refund', 'NN'), ('puchaseim', 'NN'), ('sorry', 'NN'), ('didnt', 'NN'), ('work', 'NN'), ('definatly', 'RB'), ('would', 'MD'), ('use', 'VB'), ('buy', 'VB'), ('spree', 'JJ'), ('back', 'RB'), ('thier', 'JJR'), ('stuffthankslarrybought', 'NN'), ('one', 'CD'), ('used', 'VBN'), ('model', 'NN'), ('complaint', 'NN'), ('perfect', 'JJ'), ('form', 'NN'), ('aside', 'RB'), ('nearly', 'RB'), ('indistinguishable', 'JJ'), ('hairline', 'JJ'), ('crack', 'NN'), ('inch', 'NN'), ('long', 'RB'), ('center', 'NN'), ('expected', 'VBN'), ('used', 'JJ'), ('model', 'NN'), ('noticeable', 'JJ'), ('screen', 'JJ'), ('black', 'JJ'), ('battery', 'NN'), ('life', 'NN'), ('excellent', 'JJ'), ('go', 'VB'), ('entire', 'JJ'), ('day', 'NN'), ('one', 'CD'), ('charge', 'NN'), ('happens', 'VBZ'), ('minute', 'JJ'), ('hour', 'NN'), ('half', 'NN'), ('depending', 'VBG'), ('battery', 'NN'), ('level', 'NN'), ('camera', 'NN'), ('quality', 'NN'), ('beautiful', 'NN'), ('compared', 'VBN'), ('previous', 'JJ'), ('iphone', 'NN'), ('complaintgot', 'VBD'), ('white', 'JJ'), ('iphone', 'NN'), ('havent', 'NN'), ('even', 'RB'), ('month', 'NN'), ('started', 'VBD'), ('ghost', 'NN'), ('touch', 'NN'), ('updated', 'VBD'), ('changed', 'VBD'), ('screen', 'JJ'), ('protector', 'NN'), ('case', 'NN'), ('however', 'RB'), ('scratch', 'VB'), ('body', 'NN'), ('screen', 'JJ'), ('basically', 'RB'), ('brand', 'NN'), ('new', 'JJ'), ('also', 'RB'), ('noticed', 'VBN'), ('top', 'JJ'), ('right', 'NN'), ('corner', 'NN'), ('screen', 'NN'), ('started', 'VBD'), ('lift', 'NN'), ('kind', 'NN'), ('disappointed', 'VBD'), ('good', 'JJ'), ('phonewasnt', 'NN'), ('sure', 'JJ'), ('expect', 'VBP'), ('refurbished', 'VBN'), ('device', 'JJ'), ('comment', 'NN'), ('pretty', 'RB'), ('positive', 'JJ'), ('wasnt', 'NN'), ('happy', 'JJ'), ('mine', 'NN'), ('visible', 'JJ'), ('blemish', 'JJ'), ('screen', 'NN'), ('return', 'NN'), ('decided', 'VBD'), ('keeping', 'VBG'), ('price', 'NN'), ('applied', 'VBD'), ('screen', 'JJ'), ('protector', 'NN'), ('case', 'NN'), ('look', 'VB'), ('almost', 'RB'), ('good', 'JJ'), ('new', 'JJ'), ('battery', 'NN'), ('life', 'NN'), ('still', 'RB'), ('last', 'JJ'), ('full', 'JJ'), ('day', 'NN'), ('problem', 'NN'), ('idea', 'NN'), ('replacing', 'VBG'), ('battery', 'NN'), ('soon', 'RB'), ('bought', 'VBD'), ('iphone', 'NN'), ('awful', 'JJ'), ('dont', 'NN'), ('feel', 'NN'), ('need', 'VBP'), ('yet', 'RB'), ('battery', 'VBN'), ('really', 'RB'), ('great', 'JJ'), ('overall', 'JJ'), ('im', 'NN'), ('glad', 'NN'), ('got', 'VBD'), ('really', 'RB'), ('needed', 'VBN'), ('upgrade', 'NN'), ('iphonebought', 'NN'), ('purple', 'NN'), ('iphone', 'NN'), ('stone', 'NN'), ('digital', 'JJ'), ('despite', 'IN'), ('negative', 'JJ'), ('review', 'NN'), ('since', 'IN'), ('eligible', 'JJ'), ('return', 'NN'), ('however', 'RB'), ('phone', 'NN'), ('exceeded', 'VBD'), ('expectation', 'NN'), ('little', 'RB'), ('cosmetic', 'JJ'), ('damage', 'NN'), ('came', 'VBD'), ('clear', 'JJ'), ('case', 'NN'), ('screen', 'NN'), ('protector', 'NN'), ('wasnt', 'NN'), ('expecting', 'VBG'), ('activation', 'NN'), ('phone', 'NN'), ('simple', 'JJ'), ('easy', 'JJ'), ('factory', 'NN'), ('unlocked', 'JJ'), ('described', 'VBN'), ('problem', 'NN'), ('apple', 'NN'), ('id', 'NN'), ('camera', 'NN'), ('etc', 'NN'), ('waited', 'VBD'), ('week', 'NN'), ('truly', 'RB'), ('see', 'VB'), ('phone', 'NN'), ('operated', 'VBN'), ('par', 'IN'), ('glitching', 'VBG'), ('shutting', 'VBG'), ('facial', 'JJ'), ('recognition', 'NN'), ('work', 'NN'), ('perfectly', 'RB'), ('fine', 'JJ'), ('battery', 'NN'), ('life', 'NN'), ('amazing', 'VBG'), ('well', 'RB'), ('lasting', 'VBG'), ('full', 'JJ'), ('day', 'NN'), ('heavy', 'JJ'), ('use', 'NN'), ('experience', 'NN'), ('packaged', 'VBD'), ('product', 'NN'), ('also', 'RB'), ('made', 'VBD'), ('phone', 'NN'), ('feel', 'NN'), ('brand', 'NN'), ('new', 'JJ'), ('instead', 'RB'), ('second', 'JJ'), ('handfour', 'CD'), ('year', 'NN'), ('using', 'VBG'), ('android', 'JJ'), ('went', 'VBD'), ('back', 'RB'), ('iphone', 'NN'), ('since', 'IN'), ('everyone', 'NN'), ('else', 'RB'), ('family', 'NN'), ('iphone', 'NN'), ('didnt', 'NN'), ('want', 'VBP'), ('odd', 'JJ'), ('man', 'NN'), ('far', 'RB'), ('im', 'JJ'), ('liking', 'VBG'), ('technology', 'NN'), ('thought', 'VBN'), ('would', 'MD'), ('miss', 'VB'), ('fingerprint', 'NN'), ('scanner', 'NN'), ('samsung', 'VBD'), ('facial', 'JJ'), ('recognition', 'NN'), ('work', 'NN'), ('really', 'RB'), ('well', 'RB'), ('phone', 'NN'), ('everything', 'NN'), ('need', 'NN'), ('durable', 'JJ'), ('last', 'JJ'), ('iphone', 'NN'), ('buying', 'NN'), ('used', 'VBN'), ('amazon', 'RB'), ('certified', 'JJ'), ('price', 'NN'), ('good', 'NN'), ('reconditioned', 'VBD'), ('phone', 'NN'), ('look', 'NN'), ('good', 'JJ'), ('new', 'JJ'), ('one', 'CD'), ('far', 'RB'), ('good', 'JJ')], [('needed', 'VBN'), ('replace', 'VB'), ('teen', 'JJ'), ('iphone', 'NN'), ('absolutely', 'RB'), ('refuse', 'JJ'), ('pay', 'NN'), ('gross', 'JJ'), ('price', 'NN'), ('new', 'JJ'), ('phone', 'NN'), ('especially', 'RB'), ('teen', 'JJ'), ('tend', 'VBP'), ('break', 'JJ'), ('damage', 'NN'), ('phone', 'NN'), ('easier', 'JJR'), ('almost', 'RB'), ('bought', 'VBD'), ('refurbished', 'JJ'), ('phone', 'NN'), ('ebay', 'NN'), ('saw', 'VBD'), ('google', 'JJ'), ('amazon', 'NN'), ('sold', 'VBD'), ('amazon', 'RB'), ('better', 'RBR'), ('return', 'NN'), ('policy', 'NN'), ('im', 'NN'), ('familiar', 'JJ'), ('amazon', 'NN'), ('never', 'RB'), ('use', 'VBP'), ('ebay', 'JJ'), ('felt', 'VBD'), ('better', 'RBR'), ('buying', 'VBG'), ('far', 'RB'), ('phone', 'NN'), ('fine', 'JJ'), ('expected', 'VBN'), ('put', 'NN'), ('case', 'NN'), ('immediately', 'RB'), ('cosmetic', 'JJ'), ('flaw', 'NN'), ('werent', 'NN'), ('noticeable', 'JJ'), ('also', 'RB'), ('able', 'JJ'), ('finance', 'NN'), ('pay', 'NN'), ('overtime', 'RB'), ('great', 'JJ'), ('ill', 'JJ'), ('pay', 'NN'), ('sooner', 'RBR'), ('financing', 'NN'), ('term', 'NN'), ('still', 'RB'), ('better', 'RBR'), ('putting', 'VBG'), ('credit', 'NN'), ('card', 'NN'), ('paying', 'VBG'), ('full', 'JJ'), ('price', 'NN'), ('front', 'NN'), ('hope', 'NN'), ('hold', 'VBP'), ('month', 'NN'), ('cant', 'JJ'), ('say', 'VBP'), ('much', 'JJ'), ('elseskeptical', 'JJ'), ('get', 'VB'), ('one', 'CD'), ('renewed', 'VBN'), ('iphone', 'NN'), ('decided', 'VBD'), ('try', 'NN'), ('ordered', 'VBD'), ('iphone', 'JJ'), ('gb', 'JJ'), ('black', 'JJ'), ('receipt', 'NN'), ('day', 'NN'), ('got', 'VBD'), ('upon', 'JJ'), ('inspection', 'NN'), ('phone', 'NN'), ('cant', 'NN'), ('expect', 'VBP'), ('perfect', 'JJ'), ('condition', 'NN'), ('thats', 'NNS'), ('im', 'VBP'), ('giving', 'VBG'), ('star', 'NN'), ('little', 'JJ'), ('hair', 'NN'), ('scratch', 'VB'), ('lower', 'JJR'), ('side', 'NN'), ('phone', 'NN'), ('cant', 'NN'), ('really', 'RB'), ('see', 'VB'), ('since', 'IN'), ('applied', 'VBN'), ('screen', 'NN'), ('protector', 'NN'), ('cant', 'NN'), ('see', 'VBP'), ('around', 'IN'), ('camera', 'NN'), ('lens', 'VBZ'), ('light', 'JJ'), ('scratch', 'NN'), ('also', 'RB'), ('cant', 'JJ'), ('see', 'VBP'), ('hardly', 'RB'), ('noticeable', 'JJ'), ('battery', 'NN'), ('life', 'NN'), ('mine', 'NN'), ('say', 'VBP'), ('bad', 'JJ'), ('think', 'VBP'), ('let', 'VB'), ('see', 'VB'), ('go', 'VB'), ('im', 'JJ'), ('heavy', 'JJ'), ('daily', 'JJ'), ('user', 'NN'), ('could', 'MD'), ('problem', 'NN'), ('people', 'NNS'), ('connect', 'VBP'), ('mobile', 'JJ'), ('account', 'NN'), ('working', 'VBG'), ('everything', 'NN'), ('else', 'RB'), ('work', 'NN'), ('great', 'JJ'), ('camera', 'NN'), ('speaker', 'NN'), ('sound', 'VBD'), ('face', 'JJ'), ('recognition', 'NN'), ('great', 'JJ'), ('buy', 'NN'), ('save', 'VB'), ('money', 'NN'), ('new', 'JJ'), ('iphone', 'NN'), ('would', 'MD'), ('recommend', 'VB'), ('yes', 'JJR'), ('everyones', 'NNS'), ('experience', 'RBR'), ('different', 'JJ'), ('give', 'JJ'), ('day', 'NN'), ('return', 'VB'), ('exchangequick', 'JJ'), ('easy', 'JJ'), ('replacement', 'NN'), ('son', 'NN'), ('get', 'VB'), ('phone', 'NN'), ('quickly', 'RB'), ('since', 'IN'), ('pay', 'NN'), ('replacement', 'NN'), ('price', 'NN'), ('great', 'JJ'), ('also', 'RB'), ('phone', 'NN'), ('great', 'JJ'), ('condition', 'NN'), ('got', 'VBD'), ('packaged', 'VBN'), ('charger', 'NN'), ('brand', 'NN'), ('new', 'JJ'), ('cube', 'NN'), ('also', 'RB'), ('said', 'VBD'), ('screen', 'JJ'), ('protector', 'NN'), ('better', 'NN'), ('could', 'MD'), ('buy', 'VB'), ('store', 'NN'), ('buy', 'NN'), ('cover', 'NN'), ('amazon', 'NN'), ('also', 'RB'), ('skeptical', 'JJ'), ('buying', 'NN'), ('phone', 'NN'), ('provided', 'VBD'), ('carrier', 'NN'), ('everything', 'NN'), ('actually', 'RB'), ('turned', 'VBD'), ('greatbought', 'JJ'), ('thing', 'NN'), ('zero', 'NN'), ('problem', 'NN'), ('work', 'NN'), ('literally', 'RB'), ('booted', 'VBD'), ('everything', 'NN'), ('working', 'VBG'), ('everything', 'NN'), ('seems', 'VBZ'), ('line', 'NN'), ('thing', 'NN'), ('would', 'MD'), ('recommend', 'VB'), ('look', 'VB'), ('one', 'CD'), ('excellent', 'JJ'), ('condition', 'NN'), ('thats', 'VBZ'), ('one', 'CD'), ('got', 'VBD'), ('amazing', 'JJ'), ('zero', 'NN'), ('problem', 'NN'), ('would', 'MD'), ('highly', 'RB'), ('recommend', 'VB'), ('anybody', 'NN'), ('trying', 'VBG'), ('get', 'VB'), ('new', 'JJ'), ('iphone', 'NN'), ('one', 'CD'), ('refurbished', 'VBN'), ('theyre', 'NN'), ('greatphone', 'NN'), ('little', 'JJ'), ('glitch', 'JJ'), ('frist', 'NN'), ('recieved', 'VBD'), ('figured', 'JJ'), ('maybe', 'RB'), ('seeing', 'VBG'), ('thing', 'NN'), ('continued', 'VBD'), ('bout', 'RB'), ('two', 'CD'), ('month', 'NN'), ('glitch', 'NN'), ('lasted', 'VBD'), ('minute', 'JJ'), ('top', 'JJ'), ('corner', 'NN'), ('figured', 'VBD'), ('better', 'JJR'), ('send', 'NN'), ('backbuy', 'NN'), ('spree', 'JJ'), ('quickly', 'RB'), ('gave', 'VBD'), ('approval', 'NN'), ('printed', 'JJ'), ('shipment', 'NN'), ('label', 'NN'), ('returned', 'VBD'), ('productonce', 'NN'), ('phone', 'NN'), ('arrived', 'VBD'), ('gave', 'VBD'), ('prompt', 'JJ'), ('refund', 'NN'), ('puchaseim', 'NN'), ('sorry', 'NN'), ('didnt', 'NN'), ('work', 'NN'), ('definatly', 'RB'), ('would', 'MD'), ('use', 'VB'), ('buy', 'VB'), ('spree', 'JJ'), ('back', 'RB'), ('thier', 'JJR'), ('stuffthankslarrybought', 'NN'), ('one', 'CD'), ('used', 'VBN'), ('model', 'NN'), ('complaint', 'NN'), ('perfect', 'JJ'), ('form', 'NN'), ('aside', 'RB'), ('nearly', 'RB'), ('indistinguishable', 'JJ'), ('hairline', 'JJ'), ('crack', 'NN'), ('inch', 'NN'), ('long', 'RB'), ('center', 'NN'), ('expected', 'VBN'), ('used', 'JJ'), ('model', 'NN'), ('noticeable', 'JJ'), ('screen', 'JJ'), ('black', 'JJ'), ('battery', 'NN'), ('life', 'NN'), ('excellent', 'JJ'), ('go', 'VB'), ('entire', 'JJ'), ('day', 'NN'), ('one', 'CD'), ('charge', 'NN'), ('happens', 'VBZ'), ('minute', 'JJ'), ('hour', 'NN'), ('half', 'NN'), ('depending', 'VBG'), ('battery', 'NN'), ('level', 'NN'), ('camera', 'NN'), ('quality', 'NN'), ('beautiful', 'NN'), ('compared', 'VBN'), ('previous', 'JJ'), ('iphone', 'NN'), ('complaintgot', 'VBD'), ('white', 'JJ'), ('iphone', 'NN'), ('havent', 'NN'), ('even', 'RB'), ('month', 'NN'), ('started', 'VBD'), ('ghost', 'NN'), ('touch', 'NN'), ('updated', 'VBD'), ('changed', 'VBD'), ('screen', 'JJ'), ('protector', 'NN'), ('case', 'NN'), ('however', 'RB'), ('scratch', 'VB'), ('body', 'NN'), ('screen', 'JJ'), ('basically', 'RB'), ('brand', 'NN'), ('new', 'JJ'), ('also', 'RB'), ('noticed', 'VBN'), ('top', 'JJ'), ('right', 'NN'), ('corner', 'NN'), ('screen', 'NN'), ('started', 'VBD'), ('lift', 'NN'), ('kind', 'NN'), ('disappointed', 'VBD'), ('good', 'JJ'), ('phonewasnt', 'NN'), ('sure', 'JJ'), ('expect', 'VBP'), ('refurbished', 'VBN'), ('device', 'JJ'), ('comment', 'NN'), ('pretty', 'RB'), ('positive', 'JJ'), ('wasnt', 'NN'), ('happy', 'JJ'), ('mine', 'NN'), ('visible', 'JJ'), ('blemish', 'JJ'), ('screen', 'NN'), ('return', 'NN'), ('decided', 'VBD'), ('keeping', 'VBG'), ('price', 'NN'), ('applied', 'VBD'), ('screen', 'JJ'), ('protector', 'NN'), ('case', 'NN'), ('look', 'VB'), ('almost', 'RB'), ('good', 'JJ'), ('new', 'JJ'), ('battery', 'NN'), ('life', 'NN'), ('still', 'RB'), ('last', 'JJ'), ('full', 'JJ'), ('day', 'NN'), ('problem', 'NN'), ('idea', 'NN'), ('replacing', 'VBG'), ('battery', 'NN'), ('soon', 'RB'), ('bought', 'VBD'), ('iphone', 'NN'), ('awful', 'JJ'), ('dont', 'NN'), ('feel', 'NN'), ('need', 'VBP'), ('yet', 'RB'), ('battery', 'VBN'), ('really', 'RB'), ('great', 'JJ'), ('overall', 'JJ'), ('im', 'NN'), ('glad', 'NN'), ('got', 'VBD'), ('really', 'RB'), ('needed', 'VBN'), ('upgrade', 'NN'), ('iphonebought', 'NN'), ('purple', 'NN'), ('iphone', 'NN'), ('stone', 'NN'), ('digital', 'JJ'), ('despite', 'IN'), ('negative', 'JJ'), ('review', 'NN'), ('since', 'IN'), ('eligible', 'JJ'), ('return', 'NN'), ('however', 'RB'), ('phone', 'NN'), ('exceeded', 'VBD'), ('expectation', 'NN'), ('little', 'RB'), ('cosmetic', 'JJ'), ('damage', 'NN'), ('came', 'VBD'), ('clear', 'JJ'), ('case', 'NN'), ('screen', 'NN'), ('protector', 'NN'), ('wasnt', 'NN'), ('expecting', 'VBG'), ('activation', 'NN'), ('phone', 'NN'), ('simple', 'JJ'), ('easy', 'JJ'), ('factory', 'NN'), ('unlocked', 'JJ'), ('described', 'VBN'), ('problem', 'NN'), ('apple', 'NN'), ('id', 'NN'), ('camera', 'NN'), ('etc', 'NN'), ('waited', 'VBD'), ('week', 'NN'), ('truly', 'RB'), ('see', 'VB'), ('phone', 'NN'), ('operated', 'VBN'), ('par', 'IN'), ('glitching', 'VBG'), ('shutting', 'VBG'), ('facial', 'JJ'), ('recognition', 'NN'), ('work', 'NN'), ('perfectly', 'RB'), ('fine', 'JJ'), ('battery', 'NN'), ('life', 'NN'), ('amazing', 'VBG'), ('well', 'RB'), ('lasting', 'VBG'), ('full', 'JJ'), ('day', 'NN'), ('heavy', 'JJ'), ('use', 'NN'), ('experience', 'NN'), ('packaged', 'VBD'), ('product', 'NN'), ('also', 'RB'), ('made', 'VBD'), ('phone', 'NN'), ('feel', 'NN'), ('brand', 'NN'), ('new', 'JJ'), ('instead', 'RB'), ('second', 'JJ'), ('handfour', 'CD'), ('year', 'NN'), ('using', 'VBG'), ('android', 'JJ'), ('went', 'VBD'), ('back', 'RB'), ('iphone', 'NN'), ('since', 'IN'), ('everyone', 'NN'), ('else', 'RB'), ('family', 'NN'), ('iphone', 'NN'), ('didnt', 'NN'), ('want', 'VBP'), ('odd', 'JJ'), ('man', 'NN'), ('far', 'RB'), ('im', 'JJ'), ('liking', 'VBG'), ('technology', 'NN'), ('thought', 'VBN'), ('would', 'MD'), ('miss', 'VB'), ('fingerprint', 'NN'), ('scanner', 'NN'), ('samsung', 'VBD'), ('facial', 'JJ'), ('recognition', 'NN'), ('work', 'NN'), ('really', 'RB'), ('well', 'RB'), ('phone', 'NN'), ('everything', 'NN'), ('need', 'NN'), ('durable', 'JJ'), ('last', 'JJ'), ('iphone', 'NN'), ('buying', 'NN'), ('used', 'VBN'), ('amazon', 'RB'), ('certified', 'JJ'), ('price', 'NN'), ('good', 'NN'), ('reconditioned', 'VBD'), ('phone', 'NN'), ('look', 'NN'), ('good', 'JJ'), ('new', 'JJ'), ('one', 'CD'), ('far', 'RB'), ('good', 'JJ')], [('needed', 'VBN'), ('replace', 'VB'), ('teen', 'JJ'), ('iphone', 'NN'), ('absolutely', 'RB'), ('refuse', 'JJ'), ('pay', 'NN'), ('gross', 'JJ'), ('price', 'NN'), ('new', 'JJ'), ('phone', 'NN'), ('especially', 'RB'), ('teen', 'JJ'), ('tend', 'VBP'), ('break', 'JJ'), ('damage', 'NN'), ('phone', 'NN'), ('easier', 'JJR'), ('almost', 'RB'), ('bought', 'VBD'), ('refurbished', 'JJ'), ('phone', 'NN'), ('ebay', 'NN'), ('saw', 'VBD'), ('google', 'JJ'), ('amazon', 'NN'), ('sold', 'VBD'), ('amazon', 'RB'), ('better', 'RBR'), ('return', 'NN'), ('policy', 'NN'), ('im', 'NN'), ('familiar', 'JJ'), ('amazon', 'NN'), ('never', 'RB'), ('use', 'VBP'), ('ebay', 'JJ'), ('felt', 'VBD'), ('better', 'RBR'), ('buying', 'VBG'), ('far', 'RB'), ('phone', 'NN'), ('fine', 'JJ'), ('expected', 'VBN'), ('put', 'NN'), ('case', 'NN'), ('immediately', 'RB'), ('cosmetic', 'JJ'), ('flaw', 'NN'), ('werent', 'NN'), ('noticeable', 'JJ'), ('also', 'RB'), ('able', 'JJ'), ('finance', 'NN'), ('pay', 'NN'), ('overtime', 'RB'), ('great', 'JJ'), ('ill', 'JJ'), ('pay', 'NN'), ('sooner', 'RBR'), ('financing', 'NN'), ('term', 'NN'), ('still', 'RB'), ('better', 'RBR'), ('putting', 'VBG'), ('credit', 'NN'), ('card', 'NN'), ('paying', 'VBG'), ('full', 'JJ'), ('price', 'NN'), ('front', 'NN'), ('hope', 'NN'), ('hold', 'VBP'), ('month', 'NN'), ('cant', 'JJ'), ('say', 'VBP'), ('much', 'JJ'), ('elseskeptical', 'JJ'), ('get', 'VB'), ('one', 'CD'), ('renewed', 'VBN'), ('iphone', 'NN'), ('decided', 'VBD'), ('try', 'NN'), ('ordered', 'VBD'), ('iphone', 'JJ'), ('gb', 'JJ'), ('black', 'JJ'), ('receipt', 'NN'), ('day', 'NN'), ('got', 'VBD'), ('upon', 'JJ'), ('inspection', 'NN'), ('phone', 'NN'), ('cant', 'NN'), ('expect', 'VBP'), ('perfect', 'JJ'), ('condition', 'NN'), ('thats', 'NNS'), ('im', 'VBP'), ('giving', 'VBG'), ('star', 'NN'), ('little', 'JJ'), ('hair', 'NN'), ('scratch', 'VB'), ('lower', 'JJR'), ('side', 'NN'), ('phone', 'NN'), ('cant', 'NN'), ('really', 'RB'), ('see', 'VB'), ('since', 'IN'), ('applied', 'VBN'), ('screen', 'NN'), ('protector', 'NN'), ('cant', 'NN'), ('see', 'VBP'), ('around', 'IN'), ('camera', 'NN'), ('lens', 'VBZ'), ('light', 'JJ'), ('scratch', 'NN'), ('also', 'RB'), ('cant', 'JJ'), ('see', 'VBP'), ('hardly', 'RB'), ('noticeable', 'JJ'), ('battery', 'NN'), ('life', 'NN'), ('mine', 'NN'), ('say', 'VBP'), ('bad', 'JJ'), ('think', 'VBP'), ('let', 'VB'), ('see', 'VB'), ('go', 'VB'), ('im', 'JJ'), ('heavy', 'JJ'), ('daily', 'JJ'), ('user', 'NN'), ('could', 'MD'), ('problem', 'NN'), ('people', 'NNS'), ('connect', 'VBP'), ('mobile', 'JJ'), ('account', 'NN'), ('working', 'VBG'), ('everything', 'NN'), ('else', 'RB'), ('work', 'NN'), ('great', 'JJ'), ('camera', 'NN'), ('speaker', 'NN'), ('sound', 'VBD'), ('face', 'JJ'), ('recognition', 'NN'), ('great', 'JJ'), ('buy', 'NN'), ('save', 'VB'), ('money', 'NN'), ('new', 'JJ'), ('iphone', 'NN'), ('would', 'MD'), ('recommend', 'VB'), ('yes', 'JJR'), ('everyones', 'NNS'), ('experience', 'RBR'), ('different', 'JJ'), ('give', 'JJ'), ('day', 'NN'), ('return', 'VB'), ('exchangequick', 'JJ'), ('easy', 'JJ'), ('replacement', 'NN'), ('son', 'NN'), ('get', 'VB'), ('phone', 'NN'), ('quickly', 'RB'), ('since', 'IN'), ('pay', 'NN'), ('replacement', 'NN'), ('price', 'NN'), ('great', 'JJ'), ('also', 'RB'), ('phone', 'NN'), ('great', 'JJ'), ('condition', 'NN'), ('got', 'VBD'), ('packaged', 'VBN'), ('charger', 'NN'), ('brand', 'NN'), ('new', 'JJ'), ('cube', 'NN'), ('also', 'RB'), ('said', 'VBD'), ('screen', 'JJ'), ('protector', 'NN'), ('better', 'NN'), ('could', 'MD'), ('buy', 'VB'), ('store', 'NN'), ('buy', 'NN'), ('cover', 'NN'), ('amazon', 'NN'), ('also', 'RB'), ('skeptical', 'JJ'), ('buying', 'NN'), ('phone', 'NN'), ('provided', 'VBD'), ('carrier', 'NN'), ('everything', 'NN'), ('actually', 'RB'), ('turned', 'VBD'), ('greatbought', 'JJ'), ('thing', 'NN'), ('zero', 'NN'), ('problem', 'NN'), ('work', 'NN'), ('literally', 'RB'), ('booted', 'VBD'), ('everything', 'NN'), ('working', 'VBG'), ('everything', 'NN'), ('seems', 'VBZ'), ('line', 'NN'), ('thing', 'NN'), ('would', 'MD'), ('recommend', 'VB'), ('look', 'VB'), ('one', 'CD'), ('excellent', 'JJ'), ('condition', 'NN'), ('thats', 'VBZ'), ('one', 'CD'), ('got', 'VBD'), ('amazing', 'JJ'), ('zero', 'NN'), ('problem', 'NN'), ('would', 'MD'), ('highly', 'RB'), ('recommend', 'VB'), ('anybody', 'NN'), ('trying', 'VBG'), ('get', 'VB'), ('new', 'JJ'), ('iphone', 'NN'), ('one', 'CD'), ('refurbished', 'VBN'), ('theyre', 'NN'), ('greatphone', 'NN'), ('little', 'JJ'), ('glitch', 'JJ'), ('frist', 'NN'), ('recieved', 'VBD'), ('figured', 'JJ'), ('maybe', 'RB'), ('seeing', 'VBG'), ('thing', 'NN'), ('continued', 'VBD'), ('bout', 'RB'), ('two', 'CD'), ('month', 'NN'), ('glitch', 'NN'), ('lasted', 'VBD'), ('minute', 'JJ'), ('top', 'JJ'), ('corner', 'NN'), ('figured', 'VBD'), ('better', 'JJR'), ('send', 'NN'), ('backbuy', 'NN'), ('spree', 'JJ'), ('quickly', 'RB'), ('gave', 'VBD'), ('approval', 'NN'), ('printed', 'JJ'), ('shipment', 'NN'), ('label', 'NN'), ('returned', 'VBD'), ('productonce', 'NN'), ('phone', 'NN'), ('arrived', 'VBD'), ('gave', 'VBD'), ('prompt', 'JJ'), ('refund', 'NN'), ('puchaseim', 'NN'), ('sorry', 'NN'), ('didnt', 'NN'), ('work', 'NN'), ('definatly', 'RB'), ('would', 'MD'), ('use', 'VB'), ('buy', 'VB'), ('spree', 'JJ'), ('back', 'RB'), ('thier', 'JJR'), ('stuffthankslarrybought', 'NN'), ('one', 'CD'), ('used', 'VBN'), ('model', 'NN'), ('complaint', 'NN'), ('perfect', 'JJ'), ('form', 'NN'), ('aside', 'RB'), ('nearly', 'RB'), ('indistinguishable', 'JJ'), ('hairline', 'JJ'), ('crack', 'NN'), ('inch', 'NN'), ('long', 'RB'), ('center', 'NN'), ('expected', 'VBN'), ('used', 'JJ'), ('model', 'NN'), ('noticeable', 'JJ'), ('screen', 'JJ'), ('black', 'JJ'), ('battery', 'NN'), ('life', 'NN'), ('excellent', 'JJ'), ('go', 'VB'), ('entire', 'JJ'), ('day', 'NN'), ('one', 'CD'), ('charge', 'NN'), ('happens', 'VBZ'), ('minute', 'JJ'), ('hour', 'NN'), ('half', 'NN'), ('depending', 'VBG'), ('battery', 'NN'), ('level', 'NN'), ('camera', 'NN'), ('quality', 'NN'), ('beautiful', 'NN'), ('compared', 'VBN'), ('previous', 'JJ'), ('iphone', 'NN'), ('complaintgot', 'VBD'), ('white', 'JJ'), ('iphone', 'NN'), ('havent', 'NN'), ('even', 'RB'), ('month', 'NN'), ('started', 'VBD'), ('ghost', 'NN'), ('touch', 'NN'), ('updated', 'VBD'), ('changed', 'VBD'), ('screen', 'JJ'), ('protector', 'NN'), ('case', 'NN'), ('however', 'RB'), ('scratch', 'VB'), ('body', 'NN'), ('screen', 'JJ'), ('basically', 'RB'), ('brand', 'NN'), ('new', 'JJ'), ('also', 'RB'), ('noticed', 'VBN'), ('top', 'JJ'), ('right', 'NN'), ('corner', 'NN'), ('screen', 'NN'), ('started', 'VBD'), ('lift', 'NN'), ('kind', 'NN'), ('disappointed', 'VBD'), ('good', 'JJ'), ('phonewasnt', 'NN'), ('sure', 'JJ'), ('expect', 'VBP'), ('refurbished', 'VBN'), ('device', 'JJ'), ('comment', 'NN'), ('pretty', 'RB'), ('positive', 'JJ'), ('wasnt', 'NN'), ('happy', 'JJ'), ('mine', 'NN'), ('visible', 'JJ'), ('blemish', 'JJ'), ('screen', 'NN'), ('return', 'NN'), ('decided', 'VBD'), ('keeping', 'VBG'), ('price', 'NN'), ('applied', 'VBD'), ('screen', 'JJ'), ('protector', 'NN'), ('case', 'NN'), ('look', 'VB'), ('almost', 'RB'), ('good', 'JJ'), ('new', 'JJ'), ('battery', 'NN'), ('life', 'NN'), ('still', 'RB'), ('last', 'JJ'), ('full', 'JJ'), ('day', 'NN'), ('problem', 'NN'), ('idea', 'NN'), ('replacing', 'VBG'), ('battery', 'NN'), ('soon', 'RB'), ('bought', 'VBD'), ('iphone', 'NN'), ('awful', 'JJ'), ('dont', 'NN'), ('feel', 'NN'), ('need', 'VBP'), ('yet', 'RB'), ('battery', 'VBN'), ('really', 'RB'), ('great', 'JJ'), ('overall', 'JJ'), ('im', 'NN'), ('glad', 'NN'), ('got', 'VBD'), ('really', 'RB'), ('needed', 'VBN'), ('upgrade', 'NN'), ('iphonebought', 'NN'), ('purple', 'NN'), ('iphone', 'NN'), ('stone', 'NN'), ('digital', 'JJ'), ('despite', 'IN'), ('negative', 'JJ'), ('review', 'NN'), ('since', 'IN'), ('eligible', 'JJ'), ('return', 'NN'), ('however', 'RB'), ('phone', 'NN'), ('exceeded', 'VBD'), ('expectation', 'NN'), ('little', 'RB'), ('cosmetic', 'JJ'), ('damage', 'NN'), ('came', 'VBD'), ('clear', 'JJ'), ('case', 'NN'), ('screen', 'NN'), ('protector', 'NN'), ('wasnt', 'NN'), ('expecting', 'VBG'), ('activation', 'NN'), ('phone', 'NN'), ('simple', 'JJ'), ('easy', 'JJ'), ('factory', 'NN'), ('unlocked', 'JJ'), ('described', 'VBN'), ('problem', 'NN'), ('apple', 'NN'), ('id', 'NN'), ('camera', 'NN'), ('etc', 'NN'), ('waited', 'VBD'), ('week', 'NN'), ('truly', 'RB'), ('see', 'VB'), ('phone', 'NN'), ('operated', 'VBN'), ('par', 'IN'), ('glitching', 'VBG'), ('shutting', 'VBG'), ('facial', 'JJ'), ('recognition', 'NN'), ('work', 'NN'), ('perfectly', 'RB'), ('fine', 'JJ'), ('battery', 'NN'), ('life', 'NN'), ('amazing', 'VBG'), ('well', 'RB'), ('lasting', 'VBG'), ('full', 'JJ'), ('day', 'NN'), ('heavy', 'JJ'), ('use', 'NN'), ('experience', 'NN'), ('packaged', 'VBD'), ('product', 'NN'), ('also', 'RB'), ('made', 'VBD'), ('phone', 'NN'), ('feel', 'NN'), ('brand', 'NN'), ('new', 'JJ'), ('instead', 'RB'), ('second', 'JJ'), ('handfour', 'CD'), ('year', 'NN'), ('using', 'VBG'), ('android', 'JJ'), ('went', 'VBD'), ('back', 'RB'), ('iphone', 'NN'), ('since', 'IN'), ('everyone', 'NN'), ('else', 'RB'), ('family', 'NN'), ('iphone', 'NN'), ('didnt', 'NN'), ('want', 'VBP'), ('odd', 'JJ'), ('man', 'NN'), ('far', 'RB'), ('im', 'JJ'), ('liking', 'VBG'), ('technology', 'NN'), ('thought', 'VBN'), ('would', 'MD'), ('miss', 'VB'), ('fingerprint', 'NN'), ('scanner', 'NN'), ('samsung', 'VBD'), ('facial', 'JJ'), ('recognition', 'NN'), ('work', 'NN'), ('really', 'RB'), ('well', 'RB'), ('phone', 'NN'), ('everything', 'NN'), ('need', 'NN'), ('durable', 'JJ'), ('last', 'JJ'), ('iphone', 'NN'), ('buying', 'NN'), ('used', 'VBN'), ('amazon', 'RB'), ('certified', 'JJ'), ('price', 'NN'), ('good', 'NN'), ('reconditioned', 'VBD'), ('phone', 'NN'), ('look', 'NN'), ('good', 'JJ'), ('new', 'JJ'), ('one', 'CD'), ('far', 'RB'), ('good', 'JJ')], [('needed', 'VBN'), ('replace', 'VB'), ('teen', 'JJ'), ('iphone', 'NN'), ('absolutely', 'RB'), ('refuse', 'JJ'), ('pay', 'NN'), ('gross', 'JJ'), ('price', 'NN'), ('new', 'JJ'), ('phone', 'NN'), ('especially', 'RB'), ('teen', 'JJ'), ('tend', 'VBP'), ('break', 'JJ'), ('damage', 'NN'), ('phone', 'NN'), ('easier', 'JJR'), ('almost', 'RB'), ('bought', 'VBD'), ('refurbished', 'JJ'), ('phone', 'NN'), ('ebay', 'NN'), ('saw', 'VBD'), ('google', 'JJ'), ('amazon', 'NN'), ('sold', 'VBD'), ('amazon', 'RB'), ('better', 'RBR'), ('return', 'NN'), ('policy', 'NN'), ('im', 'NN'), ('familiar', 'JJ'), ('amazon', 'NN'), ('never', 'RB'), ('use', 'VBP'), ('ebay', 'JJ'), ('felt', 'VBD'), ('better', 'RBR'), ('buying', 'VBG'), ('far', 'RB'), ('phone', 'NN'), ('fine', 'JJ'), ('expected', 'VBN'), ('put', 'NN'), ('case', 'NN'), ('immediately', 'RB'), ('cosmetic', 'JJ'), ('flaw', 'NN'), ('werent', 'NN'), ('noticeable', 'JJ'), ('also', 'RB'), ('able', 'JJ'), ('finance', 'NN'), ('pay', 'NN'), ('overtime', 'RB'), ('great', 'JJ'), ('ill', 'JJ'), ('pay', 'NN'), ('sooner', 'RBR'), ('financing', 'NN'), ('term', 'NN'), ('still', 'RB'), ('better', 'RBR'), ('putting', 'VBG'), ('credit', 'NN'), ('card', 'NN'), ('paying', 'VBG'), ('full', 'JJ'), ('price', 'NN'), ('front', 'NN'), ('hope', 'NN'), ('hold', 'VBP'), ('month', 'NN'), ('cant', 'JJ'), ('say', 'VBP'), ('much', 'JJ'), ('elseskeptical', 'JJ'), ('get', 'VB'), ('one', 'CD'), ('renewed', 'VBN'), ('iphone', 'NN'), ('decided', 'VBD'), ('try', 'NN'), ('ordered', 'VBD'), ('iphone', 'JJ'), ('gb', 'JJ'), ('black', 'JJ'), ('receipt', 'NN'), ('day', 'NN'), ('got', 'VBD'), ('upon', 'JJ'), ('inspection', 'NN'), ('phone', 'NN'), ('cant', 'NN'), ('expect', 'VBP'), ('perfect', 'JJ'), ('condition', 'NN'), ('thats', 'NNS'), ('im', 'VBP'), ('giving', 'VBG'), ('star', 'NN'), ('little', 'JJ'), ('hair', 'NN'), ('scratch', 'VB'), ('lower', 'JJR'), ('side', 'NN'), ('phone', 'NN'), ('cant', 'NN'), ('really', 'RB'), ('see', 'VB'), ('since', 'IN'), ('applied', 'VBN'), ('screen', 'NN'), ('protector', 'NN'), ('cant', 'NN'), ('see', 'VBP'), ('around', 'IN'), ('camera', 'NN'), ('lens', 'VBZ'), ('light', 'JJ'), ('scratch', 'NN'), ('also', 'RB'), ('cant', 'JJ'), ('see', 'VBP'), ('hardly', 'RB'), ('noticeable', 'JJ'), ('battery', 'NN'), ('life', 'NN'), ('mine', 'NN'), ('say', 'VBP'), ('bad', 'JJ'), ('think', 'VBP'), ('let', 'VB'), ('see', 'VB'), ('go', 'VB'), ('im', 'JJ'), ('heavy', 'JJ'), ('daily', 'JJ'), ('user', 'NN'), ('could', 'MD'), ('problem', 'NN'), ('people', 'NNS'), ('connect', 'VBP'), ('mobile', 'JJ'), ('account', 'NN'), ('working', 'VBG'), ('everything', 'NN'), ('else', 'RB'), ('work', 'NN'), ('great', 'JJ'), ('camera', 'NN'), ('speaker', 'NN'), ('sound', 'VBD'), ('face', 'JJ'), ('recognition', 'NN'), ('great', 'JJ'), ('buy', 'NN'), ('save', 'VB'), ('money', 'NN'), ('new', 'JJ'), ('iphone', 'NN'), ('would', 'MD'), ('recommend', 'VB'), ('yes', 'JJR'), ('everyones', 'NNS'), ('experience', 'RBR'), ('different', 'JJ'), ('give', 'JJ'), ('day', 'NN'), ('return', 'VB'), ('exchangequick', 'JJ'), ('easy', 'JJ'), ('replacement', 'NN'), ('son', 'NN'), ('get', 'VB'), ('phone', 'NN'), ('quickly', 'RB'), ('since', 'IN'), ('pay', 'NN'), ('replacement', 'NN'), ('price', 'NN'), ('great', 'JJ'), ('also', 'RB'), ('phone', 'NN'), ('great', 'JJ'), ('condition', 'NN'), ('got', 'VBD'), ('packaged', 'VBN'), ('charger', 'NN'), ('brand', 'NN'), ('new', 'JJ'), ('cube', 'NN'), ('also', 'RB'), ('said', 'VBD'), ('screen', 'JJ'), ('protector', 'NN'), ('better', 'NN'), ('could', 'MD'), ('buy', 'VB'), ('store', 'NN'), ('buy', 'NN'), ('cover', 'NN'), ('amazon', 'NN'), ('also', 'RB'), ('skeptical', 'JJ'), ('buying', 'NN'), ('phone', 'NN'), ('provided', 'VBD'), ('carrier', 'NN'), ('everything', 'NN'), ('actually', 'RB'), ('turned', 'VBD'), ('greatbought', 'JJ'), ('thing', 'NN'), ('zero', 'NN'), ('problem', 'NN'), ('work', 'NN'), ('literally', 'RB'), ('booted', 'VBD'), ('everything', 'NN'), ('working', 'VBG'), ('everything', 'NN'), ('seems', 'VBZ'), ('line', 'NN'), ('thing', 'NN'), ('would', 'MD'), ('recommend', 'VB'), ('look', 'VB'), ('one', 'CD'), ('excellent', 'JJ'), ('condition', 'NN'), ('thats', 'VBZ'), ('one', 'CD'), ('got', 'VBD'), ('amazing', 'JJ'), ('zero', 'NN'), ('problem', 'NN'), ('would', 'MD'), ('highly', 'RB'), ('recommend', 'VB'), ('anybody', 'NN'), ('trying', 'VBG'), ('get', 'VB'), ('new', 'JJ'), ('iphone', 'NN'), ('one', 'CD'), ('refurbished', 'VBN'), ('theyre', 'NN'), ('greatphone', 'NN'), ('little', 'JJ'), ('glitch', 'JJ'), ('frist', 'NN'), ('recieved', 'VBD'), ('figured', 'JJ'), ('maybe', 'RB'), ('seeing', 'VBG'), ('thing', 'NN'), ('continued', 'VBD'), ('bout', 'RB'), ('two', 'CD'), ('month', 'NN'), ('glitch', 'NN'), ('lasted', 'VBD'), ('minute', 'JJ'), ('top', 'JJ'), ('corner', 'NN'), ('figured', 'VBD'), ('better', 'JJR'), ('send', 'NN'), ('backbuy', 'NN'), ('spree', 'JJ'), ('quickly', 'RB'), ('gave', 'VBD'), ('approval', 'NN'), ('printed', 'JJ'), ('shipment', 'NN'), ('label', 'NN'), ('returned', 'VBD'), ('productonce', 'NN'), ('phone', 'NN'), ('arrived', 'VBD'), ('gave', 'VBD'), ('prompt', 'JJ'), ('refund', 'NN'), ('puchaseim', 'NN'), ('sorry', 'NN'), ('didnt', 'NN'), ('work', 'NN'), ('definatly', 'RB'), ('would', 'MD'), ('use', 'VB'), ('buy', 'VB'), ('spree', 'JJ'), ('back', 'RB'), ('thier', 'JJR'), ('stuffthankslarrybought', 'NN'), ('one', 'CD'), ('used', 'VBN'), ('model', 'NN'), ('complaint', 'NN'), ('perfect', 'JJ'), ('form', 'NN'), ('aside', 'RB'), ('nearly', 'RB'), ('indistinguishable', 'JJ'), ('hairline', 'JJ'), ('crack', 'NN'), ('inch', 'NN'), ('long', 'RB'), ('center', 'NN'), ('expected', 'VBN'), ('used', 'JJ'), ('model', 'NN'), ('noticeable', 'JJ'), ('screen', 'JJ'), ('black', 'JJ'), ('battery', 'NN'), ('life', 'NN'), ('excellent', 'JJ'), ('go', 'VB'), ('entire', 'JJ'), ('day', 'NN'), ('one', 'CD'), ('charge', 'NN'), ('happens', 'VBZ'), ('minute', 'JJ'), ('hour', 'NN'), ('half', 'NN'), ('depending', 'VBG'), ('battery', 'NN'), ('level', 'NN'), ('camera', 'NN'), ('quality', 'NN'), ('beautiful', 'NN'), ('compared', 'VBN'), ('previous', 'JJ'), ('iphone', 'NN'), ('complaintgot', 'VBD'), ('white', 'JJ'), ('iphone', 'NN'), ('havent', 'NN'), ('even', 'RB'), ('month', 'NN'), ('started', 'VBD'), ('ghost', 'NN'), ('touch', 'NN'), ('updated', 'VBD'), ('changed', 'VBD'), ('screen', 'JJ'), ('protector', 'NN'), ('case', 'NN'), ('however', 'RB'), ('scratch', 'VB'), ('body', 'NN'), ('screen', 'JJ'), ('basically', 'RB'), ('brand', 'NN'), ('new', 'JJ'), ('also', 'RB'), ('noticed', 'VBN'), ('top', 'JJ'), ('right', 'NN'), ('corner', 'NN'), ('screen', 'NN'), ('started', 'VBD'), ('lift', 'NN'), ('kind', 'NN'), ('disappointed', 'VBD'), ('good', 'JJ'), ('phonewasnt', 'NN'), ('sure', 'JJ'), ('expect', 'VBP'), ('refurbished', 'VBN'), ('device', 'JJ'), ('comment', 'NN'), ('pretty', 'RB'), ('positive', 'JJ'), ('wasnt', 'NN'), ('happy', 'JJ'), ('mine', 'NN'), ('visible', 'JJ'), ('blemish', 'JJ'), ('screen', 'NN'), ('return', 'NN'), ('decided', 'VBD'), ('keeping', 'VBG'), ('price', 'NN'), ('applied', 'VBD'), ('screen', 'JJ'), ('protector', 'NN'), ('case', 'NN'), ('look', 'VB'), ('almost', 'RB'), ('good', 'JJ'), ('new', 'JJ'), ('battery', 'NN'), ('life', 'NN'), ('still', 'RB'), ('last', 'JJ'), ('full', 'JJ'), ('day', 'NN'), ('problem', 'NN'), ('idea', 'NN'), ('replacing', 'VBG'), ('battery', 'NN'), ('soon', 'RB'), ('bought', 'VBD'), ('iphone', 'NN'), ('awful', 'JJ'), ('dont', 'NN'), ('feel', 'NN'), ('need', 'VBP'), ('yet', 'RB'), ('battery', 'VBN'), ('really', 'RB'), ('great', 'JJ'), ('overall', 'JJ'), ('im', 'NN'), ('glad', 'NN'), ('got', 'VBD'), ('really', 'RB'), ('needed', 'VBN'), ('upgrade', 'NN'), ('iphonebought', 'NN'), ('purple', 'NN'), ('iphone', 'NN'), ('stone', 'NN'), ('digital', 'JJ'), ('despite', 'IN'), ('negative', 'JJ'), ('review', 'NN'), ('since', 'IN'), ('eligible', 'JJ'), ('return', 'NN'), ('however', 'RB'), ('phone', 'NN'), ('exceeded', 'VBD'), ('expectation', 'NN'), ('little', 'RB'), ('cosmetic', 'JJ'), ('damage', 'NN'), ('came', 'VBD'), ('clear', 'JJ'), ('case', 'NN'), ('screen', 'NN'), ('protector', 'NN'), ('wasnt', 'NN'), ('expecting', 'VBG'), ('activation', 'NN'), ('phone', 'NN'), ('simple', 'JJ'), ('easy', 'JJ'), ('factory', 'NN'), ('unlocked', 'JJ'), ('described', 'VBN'), ('problem', 'NN'), ('apple', 'NN'), ('id', 'NN'), ('camera', 'NN'), ('etc', 'NN'), ('waited', 'VBD'), ('week', 'NN'), ('truly', 'RB'), ('see', 'VB'), ('phone', 'NN'), ('operated', 'VBN'), ('par', 'IN'), ('glitching', 'VBG'), ('shutting', 'VBG'), ('facial', 'JJ'), ('recognition', 'NN'), ('work', 'NN'), ('perfectly', 'RB'), ('fine', 'JJ'), ('battery', 'NN'), ('life', 'NN'), ('amazing', 'VBG'), ('well', 'RB'), ('lasting', 'VBG'), ('full', 'JJ'), ('day', 'NN'), ('heavy', 'JJ'), ('use', 'NN'), ('experience', 'NN'), ('packaged', 'VBD'), ('product', 'NN'), ('also', 'RB'), ('made', 'VBD'), ('phone', 'NN'), ('feel', 'NN'), ('brand', 'NN'), ('new', 'JJ'), ('instead', 'RB'), ('second', 'JJ'), ('handfour', 'CD'), ('year', 'NN'), ('using', 'VBG'), ('android', 'JJ'), ('went', 'VBD'), ('back', 'RB'), ('iphone', 'NN'), ('since', 'IN'), ('everyone', 'NN'), ('else', 'RB'), ('family', 'NN'), ('iphone', 'NN'), ('didnt', 'NN'), ('want', 'VBP'), ('odd', 'JJ'), ('man', 'NN'), ('far', 'RB'), ('im', 'JJ'), ('liking', 'VBG'), ('technology', 'NN'), ('thought', 'VBN'), ('would', 'MD'), ('miss', 'VB'), ('fingerprint', 'NN'), ('scanner', 'NN'), ('samsung', 'VBD'), ('facial', 'JJ'), ('recognition', 'NN'), ('work', 'NN'), ('really', 'RB'), ('well', 'RB'), ('phone', 'NN'), ('everything', 'NN'), ('need', 'NN'), ('durable', 'JJ'), ('last', 'JJ'), ('iphone', 'NN'), ('buying', 'NN'), ('used', 'VBN'), ('amazon', 'RB'), ('certified', 'JJ'), ('price', 'NN'), ('good', 'NN'), ('reconditioned', 'VBD'), ('phone', 'NN'), ('look', 'NN'), ('good', 'JJ'), ('new', 'JJ'), ('one', 'CD'), ('far', 'RB'), ('good', 'JJ')], [('needed', 'VBN'), ('replace', 'VB'), ('teen', 'JJ'), ('iphone', 'NN'), ('absolutely', 'RB'), ('refuse', 'JJ'), ('pay', 'NN'), ('gross', 'JJ'), ('price', 'NN'), ('new', 'JJ'), ('phone', 'NN'), ('especially', 'RB'), ('teen', 'JJ'), ('tend', 'VBP'), ('break', 'JJ'), ('damage', 'NN'), ('phone', 'NN'), ('easier', 'JJR'), ('almost', 'RB'), ('bought', 'VBD'), ('refurbished', 'JJ'), ('phone', 'NN'), ('ebay', 'NN'), ('saw', 'VBD'), ('google', 'JJ'), ('amazon', 'NN'), ('sold', 'VBD'), ('amazon', 'RB'), ('better', 'RBR'), ('return', 'NN'), ('policy', 'NN'), ('im', 'NN'), ('familiar', 'JJ'), ('amazon', 'NN'), ('never', 'RB'), ('use', 'VBP'), ('ebay', 'JJ'), ('felt', 'VBD'), ('better', 'RBR'), ('buying', 'VBG'), ('far', 'RB'), ('phone', 'NN'), ('fine', 'JJ'), ('expected', 'VBN'), ('put', 'NN'), ('case', 'NN'), ('immediately', 'RB'), ('cosmetic', 'JJ'), ('flaw', 'NN'), ('werent', 'NN'), ('noticeable', 'JJ'), ('also', 'RB'), ('able', 'JJ'), ('finance', 'NN'), ('pay', 'NN'), ('overtime', 'RB'), ('great', 'JJ'), ('ill', 'JJ'), ('pay', 'NN'), ('sooner', 'RBR'), ('financing', 'NN'), ('term', 'NN'), ('still', 'RB'), ('better', 'RBR'), ('putting', 'VBG'), ('credit', 'NN'), ('card', 'NN'), ('paying', 'VBG'), ('full', 'JJ'), ('price', 'NN'), ('front', 'NN'), ('hope', 'NN'), ('hold', 'VBP'), ('month', 'NN'), ('cant', 'JJ'), ('say', 'VBP'), ('much', 'JJ'), ('elseskeptical', 'JJ'), ('get', 'VB'), ('one', 'CD'), ('renewed', 'VBN'), ('iphone', 'NN'), ('decided', 'VBD'), ('try', 'NN'), ('ordered', 'VBD'), ('iphone', 'JJ'), ('gb', 'JJ'), ('black', 'JJ'), ('receipt', 'NN'), ('day', 'NN'), ('got', 'VBD'), ('upon', 'JJ'), ('inspection', 'NN'), ('phone', 'NN'), ('cant', 'NN'), ('expect', 'VBP'), ('perfect', 'JJ'), ('condition', 'NN'), ('thats', 'NNS'), ('im', 'VBP'), ('giving', 'VBG'), ('star', 'NN'), ('little', 'JJ'), ('hair', 'NN'), ('scratch', 'VB'), ('lower', 'JJR'), ('side', 'NN'), ('phone', 'NN'), ('cant', 'NN'), ('really', 'RB'), ('see', 'VB'), ('since', 'IN'), ('applied', 'VBN'), ('screen', 'NN'), ('protector', 'NN'), ('cant', 'NN'), ('see', 'VBP'), ('around', 'IN'), ('camera', 'NN'), ('lens', 'VBZ'), ('light', 'JJ'), ('scratch', 'NN'), ('also', 'RB'), ('cant', 'JJ'), ('see', 'VBP'), ('hardly', 'RB'), ('noticeable', 'JJ'), ('battery', 'NN'), ('life', 'NN'), ('mine', 'NN'), ('say', 'VBP'), ('bad', 'JJ'), ('think', 'VBP'), ('let', 'VB'), ('see', 'VB'), ('go', 'VB'), ('im', 'JJ'), ('heavy', 'JJ'), ('daily', 'JJ'), ('user', 'NN'), ('could', 'MD'), ('problem', 'NN'), ('people', 'NNS'), ('connect', 'VBP'), ('mobile', 'JJ'), ('account', 'NN'), ('working', 'VBG'), ('everything', 'NN'), ('else', 'RB'), ('work', 'NN'), ('great', 'JJ'), ('camera', 'NN'), ('speaker', 'NN'), ('sound', 'VBD'), ('face', 'JJ'), ('recognition', 'NN'), ('great', 'JJ'), ('buy', 'NN'), ('save', 'VB'), ('money', 'NN'), ('new', 'JJ'), ('iphone', 'NN'), ('would', 'MD'), ('recommend', 'VB'), ('yes', 'JJR'), ('everyones', 'NNS'), ('experience', 'RBR'), ('different', 'JJ'), ('give', 'JJ'), ('day', 'NN'), ('return', 'VB'), ('exchangequick', 'JJ'), ('easy', 'JJ'), ('replacement', 'NN'), ('son', 'NN'), ('get', 'VB'), ('phone', 'NN'), ('quickly', 'RB'), ('since', 'IN'), ('pay', 'NN'), ('replacement', 'NN'), ('price', 'NN'), ('great', 'JJ'), ('also', 'RB'), ('phone', 'NN'), ('great', 'JJ'), ('condition', 'NN'), ('got', 'VBD'), ('packaged', 'VBN'), ('charger', 'NN'), ('brand', 'NN'), ('new', 'JJ'), ('cube', 'NN'), ('also', 'RB'), ('said', 'VBD'), ('screen', 'JJ'), ('protector', 'NN'), ('better', 'NN'), ('could', 'MD'), ('buy', 'VB'), ('store', 'NN'), ('buy', 'NN'), ('cover', 'NN'), ('amazon', 'NN'), ('also', 'RB'), ('skeptical', 'JJ'), ('buying', 'NN'), ('phone', 'NN'), ('provided', 'VBD'), ('carrier', 'NN'), ('everything', 'NN'), ('actually', 'RB'), ('turned', 'VBD'), ('greatbought', 'JJ'), ('thing', 'NN'), ('zero', 'NN'), ('problem', 'NN'), ('work', 'NN'), ('literally', 'RB'), ('booted', 'VBD'), ('everything', 'NN'), ('working', 'VBG'), ('everything', 'NN'), ('seems', 'VBZ'), ('line', 'NN'), ('thing', 'NN'), ('would', 'MD'), ('recommend', 'VB'), ('look', 'VB'), ('one', 'CD'), ('excellent', 'JJ'), ('condition', 'NN'), ('thats', 'VBZ'), ('one', 'CD'), ('got', 'VBD'), ('amazing', 'JJ'), ('zero', 'NN'), ('problem', 'NN'), ('would', 'MD'), ('highly', 'RB'), ('recommend', 'VB'), ('anybody', 'NN'), ('trying', 'VBG'), ('get', 'VB'), ('new', 'JJ'), ('iphone', 'NN'), ('one', 'CD'), ('refurbished', 'VBN'), ('theyre', 'NN'), ('greatphone', 'NN'), ('little', 'JJ'), ('glitch', 'JJ'), ('frist', 'NN'), ('recieved', 'VBD'), ('figured', 'JJ'), ('maybe', 'RB'), ('seeing', 'VBG'), ('thing', 'NN'), ('continued', 'VBD'), ('bout', 'RB'), ('two', 'CD'), ('month', 'NN'), ('glitch', 'NN'), ('lasted', 'VBD'), ('minute', 'JJ'), ('top', 'JJ'), ('corner', 'NN'), ('figured', 'VBD'), ('better', 'JJR'), ('send', 'NN'), ('backbuy', 'NN'), ('spree', 'JJ'), ('quickly', 'RB'), ('gave', 'VBD'), ('approval', 'NN'), ('printed', 'JJ'), ('shipment', 'NN'), ('label', 'NN'), ('returned', 'VBD'), ('productonce', 'NN'), ('phone', 'NN'), ('arrived', 'VBD'), ('gave', 'VBD'), ('prompt', 'JJ'), ('refund', 'NN'), ('puchaseim', 'NN'), ('sorry', 'NN'), ('didnt', 'NN'), ('work', 'NN'), ('definatly', 'RB'), ('would', 'MD'), ('use', 'VB'), ('buy', 'VB'), ('spree', 'JJ'), ('back', 'RB'), ('thier', 'JJR'), ('stuffthankslarrybought', 'NN'), ('one', 'CD'), ('used', 'VBN'), ('model', 'NN'), ('complaint', 'NN'), ('perfect', 'JJ'), ('form', 'NN'), ('aside', 'RB'), ('nearly', 'RB'), ('indistinguishable', 'JJ'), ('hairline', 'JJ'), ('crack', 'NN'), ('inch', 'NN'), ('long', 'RB'), ('center', 'NN'), ('expected', 'VBN'), ('used', 'JJ'), ('model', 'NN'), ('noticeable', 'JJ'), ('screen', 'JJ'), ('black', 'JJ'), ('battery', 'NN'), ('life', 'NN'), ('excellent', 'JJ'), ('go', 'VB'), ('entire', 'JJ'), ('day', 'NN'), ('one', 'CD'), ('charge', 'NN'), ('happens', 'VBZ'), ('minute', 'JJ'), ('hour', 'NN'), ('half', 'NN'), ('depending', 'VBG'), ('battery', 'NN'), ('level', 'NN'), ('camera', 'NN'), ('quality', 'NN'), ('beautiful', 'NN'), ('compared', 'VBN'), ('previous', 'JJ'), ('iphone', 'NN'), ('complaintgot', 'VBD'), ('white', 'JJ'), ('iphone', 'NN'), ('havent', 'NN'), ('even', 'RB'), ('month', 'NN'), ('started', 'VBD'), ('ghost', 'NN'), ('touch', 'NN'), ('updated', 'VBD'), ('changed', 'VBD'), ('screen', 'JJ'), ('protector', 'NN'), ('case', 'NN'), ('however', 'RB'), ('scratch', 'VB'), ('body', 'NN'), ('screen', 'JJ'), ('basically', 'RB'), ('brand', 'NN'), ('new', 'JJ'), ('also', 'RB'), ('noticed', 'VBN'), ('top', 'JJ'), ('right', 'NN'), ('corner', 'NN'), ('screen', 'NN'), ('started', 'VBD'), ('lift', 'NN'), ('kind', 'NN'), ('disappointed', 'VBD'), ('good', 'JJ'), ('phonewasnt', 'NN'), ('sure', 'JJ'), ('expect', 'VBP'), ('refurbished', 'VBN'), ('device', 'JJ'), ('comment', 'NN'), ('pretty', 'RB'), ('positive', 'JJ'), ('wasnt', 'NN'), ('happy', 'JJ'), ('mine', 'NN'), ('visible', 'JJ'), ('blemish', 'JJ'), ('screen', 'NN'), ('return', 'NN'), ('decided', 'VBD'), ('keeping', 'VBG'), ('price', 'NN'), ('applied', 'VBD'), ('screen', 'JJ'), ('protector', 'NN'), ('case', 'NN'), ('look', 'VB'), ('almost', 'RB'), ('good', 'JJ'), ('new', 'JJ'), ('battery', 'NN'), ('life', 'NN'), ('still', 'RB'), ('last', 'JJ'), ('full', 'JJ'), ('day', 'NN'), ('problem', 'NN'), ('idea', 'NN'), ('replacing', 'VBG'), ('battery', 'NN'), ('soon', 'RB'), ('bought', 'VBD'), ('iphone', 'NN'), ('awful', 'JJ'), ('dont', 'NN'), ('feel', 'NN'), ('need', 'VBP'), ('yet', 'RB'), ('battery', 'VBN'), ('really', 'RB'), ('great', 'JJ'), ('overall', 'JJ'), ('im', 'NN'), ('glad', 'NN'), ('got', 'VBD'), ('really', 'RB'), ('needed', 'VBN'), ('upgrade', 'NN'), ('iphonebought', 'NN'), ('purple', 'NN'), ('iphone', 'NN'), ('stone', 'NN'), ('digital', 'JJ'), ('despite', 'IN'), ('negative', 'JJ'), ('review', 'NN'), ('since', 'IN'), ('eligible', 'JJ'), ('return', 'NN'), ('however', 'RB'), ('phone', 'NN'), ('exceeded', 'VBD'), ('expectation', 'NN'), ('little', 'RB'), ('cosmetic', 'JJ'), ('damage', 'NN'), ('came', 'VBD'), ('clear', 'JJ'), ('case', 'NN'), ('screen', 'NN'), ('protector', 'NN'), ('wasnt', 'NN'), ('expecting', 'VBG'), ('activation', 'NN'), ('phone', 'NN'), ('simple', 'JJ'), ('easy', 'JJ'), ('factory', 'NN'), ('unlocked', 'JJ'), ('described', 'VBN'), ('problem', 'NN'), ('apple', 'NN'), ('id', 'NN'), ('camera', 'NN'), ('etc', 'NN'), ('waited', 'VBD'), ('week', 'NN'), ('truly', 'RB'), ('see', 'VB'), ('phone', 'NN'), ('operated', 'VBN'), ('par', 'IN'), ('glitching', 'VBG'), ('shutting', 'VBG'), ('facial', 'JJ'), ('recognition', 'NN'), ('work', 'NN'), ('perfectly', 'RB'), ('fine', 'JJ'), ('battery', 'NN'), ('life', 'NN'), ('amazing', 'VBG'), ('well', 'RB'), ('lasting', 'VBG'), ('full', 'JJ'), ('day', 'NN'), ('heavy', 'JJ'), ('use', 'NN'), ('experience', 'NN'), ('packaged', 'VBD'), ('product', 'NN'), ('also', 'RB'), ('made', 'VBD'), ('phone', 'NN'), ('feel', 'NN'), ('brand', 'NN'), ('new', 'JJ'), ('instead', 'RB'), ('second', 'JJ'), ('handfour', 'CD'), ('year', 'NN'), ('using', 'VBG'), ('android', 'JJ'), ('went', 'VBD'), ('back', 'RB'), ('iphone', 'NN'), ('since', 'IN'), ('everyone', 'NN'), ('else', 'RB'), ('family', 'NN'), ('iphone', 'NN'), ('didnt', 'NN'), ('want', 'VBP'), ('odd', 'JJ'), ('man', 'NN'), ('far', 'RB'), ('im', 'JJ'), ('liking', 'VBG'), ('technology', 'NN'), ('thought', 'VBN'), ('would', 'MD'), ('miss', 'VB'), ('fingerprint', 'NN'), ('scanner', 'NN'), ('samsung', 'VBD'), ('facial', 'JJ'), ('recognition', 'NN'), ('work', 'NN'), ('really', 'RB'), ('well', 'RB'), ('phone', 'NN'), ('everything', 'NN'), ('need', 'NN'), ('durable', 'JJ'), ('last', 'JJ'), ('iphone', 'NN'), ('buying', 'NN'), ('used', 'VBN'), ('amazon', 'RB'), ('certified', 'JJ'), ('price', 'NN'), ('good', 'NN'), ('reconditioned', 'VBD'), ('phone', 'NN'), ('look', 'NN'), ('good', 'JJ'), ('new', 'JJ'), ('one', 'CD'), ('far', 'RB'), ('good', 'JJ')], [('needed', 'VBN'), ('replace', 'VB'), ('teen', 'JJ'), ('iphone', 'NN'), ('absolutely', 'RB'), ('refuse', 'JJ'), ('pay', 'NN'), ('gross', 'JJ'), ('price', 'NN'), ('new', 'JJ'), ('phone', 'NN'), ('especially', 'RB'), ('teen', 'JJ'), ('tend', 'VBP'), ('break', 'JJ'), ('damage', 'NN'), ('phone', 'NN'), ('easier', 'JJR'), ('almost', 'RB'), ('bought', 'VBD'), ('refurbished', 'JJ'), ('phone', 'NN'), ('ebay', 'NN'), ('saw', 'VBD'), ('google', 'JJ'), ('amazon', 'NN'), ('sold', 'VBD'), ('amazon', 'RB'), ('better', 'RBR'), ('return', 'NN'), ('policy', 'NN'), ('im', 'NN'), ('familiar', 'JJ'), ('amazon', 'NN'), ('never', 'RB'), ('use', 'VBP'), ('ebay', 'JJ'), ('felt', 'VBD'), ('better', 'RBR'), ('buying', 'VBG'), ('far', 'RB'), ('phone', 'NN'), ('fine', 'JJ'), ('expected', 'VBN'), ('put', 'NN'), ('case', 'NN'), ('immediately', 'RB'), ('cosmetic', 'JJ'), ('flaw', 'NN'), ('werent', 'NN'), ('noticeable', 'JJ'), ('also', 'RB'), ('able', 'JJ'), ('finance', 'NN'), ('pay', 'NN'), ('overtime', 'RB'), ('great', 'JJ'), ('ill', 'JJ'), ('pay', 'NN'), ('sooner', 'RBR'), ('financing', 'NN'), ('term', 'NN'), ('still', 'RB'), ('better', 'RBR'), ('putting', 'VBG'), ('credit', 'NN'), ('card', 'NN'), ('paying', 'VBG'), ('full', 'JJ'), ('price', 'NN'), ('front', 'NN'), ('hope', 'NN'), ('hold', 'VBP'), ('month', 'NN'), ('cant', 'JJ'), ('say', 'VBP'), ('much', 'JJ'), ('elseskeptical', 'JJ'), ('get', 'VB'), ('one', 'CD'), ('renewed', 'VBN'), ('iphone', 'NN'), ('decided', 'VBD'), ('try', 'NN'), ('ordered', 'VBD'), ('iphone', 'JJ'), ('gb', 'JJ'), ('black', 'JJ'), ('receipt', 'NN'), ('day', 'NN'), ('got', 'VBD'), ('upon', 'JJ'), ('inspection', 'NN'), ('phone', 'NN'), ('cant', 'NN'), ('expect', 'VBP'), ('perfect', 'JJ'), ('condition', 'NN'), ('thats', 'NNS'), ('im', 'VBP'), ('giving', 'VBG'), ('star', 'NN'), ('little', 'JJ'), ('hair', 'NN'), ('scratch', 'VB'), ('lower', 'JJR'), ('side', 'NN'), ('phone', 'NN'), ('cant', 'NN'), ('really', 'RB'), ('see', 'VB'), ('since', 'IN'), ('applied', 'VBN'), ('screen', 'NN'), ('protector', 'NN'), ('cant', 'NN'), ('see', 'VBP'), ('around', 'IN'), ('camera', 'NN'), ('lens', 'VBZ'), ('light', 'JJ'), ('scratch', 'NN'), ('also', 'RB'), ('cant', 'JJ'), ('see', 'VBP'), ('hardly', 'RB'), ('noticeable', 'JJ'), ('battery', 'NN'), ('life', 'NN'), ('mine', 'NN'), ('say', 'VBP'), ('bad', 'JJ'), ('think', 'VBP'), ('let', 'VB'), ('see', 'VB'), ('go', 'VB'), ('im', 'JJ'), ('heavy', 'JJ'), ('daily', 'JJ'), ('user', 'NN'), ('could', 'MD'), ('problem', 'NN'), ('people', 'NNS'), ('connect', 'VBP'), ('mobile', 'JJ'), ('account', 'NN'), ('working', 'VBG'), ('everything', 'NN'), ('else', 'RB'), ('work', 'NN'), ('great', 'JJ'), ('camera', 'NN'), ('speaker', 'NN'), ('sound', 'VBD'), ('face', 'JJ'), ('recognition', 'NN'), ('great', 'JJ'), ('buy', 'NN'), ('save', 'VB'), ('money', 'NN'), ('new', 'JJ'), ('iphone', 'NN'), ('would', 'MD'), ('recommend', 'VB'), ('yes', 'JJR'), ('everyones', 'NNS'), ('experience', 'RBR'), ('different', 'JJ'), ('give', 'JJ'), ('day', 'NN'), ('return', 'VB'), ('exchangequick', 'JJ'), ('easy', 'JJ'), ('replacement', 'NN'), ('son', 'NN'), ('get', 'VB'), ('phone', 'NN'), ('quickly', 'RB'), ('since', 'IN'), ('pay', 'NN'), ('replacement', 'NN'), ('price', 'NN'), ('great', 'JJ'), ('also', 'RB'), ('phone', 'NN'), ('great', 'JJ'), ('condition', 'NN'), ('got', 'VBD'), ('packaged', 'VBN'), ('charger', 'NN'), ('brand', 'NN'), ('new', 'JJ'), ('cube', 'NN'), ('also', 'RB'), ('said', 'VBD'), ('screen', 'JJ'), ('protector', 'NN'), ('better', 'NN'), ('could', 'MD'), ('buy', 'VB'), ('store', 'NN'), ('buy', 'NN'), ('cover', 'NN'), ('amazon', 'NN'), ('also', 'RB'), ('skeptical', 'JJ'), ('buying', 'NN'), ('phone', 'NN'), ('provided', 'VBD'), ('carrier', 'NN'), ('everything', 'NN'), ('actually', 'RB'), ('turned', 'VBD'), ('greatbought', 'JJ'), ('thing', 'NN'), ('zero', 'NN'), ('problem', 'NN'), ('work', 'NN'), ('literally', 'RB'), ('booted', 'VBD'), ('everything', 'NN'), ('working', 'VBG'), ('everything', 'NN'), ('seems', 'VBZ'), ('line', 'NN'), ('thing', 'NN'), ('would', 'MD'), ('recommend', 'VB'), ('look', 'VB'), ('one', 'CD'), ('excellent', 'JJ'), ('condition', 'NN'), ('thats', 'VBZ'), ('one', 'CD'), ('got', 'VBD'), ('amazing', 'JJ'), ('zero', 'NN'), ('problem', 'NN'), ('would', 'MD'), ('highly', 'RB'), ('recommend', 'VB'), ('anybody', 'NN'), ('trying', 'VBG'), ('get', 'VB'), ('new', 'JJ'), ('iphone', 'NN'), ('one', 'CD'), ('refurbished', 'VBN'), ('theyre', 'NN'), ('greatphone', 'NN'), ('little', 'JJ'), ('glitch', 'JJ'), ('frist', 'NN'), ('recieved', 'VBD'), ('figured', 'JJ'), ('maybe', 'RB'), ('seeing', 'VBG'), ('thing', 'NN'), ('continued', 'VBD'), ('bout', 'RB'), ('two', 'CD'), ('month', 'NN'), ('glitch', 'NN'), ('lasted', 'VBD'), ('minute', 'JJ'), ('top', 'JJ'), ('corner', 'NN'), ('figured', 'VBD'), ('better', 'JJR'), ('send', 'NN'), ('backbuy', 'NN'), ('spree', 'JJ'), ('quickly', 'RB'), ('gave', 'VBD'), ('approval', 'NN'), ('printed', 'JJ'), ('shipment', 'NN'), ('label', 'NN'), ('returned', 'VBD'), ('productonce', 'NN'), ('phone', 'NN'), ('arrived', 'VBD'), ('gave', 'VBD'), ('prompt', 'JJ'), ('refund', 'NN'), ('puchaseim', 'NN'), ('sorry', 'NN'), ('didnt', 'NN'), ('work', 'NN'), ('definatly', 'RB'), ('would', 'MD'), ('use', 'VB'), ('buy', 'VB'), ('spree', 'JJ'), ('back', 'RB'), ('thier', 'JJR'), ('stuffthankslarrybought', 'NN'), ('one', 'CD'), ('used', 'VBN'), ('model', 'NN'), ('complaint', 'NN'), ('perfect', 'JJ'), ('form', 'NN'), ('aside', 'RB'), ('nearly', 'RB'), ('indistinguishable', 'JJ'), ('hairline', 'JJ'), ('crack', 'NN'), ('inch', 'NN'), ('long', 'RB'), ('center', 'NN'), ('expected', 'VBN'), ('used', 'JJ'), ('model', 'NN'), ('noticeable', 'JJ'), ('screen', 'JJ'), ('black', 'JJ'), ('battery', 'NN'), ('life', 'NN'), ('excellent', 'JJ'), ('go', 'VB'), ('entire', 'JJ'), ('day', 'NN'), ('one', 'CD'), ('charge', 'NN'), ('happens', 'VBZ'), ('minute', 'JJ'), ('hour', 'NN'), ('half', 'NN'), ('depending', 'VBG'), ('battery', 'NN'), ('level', 'NN'), ('camera', 'NN'), ('quality', 'NN'), ('beautiful', 'NN'), ('compared', 'VBN'), ('previous', 'JJ'), ('iphone', 'NN'), ('complaintgot', 'VBD'), ('white', 'JJ'), ('iphone', 'NN'), ('havent', 'NN'), ('even', 'RB'), ('month', 'NN'), ('started', 'VBD'), ('ghost', 'NN'), ('touch', 'NN'), ('updated', 'VBD'), ('changed', 'VBD'), ('screen', 'JJ'), ('protector', 'NN'), ('case', 'NN'), ('however', 'RB'), ('scratch', 'VB'), ('body', 'NN'), ('screen', 'JJ'), ('basically', 'RB'), ('brand', 'NN'), ('new', 'JJ'), ('also', 'RB'), ('noticed', 'VBN'), ('top', 'JJ'), ('right', 'NN'), ('corner', 'NN'), ('screen', 'NN'), ('started', 'VBD'), ('lift', 'NN'), ('kind', 'NN'), ('disappointed', 'VBD'), ('good', 'JJ'), ('phonewasnt', 'NN'), ('sure', 'JJ'), ('expect', 'VBP'), ('refurbished', 'VBN'), ('device', 'JJ'), ('comment', 'NN'), ('pretty', 'RB'), ('positive', 'JJ'), ('wasnt', 'NN'), ('happy', 'JJ'), ('mine', 'NN'), ('visible', 'JJ'), ('blemish', 'JJ'), ('screen', 'NN'), ('return', 'NN'), ('decided', 'VBD'), ('keeping', 'VBG'), ('price', 'NN'), ('applied', 'VBD'), ('screen', 'JJ'), ('protector', 'NN'), ('case', 'NN'), ('look', 'VB'), ('almost', 'RB'), ('good', 'JJ'), ('new', 'JJ'), ('battery', 'NN'), ('life', 'NN'), ('still', 'RB'), ('last', 'JJ'), ('full', 'JJ'), ('day', 'NN'), ('problem', 'NN'), ('idea', 'NN'), ('replacing', 'VBG'), ('battery', 'NN'), ('soon', 'RB'), ('bought', 'VBD'), ('iphone', 'NN'), ('awful', 'JJ'), ('dont', 'NN'), ('feel', 'NN'), ('need', 'VBP'), ('yet', 'RB'), ('battery', 'VBN'), ('really', 'RB'), ('great', 'JJ'), ('overall', 'JJ'), ('im', 'NN'), ('glad', 'NN'), ('got', 'VBD'), ('really', 'RB'), ('needed', 'VBN'), ('upgrade', 'NN'), ('iphonebought', 'NN'), ('purple', 'NN'), ('iphone', 'NN'), ('stone', 'NN'), ('digital', 'JJ'), ('despite', 'IN'), ('negative', 'JJ'), ('review', 'NN'), ('since', 'IN'), ('eligible', 'JJ'), ('return', 'NN'), ('however', 'RB'), ('phone', 'NN'), ('exceeded', 'VBD'), ('expectation', 'NN'), ('little', 'RB'), ('cosmetic', 'JJ'), ('damage', 'NN'), ('came', 'VBD'), ('clear', 'JJ'), ('case', 'NN'), ('screen', 'NN'), ('protector', 'NN'), ('wasnt', 'NN'), ('expecting', 'VBG'), ('activation', 'NN'), ('phone', 'NN'), ('simple', 'JJ'), ('easy', 'JJ'), ('factory', 'NN'), ('unlocked', 'JJ'), ('described', 'VBN'), ('problem', 'NN'), ('apple', 'NN'), ('id', 'NN'), ('camera', 'NN'), ('etc', 'NN'), ('waited', 'VBD'), ('week', 'NN'), ('truly', 'RB'), ('see', 'VB'), ('phone', 'NN'), ('operated', 'VBN'), ('par', 'IN'), ('glitching', 'VBG'), ('shutting', 'VBG'), ('facial', 'JJ'), ('recognition', 'NN'), ('work', 'NN'), ('perfectly', 'RB'), ('fine', 'JJ'), ('battery', 'NN'), ('life', 'NN'), ('amazing', 'VBG'), ('well', 'RB'), ('lasting', 'VBG'), ('full', 'JJ'), ('day', 'NN'), ('heavy', 'JJ'), ('use', 'NN'), ('experience', 'NN'), ('packaged', 'VBD'), ('product', 'NN'), ('also', 'RB'), ('made', 'VBD'), ('phone', 'NN'), ('feel', 'NN'), ('brand', 'NN'), ('new', 'JJ'), ('instead', 'RB'), ('second', 'JJ'), ('handfour', 'CD'), ('year', 'NN'), ('using', 'VBG'), ('android', 'JJ'), ('went', 'VBD'), ('back', 'RB'), ('iphone', 'NN'), ('since', 'IN'), ('everyone', 'NN'), ('else', 'RB'), ('family', 'NN'), ('iphone', 'NN'), ('didnt', 'NN'), ('want', 'VBP'), ('odd', 'JJ'), ('man', 'NN'), ('far', 'RB'), ('im', 'JJ'), ('liking', 'VBG'), ('technology', 'NN'), ('thought', 'VBN'), ('would', 'MD'), ('miss', 'VB'), ('fingerprint', 'NN'), ('scanner', 'NN'), ('samsung', 'VBD'), ('facial', 'JJ'), ('recognition', 'NN'), ('work', 'NN'), ('really', 'RB'), ('well', 'RB'), ('phone', 'NN'), ('everything', 'NN'), ('need', 'NN'), ('durable', 'JJ'), ('last', 'JJ'), ('iphone', 'NN'), ('buying', 'NN'), ('used', 'VBN'), ('amazon', 'RB'), ('certified', 'JJ'), ('price', 'NN'), ('good', 'NN'), ('reconditioned', 'VBD'), ('phone', 'NN'), ('look', 'NN'), ('good', 'JJ'), ('new', 'JJ'), ('one', 'CD'), ('far', 'RB'), ('good', 'JJ')]]\n",
      "\n",
      "[Counter({'NN': 225, 'JJ': 115, 'RB': 54, 'VBD': 40, 'VB': 23, 'VBG': 18, 'VBN': 17, 'VBP': 14, 'CD': 9, 'IN': 7, 'MD': 7, 'JJR': 5, 'RBR': 5, 'VBZ': 4, 'NNS': 3}), Counter({'NN': 225, 'JJ': 115, 'RB': 54, 'VBD': 40, 'VB': 23, 'VBG': 18, 'VBN': 17, 'VBP': 14, 'CD': 9, 'IN': 7, 'MD': 7, 'JJR': 5, 'RBR': 5, 'VBZ': 4, 'NNS': 3}), Counter({'NN': 225, 'JJ': 115, 'RB': 54, 'VBD': 40, 'VB': 23, 'VBG': 18, 'VBN': 17, 'VBP': 14, 'CD': 9, 'IN': 7, 'MD': 7, 'JJR': 5, 'RBR': 5, 'VBZ': 4, 'NNS': 3}), Counter({'NN': 225, 'JJ': 115, 'RB': 54, 'VBD': 40, 'VB': 23, 'VBG': 18, 'VBN': 17, 'VBP': 14, 'CD': 9, 'IN': 7, 'MD': 7, 'JJR': 5, 'RBR': 5, 'VBZ': 4, 'NNS': 3}), Counter({'NN': 225, 'JJ': 115, 'RB': 54, 'VBD': 40, 'VB': 23, 'VBG': 18, 'VBN': 17, 'VBP': 14, 'CD': 9, 'IN': 7, 'MD': 7, 'JJR': 5, 'RBR': 5, 'VBZ': 4, 'NNS': 3}), Counter({'NN': 225, 'JJ': 115, 'RB': 54, 'VBD': 40, 'VB': 23, 'VBG': 18, 'VBN': 17, 'VBP': 14, 'CD': 9, 'IN': 7, 'MD': 7, 'JJR': 5, 'RBR': 5, 'VBZ': 4, 'NNS': 3}), Counter({'NN': 225, 'JJ': 115, 'RB': 54, 'VBD': 40, 'VB': 23, 'VBG': 18, 'VBN': 17, 'VBP': 14, 'CD': 9, 'IN': 7, 'MD': 7, 'JJR': 5, 'RBR': 5, 'VBZ': 4, 'NNS': 3}), Counter({'NN': 225, 'JJ': 115, 'RB': 54, 'VBD': 40, 'VB': 23, 'VBG': 18, 'VBN': 17, 'VBP': 14, 'CD': 9, 'IN': 7, 'MD': 7, 'JJR': 5, 'RBR': 5, 'VBZ': 4, 'NNS': 3}), Counter({'NN': 225, 'JJ': 115, 'RB': 54, 'VBD': 40, 'VB': 23, 'VBG': 18, 'VBN': 17, 'VBP': 14, 'CD': 9, 'IN': 7, 'MD': 7, 'JJR': 5, 'RBR': 5, 'VBZ': 4, 'NNS': 3}), Counter({'NN': 225, 'JJ': 115, 'RB': 54, 'VBD': 40, 'VB': 23, 'VBG': 18, 'VBN': 17, 'VBP': 14, 'CD': 9, 'IN': 7, 'MD': 7, 'JJR': 5, 'RBR': 5, 'VBZ': 4, 'NNS': 3})]\n",
      "\n",
      "Grammar with 11 productions (start state = S)\n",
      "    S -> NP VP\n",
      "    VP -> V NP\n",
      "    PP -> P NP\n",
      "    NP -> NP PP\n",
      "    NP -> Det N\n",
      "    NP -> 'Peter'\n",
      "    NP -> 'Denver'\n",
      "    V -> 'prefers'\n",
      "    P -> 'from'\n",
      "    N -> 'flight'\n",
      "    Det -> 'the'\n",
      "(S\n",
      "  (NP Peter)\n",
      "  (VP\n",
      "    (V prefers)\n",
      "    (NP (NP (Det the) (N flight)) (PP (P from) (NP Denver)))))\n",
      "Collecting svgling==0.3.1\n",
      "  Downloading svgling-0.3.1-py3-none-any.whl (21 kB)\n",
      "Collecting svgwrite\n",
      "  Downloading svgwrite-1.4.3-py3-none-any.whl (67 kB)\n",
      "Installing collected packages: svgwrite, svgling\n",
      "Successfully installed svgling-0.3.1 svgwrite-1.4.3\n",
      "\n",
      "\n"
     ]
    },
    {
     "ename": "ModuleNotFoundError",
     "evalue": "No module named 'en_core_web_sm'",
     "output_type": "error",
     "traceback": [
      "\u001b[1;31m---------------------------------------------------------------------------\u001b[0m",
      "\u001b[1;31mModuleNotFoundError\u001b[0m                       Traceback (most recent call last)",
      "Input \u001b[1;32mIn [18]\u001b[0m, in \u001b[0;36m<cell line: 44>\u001b[1;34m()\u001b[0m\n\u001b[0;32m     40\u001b[0m \u001b[38;5;28mprint\u001b[39m(\u001b[38;5;124m\"\u001b[39m\u001b[38;5;130;01m\\n\u001b[39;00m\u001b[38;5;124m\"\u001b[39m)\n\u001b[0;32m     43\u001b[0m \u001b[38;5;66;03m#3\u001b[39;00m\n\u001b[1;32m---> 44\u001b[0m \u001b[38;5;28;01mimport\u001b[39;00m \u001b[38;5;21;01men_core_web_sm\u001b[39;00m\n\u001b[0;32m     45\u001b[0m nlp \u001b[38;5;241m=\u001b[39m en_core_web_sm\u001b[38;5;241m.\u001b[39mload()\n\u001b[0;32m     46\u001b[0m nep \u001b[38;5;241m=\u001b[39m \u001b[38;5;28mlist\u001b[39m()\n",
      "\u001b[1;31mModuleNotFoundError\u001b[0m: No module named 'en_core_web_sm'"
     ]
    }
   ],
   "source": [
    "# Write your code here\n",
    "import spacy\n",
    "nltk.download('punkt')\n",
    "from spacy import displacy\n",
    "from nltk import word_tokenize, pos_tag, pos_tag_sents\n",
    "nltk.download('averaged_perceptron_tagger')\n",
    "from nltk.tokenize import word_tokenize\n",
    "from collections import Counter\n",
    "pos = [nltk.pos_tag(word_tokenize(sent)) for sent in df.Description]\n",
    "print(pos, end=\"\\n\\n\")\n",
    "count = [Counter(tag for words, tag in tags) for tags in pos]\n",
    "print(count, end=\"\\n\\n\")\n",
    "\n",
    "import nltk\n",
    "from nltk import Production, CFG\n",
    "# grammar\n",
    "cgrammar = nltk.CFG.fromstring(\"\"\"\n",
    "S -> NP VP\n",
    "VP -> V NP\n",
    "PP -> P NP\n",
    "NP -> NP PP | Det N | 'Peter' | 'Denver'\n",
    "V -> 'prefers'\n",
    "P -> 'from'\n",
    "N -> 'flight'\n",
    "Det -> 'the'\n",
    "\"\"\")\n",
    "# print grammar\n",
    "print(cgrammar, end='\\n')\n",
    "sent = ['Peter', 'prefers', 'the', 'flight', 'from', 'Denver']\n",
    "# Using Chart Parser\n",
    "cparser = nltk.ChartParser(cgrammar)\n",
    "for tree in cparser.parse(sent):\n",
    "  print(tree, end=\"\\n\")\n",
    "# drawing trees\n",
    "!pip install svgling==0.3.1\n",
    "import svgling\n",
    "svgling.draw_tree(tree)\n",
    "print(\"\\n\")\n",
    "\n",
    "\n",
    "#3\n",
    "import en_core_web_sm\n",
    "nlp = en_core_web_sm.load()\n",
    "nep = list()\n",
    "for sentence in df.Description:\n",
    "  doc=nlp(sentence)\n",
    "  for X in doc.ents:\n",
    "    if X.text and X.label_:\n",
    "      nep.append((X.text, X.label_))\n",
    "print(nep, end=\"\\n\")\n",
    "\n",
    "\n",
    "\n",
    "\n"
   ]
  },
  {
   "cell_type": "markdown",
   "metadata": {
    "colab_type": "text",
    "id": "xWOtvT2rHNWy"
   },
   "source": [
    "**Write your explanations of the constituency parsing tree and dependency parsing tree here (Question 3-2):** "
   ]
  },
  {
   "cell_type": "code",
   "execution_count": null,
   "metadata": {},
   "outputs": [],
   "source": [
    "The concept of context-free grammars serves as the foundation for the constituency parse tree. This kind of sentence tree separates the sentence into sub-phrases that fall under a particular grammar category.\n",
    "The words of the phrase are always the terminal nodes of a constituency parse tree.The remaining non-terminal nodes reflect the sentence components, which are typically a verb phrase, a noun phrase, or a prepositional phrase (PP).\n",
    "\n",
    "Dependency Phrasal components and sub-phrases are not used in parsing. Instead, dependencies between words—that is, typed, directed edges between words in a graph—are used to define the sentence syntax.\n",
    "While constituency parsing shows the whole sentence structure and relationships, dependency parsing just shows the relationships between words and their constituents. Constituency parsing is frequently simpler to read and understand, despite the fact that dependency parsing is frequently lauded for being succinct and informative."
   ]
  }
 ],
 "metadata": {
  "colab": {
   "authorship_tag": "ABX9TyNljc+o/lciN8B4S0X1+1d9",
   "collapsed_sections": [],
   "include_colab_link": true,
   "name": "INFO5731_Assignment_Two.ipynb",
   "provenance": []
  },
  "kernelspec": {
   "display_name": "Python 3 (ipykernel)",
   "language": "python",
   "name": "python3"
  },
  "language_info": {
   "codemirror_mode": {
    "name": "ipython",
    "version": 3
   },
   "file_extension": ".py",
   "mimetype": "text/x-python",
   "name": "python",
   "nbconvert_exporter": "python",
   "pygments_lexer": "ipython3",
   "version": "3.9.12"
  }
 },
 "nbformat": 4,
 "nbformat_minor": 1
}
