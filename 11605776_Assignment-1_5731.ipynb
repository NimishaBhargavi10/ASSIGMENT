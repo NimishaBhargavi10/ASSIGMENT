{
 "cells": [
  {
   "cell_type": "markdown",
   "metadata": {
    "colab_type": "text",
    "id": "view-in-github"
   },
   "source": [
    "<a href=\"https://colab.research.google.com/github/unt-iialab/INFO5731_Spring2020/blob/master/In_class_exercise/In_class_exercise_01.ipynb\" target=\"_parent\"><img src=\"https://colab.research.google.com/assets/colab-badge.svg\" alt=\"Open In Colab\"/></a>"
   ]
  },
  {
   "cell_type": "markdown",
   "metadata": {
    "colab_type": "text",
    "id": "DymRJbxDBCnf"
   },
   "source": [
    "# **The first In-class-exercise (09/07/2022, 40 points in total)**"
   ]
  },
  {
   "cell_type": "markdown",
   "metadata": {
    "colab_type": "text",
    "id": "03jb4GZsBkBS"
   },
   "source": [
    "(1) Write a Python program to calculate the length of a string. (4 points)"
   ]
  },
  {
   "cell_type": "code",
   "execution_count": 20,
   "metadata": {
    "colab": {},
    "colab_type": "code",
    "id": "YaGLbSHHB8Ej"
   },
   "outputs": [
    {
     "name": "stdout",
     "output_type": "stream",
     "text": [
      "Enter a string: Nimisha\n",
      "Length of given string is: 7\n"
     ]
    }
   ],
   "source": [
    "#write your answer here\n",
    "String = input(\"Enter a string: \")\n",
    "count=len(String)\n",
    "print(\"Length of given string is:\", count)"
   ]
  },
  {
   "cell_type": "markdown",
   "metadata": {
    "colab_type": "text",
    "id": "jJDe71iLB616"
   },
   "source": [
    "(2) Write a Python program to count the number of characters in a string. (4 points)\n",
    "\n",
    "Sample String : 'google.com‘, \n",
    "\n",
    "Expected Result : {'o': 3, 'g': 2, '.': 1, 'e': 1, 'l': 1, 'm': 1, 'c': 1}"
   ]
  },
  {
   "cell_type": "code",
   "execution_count": 17,
   "metadata": {
    "colab": {},
    "colab_type": "code",
    "id": "MtKskTzbCLaU"
   },
   "outputs": [
    {
     "name": "stdout",
     "output_type": "stream",
     "text": [
      "Enter String: google.com\n",
      "{'o': 3, 'g': 2, 'm': 1, 'c': 1, '.': 1, 'e': 1, 'l': 1}\n"
     ]
    }
   ],
   "source": [
    "# write your answer here\n",
    "String = input(\"Enter String: \")\n",
    "Dict = {}\n",
    "for i in String:\n",
    "    Dict[i]= String.count(i)\n",
    "Sort_Dict= dict(reversed(sorted(Dict.items(), key=lambda i:i[1])))\n",
    "print(Sort_Dict)"
   ]
  },
  {
   "cell_type": "markdown",
   "metadata": {
    "colab_type": "text",
    "id": "55W9AMdXCSpV"
   },
   "source": [
    "(3) Write a Python program to sum all the items in a list. (4 points)"
   ]
  },
  {
   "cell_type": "code",
   "execution_count": 1,
   "metadata": {
    "colab": {},
    "colab_type": "code",
    "id": "I57NXsauCec2"
   },
   "outputs": [
    {
     "name": "stdout",
     "output_type": "stream",
     "text": [
      "Enter items in the list seperated by Space: 1 2 3\n",
      "Sum of all items in given list:  6\n"
     ]
    }
   ],
   "source": [
    "# write your answer here\n",
    "List= list(map(int,input(\"Enter items in the list seperated by Space: \").split(\" \")))\n",
    "print(\"Sum of all items in given list: \", sum(List))\n"
   ]
  },
  {
   "cell_type": "markdown",
   "metadata": {
    "colab_type": "text",
    "id": "4ulBZ6yhCi9F"
   },
   "source": [
    "(4) Write a Python program to get a string from a given string where all occurrences of its first char have been changed to '\\$', except the first char itself. (4 points)\n",
    "\n",
    "Sample String : 'restart‘, \n",
    "\n",
    "Expected Result : 'resta\\$t'"
   ]
  },
  {
   "cell_type": "code",
   "execution_count": 3,
   "metadata": {
    "colab": {},
    "colab_type": "code",
    "id": "Fj0XhwbBCw2o"
   },
   "outputs": [
    {
     "name": "stdout",
     "output_type": "stream",
     "text": [
      "Enter String: restart\n",
      "Expected Result:  resta$t\n"
     ]
    }
   ],
   "source": [
    "# write your answer here\n",
    "String= input(\"Enter String: \")\n",
    "print(\"Expected Result: \", String[0]+String[1:].replace(String[0],\"$\"))\n"
   ]
  },
  {
   "cell_type": "markdown",
   "metadata": {
    "colab_type": "text",
    "id": "_bIP7s1MCzue"
   },
   "source": [
    "(5) Write a program with python which could accept two parameter a and b to calculate and output the result of S, where \n",
    "\n",
    "$\\ S=3.14*(1+a/b)^3$ (4 points)\n",
    "\n"
   ]
  },
  {
   "cell_type": "code",
   "execution_count": 18,
   "metadata": {
    "colab": {},
    "colab_type": "code",
    "id": "w79QilHXD3Mg"
   },
   "outputs": [
    {
     "name": "stdout",
     "output_type": "stream",
     "text": [
      "enter value of a:1\n",
      "enter value of b:2\n",
      "Result of S is: 10.5975\n"
     ]
    }
   ],
   "source": [
    "# write your answer here\n",
    "a= int(input(\"enter value of a:\"))\n",
    "b= int(input(\"enter value of b:\"))\n",
    "S= 3.14*((1+a/b)**3)\n",
    "print(\"Result of S is:\",S)\n"
   ]
  },
  {
   "cell_type": "markdown",
   "metadata": {
    "colab_type": "text",
    "id": "xCa2bK9aD4Q3"
   },
   "source": [
    "(6) Write a Python program to concatenate following dictionaries to create a new one. (4 points)\n",
    "\n",
    "Sample Dictionary : dic1={1:10, 2:20}, dic2={3:30, 4:40}, dic3={5:50,6:60}, \n",
    "\n",
    "Expected Result : {1: 10, 2: 20, 3: 30, 4: 40, 5: 50, 6: 60}\n"
   ]
  },
  {
   "cell_type": "code",
   "execution_count": 21,
   "metadata": {
    "colab": {},
    "colab_type": "code",
    "id": "_z4aLqAbEET1"
   },
   "outputs": [
    {
     "name": "stdout",
     "output_type": "stream",
     "text": [
      "{1: 10, 2: 20, 3: 30, 4: 40, 5: 50, 6: 60}\n"
     ]
    }
   ],
   "source": [
    "# write your answer here\n",
    "dic1={1:10, 2:20}\n",
    "dic2={3:30, 4:40} \n",
    "dic3={5:50,6:60}\n",
    "dic4={}\n",
    "for items in (dic1, dic2, dic3): dic4.update(items)\n",
    "print(dic4)\n",
    "\n"
   ]
  },
  {
   "cell_type": "markdown",
   "metadata": {
    "colab_type": "text",
    "id": "0v48Vqa7FrQh"
   },
   "source": [
    "(7) Write a Python program to check whether an element exists within a tuple. (4 points)"
   ]
  },
  {
   "cell_type": "code",
   "execution_count": 25,
   "metadata": {
    "colab": {},
    "colab_type": "code",
    "id": "7WEmgq-DF2P1"
   },
   "outputs": [
    {
     "name": "stdout",
     "output_type": "stream",
     "text": [
      "Enter a character = s\n",
      "True\n"
     ]
    }
   ],
   "source": [
    "# write your answer here\n",
    "Tuple = (\"n\",\"i\",\"m\",\"i\",\"s\",\"h\",\"a\")\n",
    "Input = input(\"Enter a character = \")\n",
    "print(Input in Tuple)\n",
    "\n"
   ]
  },
  {
   "cell_type": "markdown",
   "metadata": {
    "colab_type": "text",
    "id": "vD5PYLMuGga_"
   },
   "source": [
    "(8) Write a Python program to find maximum and the minimum value in a set. (4 points)"
   ]
  },
  {
   "cell_type": "code",
   "execution_count": 4,
   "metadata": {
    "colab": {},
    "colab_type": "code",
    "id": "t0D5kdJUGjjw"
   },
   "outputs": [
    {
     "name": "stdout",
     "output_type": "stream",
     "text": [
      "Enter elements: 1 2 2 1 4\n",
      "{1, 2, 4}\n",
      "minimum value in the list is: 1\n",
      "maximum value in the list is: 4\n"
     ]
    }
   ],
   "source": [
    "# write your answer here\n",
    "Set= set(map(int,input(\"Enter elements: \").split(\" \")))\n",
    "print(Set)\n",
    "min_value=min(Set)\n",
    "max_value=max(Set)\n",
    "print(\"minimum value in the list is:\",min_value)\n",
    "print(\"maximum value in the list is:\",max_value)\n"
   ]
  },
  {
   "cell_type": "markdown",
   "metadata": {
    "colab_type": "text",
    "id": "uHkd-y5VhVWC"
   },
   "source": [
    "(9) Write a Python program to randomly divide the students in this class into six groups for term projects, each group should have at least 4 students but no more than 6 students (including 6). Here is the students list: (4 points)\n",
    "\n",
    "studnet_list = ['ja0964','sa1198','sb1357','vb0218','sc1229','kg0569','kg0470','sg1297','bg0320','fh0141','jl1252','sk1386',\n",
    "           'ak0956','sk1390','sk1458','sk1313','ak0934','vm0377','nm0618','sm1640','sm1907','gn0108','pr0353','dr0609','ms1500','aos0040','ds0814', 'av0659','nv0234','hy0232']"
   ]
  },
  {
   "cell_type": "code",
   "execution_count": 4,
   "metadata": {
    "colab": {},
    "colab_type": "code",
    "id": "3iGbmcOBhTwy"
   },
   "outputs": [
    {
     "name": "stdout",
     "output_type": "stream",
     "text": [
      "[['ak0956', 'sm1907', 'ak0934', 'dr0609', 'sm1640'], ['fh0141', 'nv0234', 'av0659', 'aos0040', 'sk1390'], ['nm0618', 'ja0964', 'hy0232', 'sk1386', 'vm0377'], ['ds0814', 'bg0320', 'vb0218', 'sc1229', 'sa1198'], ['sg1297', 'sk1458', 'ms1500', 'sk1313', 'kg0470'], ['gn0108', 'kg0569', 'jl1252', 'sb1357', 'pr0353']]\n"
     ]
    }
   ],
   "source": [
    "# write your answer here\n",
    "import random\n",
    "student_list = ['ja0964','sa1198','sb1357','vb0218','sc1229','kg0569','kg0470','sg1297','bg0320','fh0141','jl1252','sk1386', 'ak0956','sk1390','sk1458','sk1313','ak0934','vm0377','nm0618','sm1640','sm1907','gn0108','pr0353','dr0609','ms1500','aos0040','ds0814', 'av0659','nv0234','hy0232']\n",
    "#print(len(student_list))\n",
    "random.shuffle(student_list)\n",
    "Groups=[]\n",
    "NumberOfGroups=6\n",
    "for i in range(0,NumberOfGroups):\n",
    "    Groups.append(student_list[i::NumberOfGroups])\n",
    "print(Groups)\n"
   ]
  },
  {
   "cell_type": "markdown",
   "metadata": {},
   "source": [
    "(10) Write a Python program to find the duplicate elements in a given array of integers. Return -1 If there are no such elements. (4 points)"
   ]
  },
  {
   "cell_type": "code",
   "execution_count": 13,
   "metadata": {},
   "outputs": [
    {
     "name": "stdout",
     "output_type": "stream",
     "text": [
      "Enter size of Array: 4\n",
      "Enter element :1\n",
      "Enter element :2\n",
      "Enter element :2\n",
      "Enter element :3\n",
      "Duplicate Integers [2]\n"
     ]
    }
   ],
   "source": [
    "# write your answer here\n",
    "Array_length= int(input(\"Enter size of Array: \"))\n",
    "Array=[]\n",
    "for i in range(0,Array_length):\n",
    "    Array.append(int(input(\"Enter element :\")))\n",
    "Set=set(Array)\n",
    "Result=[]\n",
    "for i in Set:\n",
    "    if(Array.count(i)>1):\n",
    "        Result.append(i)\n",
    "if(len(Result)==0):\n",
    "    print(\"-1\")\n",
    "else:\n",
    "    print(\"Duplicate Integers\",Result)"
   ]
  },
  {
   "cell_type": "markdown",
   "metadata": {},
   "source": [
    "(11) Write a Python program to select all the Sundays of a specified year. (4 extra points)"
   ]
  },
  {
   "cell_type": "code",
   "execution_count": 6,
   "metadata": {},
   "outputs": [
    {
     "name": "stdout",
     "output_type": "stream",
     "text": [
      "Enter year: 2020\n",
      "2020-01-05\n",
      "2020-01-12\n",
      "2020-01-19\n",
      "2020-01-26\n",
      "2020-02-02\n",
      "2020-02-09\n",
      "2020-02-16\n",
      "2020-02-23\n",
      "2020-03-01\n",
      "2020-03-08\n",
      "2020-03-15\n",
      "2020-03-22\n",
      "2020-03-29\n",
      "2020-04-05\n",
      "2020-04-12\n",
      "2020-04-19\n",
      "2020-04-26\n",
      "2020-05-03\n",
      "2020-05-10\n",
      "2020-05-17\n",
      "2020-05-24\n",
      "2020-05-31\n",
      "2020-06-07\n",
      "2020-06-14\n",
      "2020-06-21\n",
      "2020-06-28\n",
      "2020-07-05\n",
      "2020-07-12\n",
      "2020-07-19\n",
      "2020-07-26\n",
      "2020-08-02\n",
      "2020-08-09\n",
      "2020-08-16\n",
      "2020-08-23\n",
      "2020-08-30\n",
      "2020-09-06\n",
      "2020-09-13\n",
      "2020-09-20\n",
      "2020-09-27\n",
      "2020-10-04\n",
      "2020-10-11\n",
      "2020-10-18\n",
      "2020-10-25\n",
      "2020-11-01\n",
      "2020-11-08\n",
      "2020-11-15\n",
      "2020-11-22\n",
      "2020-11-29\n",
      "2020-12-06\n",
      "2020-12-13\n",
      "2020-12-20\n",
      "2020-12-27\n"
     ]
    }
   ],
   "source": [
    "# write your answer here\n",
    "from datetime import date, timedelta  \n",
    "  \n",
    "def SundaysInYear(year):    \n",
    "       Date = date(year, 1, 1)        \n",
    "       Date += timedelta(days = 6 - Date.weekday())    \n",
    "       while Date.year == year:  \n",
    "          yield Date  \n",
    "          Date += timedelta(days = 7)  \n",
    "            \n",
    "for i in SundaysInYear(int(input(\"Enter year: \"))):  \n",
    "   print(i)  \n"
   ]
  },
  {
   "cell_type": "code",
   "execution_count": null,
   "metadata": {},
   "outputs": [],
   "source": []
  }
 ],
 "metadata": {
  "colab": {
   "collapsed_sections": [],
   "include_colab_link": true,
   "name": "In_class_exercise_01.ipynb",
   "provenance": []
  },
  "kernelspec": {
   "display_name": "Python 3 (ipykernel)",
   "language": "python",
   "name": "python3"
  },
  "language_info": {
   "codemirror_mode": {
    "name": "ipython",
    "version": 3
   },
   "file_extension": ".py",
   "mimetype": "text/x-python",
   "name": "python",
   "nbconvert_exporter": "python",
   "pygments_lexer": "ipython3",
   "version": "3.9.12"
  }
 },
 "nbformat": 4,
 "nbformat_minor": 1
}
